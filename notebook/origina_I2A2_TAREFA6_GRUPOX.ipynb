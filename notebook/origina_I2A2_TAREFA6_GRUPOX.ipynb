{
 "cells": [
  {
   "cell_type": "markdown",
   "metadata": {
    "id": "YiSikK__wiqY"
   },
   "source": [
    "# **&#9776; DESAFIO VI**\n",
    "---"
   ]
  },
  {
   "cell_type": "markdown",
   "metadata": {
    "id": "PeOlLahi9dH5"
   },
   "source": [
    "# **:: Leitura Inicial**"
   ]
  },
  {
   "cell_type": "markdown",
   "metadata": {
    "id": "-pv2lqp59G-5"
   },
   "source": [
    "<h4 align=\"justify\">Para o Desafio 6, todos os grupos deverão realizar a leitura do texto abaixo como parte do momento de reflexão. Para acessar o conteúdo, clique no link disponibilizado a seguir.</h4>\n",
    "<a href=\"https://cop.dol.com.br/amazonia/o-que-fazer-com-aquele-eletronico-que-nao-serve-mais/7682/\" target=\"_blank\">Saiba o que fazer com aquele eletrônico que não serve mais</a>"
   ]
  },
  {
   "cell_type": "markdown",
   "metadata": {
    "id": "RgrPBXW1CGJ4"
   },
   "source": [
    "# **:: Contextualização do Desafio**"
   ]
  },
  {
   "cell_type": "markdown",
   "metadata": {
    "id": "aQRU3qQ1COIL"
   },
   "source": [
    "<h4 align=\"justify\">A Amazônia é conhecida mundialmente por sua biodiversidade e pela importância vital para o equilíbrio climático do planeta. No entanto, para além do desmatamento e da poluição dos rios, existe uma ameaça crescente e silenciosa que também chega à região: o lixo eletrônico. Computadores, celulares, televisores, pilhas e baterias descartados de forma incorreta liberam metais pesados, como mercúrio, chumbo e cádmio, contaminando solo, rios e entrando na cadeia alimentar que sustenta populações inteiras.</h4>\n",
    "<h4 align=\"justify\">Esse problema não é exclusivo da Amazônia, mas ganha contornos mais graves no território amazônico, onde a logística de transporte e a ausência de infraestrutura adequada tornam o descarte ainda mais desafiador. Muitas vezes, equipamentos quebrados acabam abandonados em áreas urbanas, lixões ou até mesmo despejados em rios, ampliando os riscos ambientais e de saúde pública.</h4>\n",
    "<h4 align=\"justify\">Relatórios internacionais já apontam o Brasil como um dos maiores produtores de lixo eletrônico do mundo, com índices de reciclagem muito abaixo do ideal. Dentro desse cenário, o papel dos Tecnoguardas da Amazônia é analisar os dados disponíveis e propor soluções baseadas em evidências, que ajudem a transformar informação em ação prática para reduzir os danos ambientais.</h4>\n",
    "<h4 align=\"justify\">Para enfrentar esse desafio, vocês receberão uma base de dados fictícia inspirada em situações reais de descarte de lixo eletrônico na Amazônia. O dataset contém informações sobre diferentes tipos de eletrônicos descartados, suas origens, possíveis destinos, além de indicadores socioambientais. Porém, como ocorre na vida real, esses dados não estão limpos: há registros incompletos, duplicados, inconsistentes e com ruídos que dificultarão a análise.</h4>\n",
    "<h4 align=\"justify\">A missão exige que vocês usem todas as habilidades adquiridas no Bloco 4 – Manipulação e Visualização de Dados. Será necessário trabalhar com Pandas para explorar, tratar e transformar os dados; aplicar agrupamentos e agregações para identificar padrões relevantes; e utilizar bibliotecas de visualização como Matplotlib e Seaborn para comunicar insights de maneira clara e impactante.</h4>\n",
    "<h4 align=\"justify\">A dificuldade não estará apenas na manipulação dos dados, mas também em interpretar o que eles significam em termos ambientais e sociais. Como bons Tecnoguardas, vocês devem ser capazes de enxergar além dos números: perceber tendências, apontar riscos e até sugerir ações preventivas que poderiam ser aplicadas por governos, ONGs ou comunidades locais.</h4>\n",
    "<h4 align=\"justify\">O <b>Desafio 6 é um desafio de nível elevado</b> porque vai exigir resiliência, pensamento crítico e criatividade. Não será suficiente aplicar funções básicas de Pandas ou gerar gráficos simples. Vocês precisarão testar hipóteses, organizar relatórios visuais coerentes e lidar com a frustração de trabalhar com dados imperfeitos — exatamente como ocorre no mundo real da ciência de dados aplicada à sustentabilidade.</h4>\n",
    "<h4 align=\"justify\">Ao final, o objetivo é que cada equipe consiga <b>apresentar um diagnóstico robusto sobre o cenário do lixo eletrônico na Amazônia, baseado na base fornecida</b>. Esse diagnóstico deve se apoiar em análises exploratórias profundas, combinações de variáveis, comparações entre grupos e visualizações poderosas, capazes de sensibilizar qualquer tomador de decisão sobre a urgência de enfrentar o problema.</h4>"
   ]
  },
  {
   "cell_type": "markdown",
   "metadata": {
    "id": "_LHOBIx_aMbR"
   },
   "source": [
    "# **:: Critério de Avaliação do Trabalho em Grupo**"
   ]
  },
  {
   "cell_type": "markdown",
   "metadata": {
    "id": "gYxiZ_YNegKn"
   },
   "source": [
    "## **Critérios (0–100)**\n",
    "\n",
    "**Carregamento, EDA e diagnóstico inicial (10 pts)**\n",
    "\n",
    "&bullet; Lê corretamente o CSV; mostra shape, info(), estatísticas e contagem de NaN/duplicatas (6).\n",
    "\n",
    "&bullet; Comentários iniciais claros sobre qualidade do dado (4).\n",
    "\n",
    "**Limpeza e padronização (12 pts)**\n",
    "\n",
    "&bullet; Padroniza categorias (ex.: capitalização/acentos), corrige inconsistências e remove duplicatas com justificativa (7).\n",
    "\n",
    "&bullet; Explica decisões (ex.: quando dropar/ imputar) (5).\n",
    "\n",
    "**Tratamento de missing values (10 pts)**\n",
    "\n",
    "&bullet; Estratégias coerentes por coluna (imputação/dropar/flag) (6).\n",
    "\n",
    "&bullet; Justifica impacto nas análises subsequentes (4).\n",
    "\n",
    "**Agrupamentos e agregações (12 pts)**\n",
    "\n",
    "&bullet; Uso correto de groupby / pivot_table para métricas pedidas (7).\n",
    "\n",
    "&bullet; Ordenação, formatação e interpretação dos resultados (5).\n",
    "\n",
    "**Análises cruzadas e tabelas de contingência (8 pts)**\n",
    "\n",
    "&bullet; Cruza variáveis-chave (tipo × destino, origem × tipo) com proporções (5).\n",
    "\n",
    "&bullet; Discute padrões relevantes (3).\n",
    "\n",
    "**Análise temporal/exploratória avançada (8 pts)**\n",
    "\n",
    "&bullet; Série temporal/mês/ano, suavização (média móvel) quando aplicável (5).\n",
    "\n",
    "&bullet; Interpretação de sazonalidade/tendências (3).\n",
    "\n",
    "**Visualização (Matplotlib/Seaborn) (14 pts)**\n",
    "\n",
    "&bullet; Escolha adequada de gráficos (barras, heatmap, box/violin, linhas) com rótulos, legendas, unidades e títulos (8).\n",
    "\n",
    "&bullet; Legibilidade e estética (paleta consistente, grid/opcional, tamanho) (3).\n",
    "\n",
    "&bullet; Evita “chartjunk”, eixos corretos/escala (3).\n",
    "\n",
    "**Detecção e discussão de outliers (6 pts)**\n",
    "\n",
    "&bullet; Identifica outliers (ex.: boxplot/IQR/z-score) (3).\n",
    "\n",
    "&bullet; Discute possíveis causas e impactos (3).\n",
    "\n",
    "**Qualidade do código e reprodutibilidade (10 pts)**\n",
    "\n",
    "&bullet; Notebook executa do topo ao fim, sem erros; células ordenadas; semente quando necessário (5).\n",
    "\n",
    "&bullet; &bullet; Código claro, funções auxiliares quando útil, comentários objetivos, sem “células mortas” (5).\n",
    "\n",
    "**Insight integrador e proposta prática (10 pts)**\n",
    "\n",
    "&bullet; Integra achados das Atividades 1–9 para gerar novo insight consistente (6).\n",
    "\n",
    "&bullet; Proposta acionável coerente com o contexto amazônico (4)."
   ]
  },
  {
   "cell_type": "markdown",
   "metadata": {
    "id": "rIJeq6M8fkpl"
   },
   "source": [
    "## **Formato e nome do arquivo (obrigatório)**\n",
    "\n",
    "Entregar notebook Colab no formato: I2A2_TAREFA6_GRUPOX.ipynb, trocando X pelo número do grupo.\n",
    "\n",
    "&bullet; Ex.: <b>grupo 23</b> → I2A2_TAREFA6_<b>GRUPO23</b>.ipynb\n",
    "\n",
    "&bullet; Ex.: <b>grupo 6</b> → I2A2_<b>TAREFA6_GRUPO6</b>.ipynb\n",
    "\n",
    "O nome deve estar correto no topo do notebook (título/primeira célula) e no arquivo enviado."
   ]
  },
  {
   "cell_type": "markdown",
   "metadata": {
    "id": "HP-_osWzgAPU"
   },
   "source": [
    "## **Regras eliminatórias (qualquer uma ⇒ eliminação)**\n",
    "\n",
    "&bullet; Qualquer atividade em branco ou sem saída verificável\n",
    "\n",
    "&bullet; Ausência de visualizações exigidas nas atividades 3, 6, 7, 9 (quando pedidas)\n",
    "\n",
    "&bullet; Não usar Pandas + Matplotlib/Seaborn conforme o Bloco 4\n",
    "\n",
    "&bullet; Indícios de plágio flagrante entre grupos (mesmo código/texto sem citação)\n",
    "\n",
    "&bullet; Após inserir os códigos nos campos destinados, o arquivo deverá ser baixado no formato padrão do Google Colab (.ipynb) e enviado para **challenges@i2a2.academy**  até o dia **7 de setembro de 2025 (domingo)**\n",
    "\n",
    "&bullet; Ressalta-se que a não entrega da atividade **até às 23h59min59s** do dia **7 de setembro de 2025** implicará na **eliminação imediata** do curso\n",
    "\n",
    "&bullet; O assunto do email a ser encaminhado será **desafio6_i2a2**"
   ]
  },
  {
   "cell_type": "markdown",
   "metadata": {
    "id": "GZu7iRWPTKHX"
   },
   "source": [
    "# **:: Estrutura da Base de Dados**"
   ]
  },
  {
   "cell_type": "markdown",
   "metadata": {
    "id": "ikz4_g_CTOHN"
   },
   "source": [
    "### A base fictícia conterá 150 instâncias com as seguintes variáveis:\n",
    "\n",
    "\n",
    "**ID_Registro** – Identificador único\n",
    "\n",
    "**Tipo_Eletronico** – Categoria do item (celular, computador, TV, bateria, etc.)\n",
    "\n",
    "**Ano_Fabricacao** – Ano de fabricação do dispositivo\n",
    "\n",
    "**Origem** – Origem do descarte (urbana, rural, industrial, governamental)\n",
    "\n",
    "**Destino_Final** – Local de descarte (cooperativa, lixão, reciclagem formal, rio, aterro controlado)\n",
    "\n",
    "**Peso_kg** – Peso aproximado do equipamento\n",
    "\n",
    "**Nivel_Toxico** – Grau de toxicidade (baixo, médio, alto, crítico)\n",
    "\n",
    "**Custo_Reciclagem_R$** – Estimativa de custo de reciclagem"
   ]
  },
  {
   "cell_type": "markdown",
   "metadata": {
    "id": "_n-6JhhgT8D5"
   },
   "source": [
    "# **:: Base de Dados**"
   ]
  },
  {
   "cell_type": "markdown",
   "metadata": {
    "id": "4YUT18taVzPc"
   },
   "source": [
    "<h4 align=\"justify\">O dataset está disponível para download através do link a seguir:</h4>\n",
    "<h4 align=\"justify\"><a DOWNLOAD href=\"https://drive.google.com/file/d/1mZI1yIT5yJUpw-TWi7du3NfOoaSdT7rt/view?usp=drive_link\" target=\"_blank\" download=\"desafio6_lixo_eletronico.csv\">desafio6_lixo_eletronico.csv</a></h4>"
   ]
  },
  {
   "cell_type": "markdown",
   "metadata": {
    "id": "Gap3E8utXO6d"
   },
   "source": [
    "# **:: Atividade 1 – Exploração Inicial dos Dados**"
   ]
  },
  {
   "cell_type": "markdown",
   "metadata": {
    "id": "hKjCo_wAXTji"
   },
   "source": [
    "<h4 align=\"justify\">Na Amazônia, compreender o destino dos resíduos eletrônicos começa pela análise da própria base de registros, que muitas vezes chega com erros, duplicatas e informações incompletas.</h4>\n",
    "<h4 align=\"justify\">Carregue a base \"desafio6_lixo_eletronico.csv\" em um DataFrame do Pandas, faça uma análise exploratória (shape, tipos de variáveis, estatísticas descritivas) e apresente o total de valores ausentes e duplicados.</h4>"
   ]
  },
  {
   "cell_type": "code",
   "execution_count": null,
   "metadata": {
    "id": "kctqMs3zX4wQ"
   },
   "outputs": [],
   "source": [
    "# Escreva aqui a solução da Atividade 1"
   ]
  },
  {
   "cell_type": "markdown",
   "metadata": {
    "id": "KA2_yrGrYEmJ"
   },
   "source": [
    "# **:: Atividade 2 – Limpeza e Padronização**"
   ]
  },
  {
   "cell_type": "markdown",
   "metadata": {
    "id": "gBfmMJDFYMhm"
   },
   "source": [
    "<h4 align=\"justify\">A diversidade de origens e destinos pode gerar confusões quando informações semelhantes aparecem de forma inconsistente, prejudicando relatórios ambientais e logísticos.</h4>\n",
    "<h4 align=\"justify\">Identifique e trate valores inconsistentes (ex.: \"reciclagem formal\" e \"Reciclagem Formal\"), corrija erros de digitação e padronize todas as colunas categóricas. Em seguida, elimine duplicatas mantendo apenas registros válidos.</h4>"
   ]
  },
  {
   "cell_type": "code",
   "execution_count": null,
   "metadata": {
    "id": "CHG05oHNYYOI"
   },
   "outputs": [],
   "source": [
    "# Escreva aqui a solução da Atividade 2"
   ]
  },
  {
   "cell_type": "markdown",
   "metadata": {
    "id": "Px5IOWv_Ya1-"
   },
   "source": [
    "# **:: Atividade 3 – Distribuição e Frequências**"
   ]
  },
  {
   "cell_type": "markdown",
   "metadata": {
    "id": "g0rHz4YwYa1-"
   },
   "source": [
    "<h4 align=\"justify\">Antes de planejar políticas públicas de descarte e reciclagem, é essencial saber quais eletrônicos mais aparecem e de onde eles vêm.</h4>\n",
    "<h4 align=\"justify\">Utilize groupby e value_counts para identificar a frequência de cada tipo de eletrônico e de cada origem, apresentando os resultados em tabelas e em gráficos de barras (Matplotlib ou Seaborn).</h4>"
   ]
  },
  {
   "cell_type": "code",
   "execution_count": null,
   "metadata": {
    "id": "UHg8mMtac-5C"
   },
   "outputs": [],
   "source": [
    "# Escreva aqui a solução da Atividade 3"
   ]
  },
  {
   "cell_type": "markdown",
   "metadata": {
    "id": "oCMsDUnZYsSO"
   },
   "source": [
    "# **:: Atividade 4 – Análise Temporal de Descarte**"
   ]
  },
  {
   "cell_type": "markdown",
   "metadata": {
    "id": "8ih3LTDbYsSP"
   },
   "source": [
    "<h4 align=\"justify\">O comportamento de descarte eletrônico pode variar ao longo do tempo, revelando picos sazonais ligados a datas comerciais ou programas de substituição tecnológica.</h4>\n",
    "<h4 align=\"justify\">Converta a coluna de data de descarte para o formato datetime, crie colunas adicionais como mês e ano, e produza gráficos de linha mostrando a evolução mensal do volume de descartes.</h4>"
   ]
  },
  {
   "cell_type": "code",
   "execution_count": 2,
   "metadata": {
    "id": "5QpVnYT3YpC2"
   },
   "outputs": [],
   "source": [
    "# Escreva aqui a solução da Atividade 4"
   ]
  },
  {
   "cell_type": "markdown",
   "metadata": {
    "id": "SqrKlPkRZJgY"
   },
   "source": [
    "# **:: Atividade 5 – Agregação por Município**"
   ]
  },
  {
   "cell_type": "markdown",
   "metadata": {
    "id": "9rlWStzyZJgZ"
   },
   "source": [
    "<h4 align=\"justify\">A gestão de resíduos eletrônicos exige que municípios compreendam seu papel na geração e no destino do lixo tecnológico.</h4>\n",
    "<h4 align=\"justify\">Utilize groupby para agregar os dados por município, calculando:</h4>\n",
    "<h4 align=\"justify\">&bullet; o total de resíduos descartados;</h4>\n",
    "<h4 align=\"justify\">&bullet; a média de peso dos eletrônicos; e</h4>\n",
    "<h4 align=\"justify\">&bullet; e a proporção de destinos formais (reciclagem, doação) em relação aos informais (lixão, descarte irregular).</h4>\n",
    "<h4 align=\"justify\">Apresente os resultados em uma tabela ordenada e em gráfico de barras horizontais.</h4>"
   ]
  },
  {
   "cell_type": "code",
   "execution_count": null,
   "metadata": {
    "id": "_TitqaKVZrXl"
   },
   "outputs": [],
   "source": [
    "# Escreva aqui a solução da Atividade 5"
   ]
  },
  {
   "cell_type": "markdown",
   "metadata": {
    "id": "KjdJqgglZvB4"
   },
   "source": [
    "# **:: Atividade 6 - Cruzamento entre Tipo de Eletrônico e Destino**"
   ]
  },
  {
   "cell_type": "markdown",
   "metadata": {
    "id": "epJ0XDARZvB5"
   },
   "source": [
    "<h4 align=\"justify\">Nem todos os eletrônicos têm o mesmo destino: alguns aparelhos têm maior chance de serem reciclados, enquanto outros acabam em descartes irregulares.</h4>\n",
    "<h4 align=\"justify\">Crie uma tabela cruzada (crosstab ou pivot_table) relacionando o tipo de eletrônico com seu destino. Visualize os resultados em um heatmap (Seaborn), destacando quais combinações são mais críticas.</h4>"
   ]
  },
  {
   "cell_type": "code",
   "execution_count": null,
   "metadata": {
    "id": "NLLCRFqcZvB5"
   },
   "outputs": [],
   "source": [
    "# Escreva aqui a solução da Atividade 6"
   ]
  },
  {
   "cell_type": "markdown",
   "metadata": {
    "id": "bx1aOO4TaaBX"
   },
   "source": [
    "# **:: Atividade 7 – Impacto do Peso dos Resíduos no Meio Ambiente**"
   ]
  },
  {
   "cell_type": "markdown",
   "metadata": {
    "id": "S2rs7-xGaaBZ"
   },
   "source": [
    "<h4 align=\"justify\">O peso dos resíduos eletrônicos é um fator crítico para a logística de coleta e o impacto ambiental. Equipamentos mais pesados, como geladeiras e televisores, podem sobrecarregar aterros irregulares e dificultar o transporte para centros de reciclagem. Na Amazônia, onde a infraestrutura de estradas é limitada, esse aspecto é ainda mais sensível.</h4>\n",
    "<h4 align=\"justify\">Além disso, a presença de metais pesados em equipamentos volumosos pode gerar contaminações irreversíveis em rios e no solo. Analisar a distribuição do peso é fundamental para indicar se há tendência de acúmulo de grandes aparelhos ou de pequenos dispositivos que passam despercebidos, mas se espalham de forma descontrolada.</h4>\n",
    "<h4 align=\"justify\">Utilize describe() e métodos de visualização (boxplot e histplot) para analisar a distribuição do peso dos resíduos eletrônicos. Identifique outliers e discuta possíveis explicações para sua ocorrência.</h4>\n",
    "<h4 align=\"justify\">Em seguida, faça uma comparação da média e do desvio padrão de peso entre descartes destinados formalmente e informalmente, apresentando os resultados em gráfico de violino.</h4>"
   ]
  },
  {
   "cell_type": "code",
   "execution_count": null,
   "metadata": {
    "id": "XAPTZEDeaaBZ"
   },
   "outputs": [],
   "source": [
    "# Escreva aqui a solução da Atividade 7"
   ]
  },
  {
   "cell_type": "markdown",
   "metadata": {
    "id": "2x6eY_tLbBue"
   },
   "source": [
    "# **:: Atividade 8 – Relação entre Educação Ambiental e Destino do Resíduo**"
   ]
  },
  {
   "cell_type": "markdown",
   "metadata": {
    "id": "X5rA-z4MbBuf"
   },
   "source": [
    "<h4 align=\"justify\">Um dos fatores determinantes para o destino correto dos resíduos eletrônicos é o nível de conscientização ambiental da população. Municípios que aplicam programas de educação ambiental tendem a apresentar maior proporção de descarte formal, reduzindo a poluição gerada por lixões clandestinos.</h4>\n",
    "<h4 align=\"justify\">No entanto, essa relação nem sempre é linear. Às vezes, mesmo com iniciativas locais, a ausência de infraestrutura de coleta inviabiliza o descarte correto. A análise comparativa pode revelar se a educação ambiental tem impacto mensurável no destino dos resíduos registrados na base.</h4>\n",
    "<h4 align=\"justify\">Agrupe os dados por município, comparando o percentual de descarte formal em locais com e sem registro de programas de educação ambiental.</h4>\n",
    "<h4 align=\"justify\">Crie gráficos de barras empilhadas mostrando a proporção de destinos em cada categoria, e discuta os possíveis vieses do dataset (ex.: municípios com dados incompletos).</h4>"
   ]
  },
  {
   "cell_type": "code",
   "execution_count": null,
   "metadata": {
    "id": "t482UkgUbBug"
   },
   "outputs": [],
   "source": [
    "# Escreva aqui a solução da Atividade 8"
   ]
  },
  {
   "cell_type": "markdown",
   "metadata": {
    "id": "jE-kFlbLbZH-"
   },
   "source": [
    "# **:: Atividade 9 – Correlação entre Origem e Tipo de Eletrônico**"
   ]
  },
  {
   "cell_type": "markdown",
   "metadata": {
    "id": "b-l-ERYPbZH_"
   },
   "source": [
    "<h4 align=\"justify\">A origem do resíduo eletrônico pode estar associada ao tipo de dispositivo descartado. Grandes centros urbanos tendem a gerar computadores, smartphones e notebooks, enquanto áreas rurais podem descartar rádios, televisores antigos e baterias automotivas. Essa correlação ajuda a entender os padrões de consumo e de descarte.</h4>\n",
    "<h4 align=\"justify\">Compreender tais relações é vital para desenhar políticas regionais: por exemplo, pontos de coleta de baterias em cidades pequenas ou centrais de reciclagem de computadores em polos universitários. Identificar as variáveis que caminham juntas pode revelar gargalos e oportunidades estratégicas.</h4>\n",
    "<h4 align=\"justify\">Calcule a correlação entre origem (urbana/rural/industrial) e tipo de eletrônico usando análise de contingência (qui-quadrado).</h4>\n",
    "<h4 align=\"justify\">Calcule a correlação entre origem (urbana/rural/industrial) e tipo de eletrônico usando análise de contingência (qui-quadrado).</h4>"
   ]
  },
  {
   "cell_type": "code",
   "execution_count": null,
   "metadata": {
    "id": "v8U0CE6LbZH_"
   },
   "outputs": [],
   "source": [
    "# Escreva aqui a solução da Atividade 9"
   ]
  },
  {
   "cell_type": "markdown",
   "metadata": {
    "id": "vxlanVGibwzQ"
   },
   "source": [
    "# **:: Atividade 10 – Insight Integrador e Proposta Estratégica**"
   ]
  },
  {
   "cell_type": "markdown",
   "metadata": {
    "id": "JBVTXNubbwzR"
   },
   "source": [
    "<h4 align=\"justify\">Chegamos ao ponto mais desafiador do projeto: transformar dados em decisões e estratégias reais. Até aqui, vocês analisaram padrões de peso dos resíduos, a relação entre educação ambiental e destino do lixo, correlações entre origem e tipos de eletrônicos, e visualizaram tendências. Cada análise trouxe pistas importantes, mas é no cruzamento de todas essas informações que surgem os insights mais valiosos.</h4>\n",
    "<h4 align=\"justify\">O verdadeiro papel dos Tecnoguardas da Amazônia não é apenas identificar problemas, mas propor caminhos de solução. Essa atividade exige que vocês conectem os pontos, interpretem os dados como um todo e traduzam suas descobertas em um insight novo e prático, que possa orientar políticas públicas, ações comunitárias ou iniciativas ambientais para a Amazônia.</h4>\n",
    "<h4 align=\"justify\">Revisite todas as análises anteriores (Atividades 1 a 9) e busque conexões entre os resultados. Pergunte-se: o que os padrões de peso, origem, destino, duplicidades e correlações revelam em conjunto? Existe um fator oculto ou um comportamento inesperado que precisa ser trazido à tona?</h4>\n",
    "<h4 align=\"justify\">Redija um relatório com no mínimo 250 palavras, apresentando um novo insight estratégico obtido a partir da integração de todos os resultados. O insight deve vir acompanhado de uma proposta prática, como: criação de pontos de coleta específicos, campanhas de educação, políticas de incentivo ou soluções logísticas para a Amazônia.</h4>"
   ]
  },
  {
   "cell_type": "code",
   "execution_count": null,
   "metadata": {
    "id": "V3p-vpg8bwzS"
   },
   "outputs": [],
   "source": [
    "# Escreva aqui a solução da Atividade 10"
   ]
  },
  {
   "cell_type": "markdown",
   "metadata": {
    "id": "9gHKqbhkcjk_"
   },
   "source": [
    "# **:: Relatório Resposta para a Atividade 10**"
   ]
  },
  {
   "cell_type": "markdown",
   "metadata": {
    "id": "v6EWuiRBcstX"
   },
   "source": [
    "Escreva aqui o seu relatório para a Atividade 10."
   ]
  },
  {
   "cell_type": "markdown",
   "metadata": {
    "id": "TEbWCjRV4G0D"
   },
   "source": [
    "&nbsp;\n",
    "<center><font size=\"24\" color=blue><b>Fim do Desafio 6</b></font></center>"
   ]
  }
 ],
 "metadata": {
  "colab": {
   "provenance": []
  },
  "kernelspec": {
   "display_name": "Python 3 (ipykernel)",
   "language": "python",
   "name": "python3"
  },
  "language_info": {
   "codemirror_mode": {
    "name": "ipython",
    "version": 3
   },
   "file_extension": ".py",
   "mimetype": "text/x-python",
   "name": "python",
   "nbconvert_exporter": "python",
   "pygments_lexer": "ipython3",
   "version": "3.9.5"
  }
 },
 "nbformat": 4,
 "nbformat_minor": 4
}
