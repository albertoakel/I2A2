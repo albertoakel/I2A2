import pandas as pd
import matplotlib.pyplot as plt
import numpy as np
import seaborn as sns
import plotly.express as px


df= pd.read_csv('Dataset_de_200_Comunidades_para_Analise_Ambiental.csv')

#df.isnull().sum()

df


print(df.info())


df['Presença de Escola (Sim/Não)'].value_counts()
df['Presença de Unidade de Saúde (Sim/Não)'].value_counts()


df[ 'Presença de Escola (Sim/Não)'] = df['Presença de Escola (Sim/Não)'].map({'Sim': 1, 'Não': 0})
df['Presença de Unidade de Saúde (Sim/Não)'] = df['Presença de Unidade de Saúde (Sim/Não)'].map({'Sim': 1, 'Não': 0})

#df = pd.get_dummies(df, columns=['Presença de Unidade de Saúde (Sim/Não)', 'Presença de Escola (Sim/Não)'])

df0=df.drop(['Comunidade','Município','Estado'],axis=1)

df0.describe()


correlation_matrix = df0.corr()
plt.figure(figsize=(15, 8))
sns.heatmap(correlation_matrix , annot=True, cmap='coolwarm', vmin=-1, vmax=1)
plt.title('figura 6: Matriz de Correlação')
plt.show()


correlation_matrix 




