{
 "cells": [
  {
   "cell_type": "code",
   "execution_count": 9,
   "id": "30ad45ac-7498-4672-91c9-d4e43495821a",
   "metadata": {},
   "outputs": [
    {
     "data": {
      "text/plain": [
       "'/home/akel/PycharmProjects/I2A2/sandbox/mapa_ventos_belem.html'"
      ]
     },
     "execution_count": 9,
     "metadata": {},
     "output_type": "execute_result"
    }
   ],
   "source": [
    "# Atualizando o mapa: agora vamos projetar as setas de vento em uma grade sobre a região de Belém,\n",
    "# ao invés de apenas um ponto central. Isso dá a sensação de campo vetorial de vento.\n",
    "\n",
    "import numpy as np\n",
    "\n",
    "# Criar novo mapa base\n",
    "m_grid = folium.Map(location=[city_lat-0.1, city_lon-0.1], zoom_start=11, tiles=\"cartodbpositron\")\n",
    "\n",
    "# Gerar grade de pontos em torno de Belém (~20 km em cada direção)\n",
    "lat_range = np.linspace(city_lat - 0.01, city_lat + 0.01, 10)  # ~6 pontos N-S\n",
    "lon_range = np.linspace(city_lon - 0.01, city_lon + 0.01, 10)  # ~6 pontos E-W\n",
    "\n",
    "# Reutilizar as direções predominantes\n",
    "directions = [\n",
    "    (\"De Leste → Oeste\", 270),\n",
    "    (\"De Nordeste → Sudoeste\", 225),\n",
    "    (\"De Sudeste → Noroeste\", 315),\n",
    "]\n",
    "\n",
    "# Camadas por estação\n",
    "for season_name, freq_mult, desc in seasons:\n",
    "    fg = folium.FeatureGroup(name=season_name, overlay=True, show=True if \"Primavera\" in season_name or \"Inverno\" in season_name else False)\n",
    "    \n",
    "    for lat in lat_range:\n",
    "        for lon in lon_range:\n",
    "            # desenhar setas a partir de cada ponto da grade\n",
    "            for label, bearing in directions:\n",
    "                length_km = base_len_km * freq_mult\n",
    "                end_lat, end_lon = destination_point(lat, lon, bearing, length_km)\n",
    "                \n",
    "                line = folium.PolyLine(\n",
    "                    locations=[[lat, lon], [end_lat, end_lon]],\n",
    "                    weight=2 * freq_mult,\n",
    "                    opacity=0.7\n",
    "                ).add_to(fg)\n",
    "                \n",
    "                plugins.PolyLineTextPath(\n",
    "                    line,\n",
    "                    text='►   ' * 5,\n",
    "                    repeat=False,\n",
    "                    offset=6,\n",
    "                    attributes={'font-size': '10'}\n",
    "                ).add_to(fg)\n",
    "    \n",
    "    fg.add_to(m_grid)\n",
    "\n",
    "# Layer control e legenda\n",
    "folium.LayerControl(collapsed=False).add_to(m_grid)\n",
    "plugins.MiniMap(toggle_display=True).add_to(m_grid)\n",
    "\n",
    "legend_html = \"\"\"\n",
    "<div style=\"\n",
    "    position: fixed; \n",
    "    bottom: 20px; left: 20px; z-index: 9999; \n",
    "    background: white; padding: 10px 14px; border: 1px solid #ccc; border-radius: 8px;\n",
    "    box-shadow: 0 2px 6px rgba(0,0,0,0.2); font-family: Arial; font-size: 12px;\">\n",
    "<b>Campo de ventos em Belém</b><br>\n",
    "Setor predominante: <b>Leste</b> (oscila <b>SE</b> ↔ <b>NE</b>)<br>\n",
    "Setas desenhadas em grade sobre a região<br>\n",
    "Velocidade média anual: ~3 m/s<br>\n",
    "Maior frequência no Inverno e Primavera\n",
    "</div>\n",
    "\"\"\"\n",
    "m_grid.get_root().html.add_child(folium.Element(legend_html))\n",
    "\n",
    "# Save\n",
    "out_path_grid = \"/home/akel/PycharmProjects/I2A2/sandbox/mapa_ventos_belem.html\"\n",
    "m_grid.save(out_path_grid)\n",
    "\n",
    "out_path_grid\n"
   ]
  },
  {
   "cell_type": "code",
   "execution_count": null,
   "id": "5a37a1ba-e72b-4fe5-9bd1-9a5f2c3d43c2",
   "metadata": {},
   "outputs": [],
   "source": [
    "out_path = \"/home/akel/PycharmProjects/I2A2/sandbox/mapa_ventos_belem.html\"\n"
   ]
  }
 ],
 "metadata": {
  "kernelspec": {
   "display_name": "Python 3 (ipykernel)",
   "language": "python",
   "name": "python3"
  },
  "language_info": {
   "codemirror_mode": {
    "name": "ipython",
    "version": 3
   },
   "file_extension": ".py",
   "mimetype": "text/x-python",
   "name": "python",
   "nbconvert_exporter": "python",
   "pygments_lexer": "ipython3",
   "version": "3.9.5"
  }
 },
 "nbformat": 4,
 "nbformat_minor": 5
}
