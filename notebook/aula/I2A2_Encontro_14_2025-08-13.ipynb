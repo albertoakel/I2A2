{
 "cells": [
  {
   "cell_type": "code",
   "execution_count": null,
   "metadata": {
    "cellView": "form",
    "id": "rg3inWb1jSuX"
   },
   "outputs": [],
   "source": [
    "# @title\n",
    "# Curso IA Aplicada aos Desafios Socioambientais da Amazônia\n",
    "# Notebook desenvolvido por: Onédio S Seabra junior\n",
    "# Atualização : 11 de agosto de 2025\n",
    "\n",
    "from IPython.display import display, HTML\n",
    "\n",
    "# O caminho para a imagem\n",
    "header_img = 'https://i.postimg.cc/J7QwKcJz/header-encontro14.png'\n",
    "# O código HTML para exibir a imagem em tamanho original e centralizada\n",
    "html = f'<img src=\"{header_img}\" style=\"display: block; margin: 0 auto; width: 100%; height: 100%; object-fit: contain\">'\n",
    "# Exibe a imagem usando o display do IPython e o HTML\n",
    "display(HTML(html))\n",
    "\n",
    "# apresenta Sobre o Curso\n",
    "html_sobre = '''\n",
    "  <div style=\"width:100%; color: black; background-color:none; margin-top:20px\">\n",
    "    <div style=\"float: left; width: 45%; margin-top:10px\">\n",
    "      <h1 style=\"color:#000; margin-bottom:10px\">Sobre o curso</h1>\n",
    "      <p style=\"font-size:16px; line-height: 23px; text-align:justify\">\n",
    "        O curso Inteligência Artificial Aplicada aos Desafios Socioambientais da Amazônia, promovido pelo Instituto de Inteligência Artificial Aplicada (I2A2), é uma iniciativa pioneira voltada para capacitar moradores do Pará e da região Norte. Com duração de seis meses, combina aulas online, atividades assíncronas, workshops práticos, encontros com especialistas e mentoria contínua. O objetivo é aplicar a IA de forma prática em problemas ambientais reais, em alinhamento com as diretrizes e temas da COP30.\n",
    "      </p3>\n",
    "      <p style=\"font-size:16px; line-height: 23px; text-align:justify\">\n",
    "        Ao longo do curso, os participantes exploram desde fundamentos de Machine Learning até IA Generativa, trabalhando com dados ambientais da Amazônia para enfrentar questões como desmatamento, queimadas, qualidade da água e riscos climáticos. Cada grupo finaliza sua jornada com um projeto integrador, apresentando soluções sustentáveis e socialmente viáveis. A formação busca fortalecer competências técnicas e o protagonismo de lideranças locais, articulando ciência, tecnologia e justiça ambiental, consolidando a Amazônia como polo de inovação para o desenvolvimento sustentável.\n",
    "      </p>\n",
    "    </div>\n",
    "    <div style=\"float: left; width: 55%; display: flex; justify-content: center; align-items: center;\">\n",
    "      <center>\n",
    "        <img style=\"margin-top:80px;width:420px\" src=\"https://i.postimg.cc/0jLdTyMD/logo-i2a2.png\" />\n",
    "      </center>\n",
    "    </div>\n",
    "  </div>\n",
    "  <div style=”clear: both”></div>\n",
    "  <div style=\"width:100%; color: black; background-color:none; margin-top:20px\">\n",
    "  <div style=\"float: left; width: 100%;\">\n",
    "    <center>\n",
    "        <img style=\"margin-top:80px;width:200px\" src=\"https://i.postimg.cc/qqXsDh6F/separator-python.png\" />\n",
    "      </center>\n",
    "  </div>\n",
    "  </div>\n",
    "\n",
    "'''\n",
    "display(HTML(html_sobre))\n"
   ]
  },
  {
   "cell_type": "markdown",
   "metadata": {
    "id": "zNUlCyVQTwga"
   },
   "source": [
    "# **&#9776; Trilha do Conhecimento**"
   ]
  },
  {
   "cell_type": "markdown",
   "metadata": {
    "id": "bL_52DBLUhYk"
   },
   "source": [
    "<h4 align=\"justify\">&bullet; Criação de Gráficos</h4>\n",
    "<h4 align=\"justify\">&bullet; Análise Visual de Padrões.</h4>\n",
    "<h4 align=\"justify\">&bullet; Exercício com Gráfico e interpretação escrita.</h4>"
   ]
  },
  {
   "cell_type": "markdown",
   "metadata": {
    "id": "YbGvwa81P6qv"
   },
   "source": [
    "# **&#9776; Apresentação sobre o Encontro 14**\n",
    "---"
   ]
  },
  {
   "cell_type": "markdown",
   "metadata": {
    "id": "LgcdcjKNP_t2"
   },
   "source": [
    "<h4 align=\"justify\">Neste Encontro 14, avançaremos na nossa jornada explorando o poder da visualização de dados como ferramenta estratégica para compreender e comunicar informações ambientais da Amazônia. Se nos encontros anteriores aprendemos a limpar, organizar e estruturar nossos dados, agora daremos um passo fundamental: transformar esses dados em histórias visuais capazes de revelar padrões, tendências e alertas que, muitas vezes, passam despercebidos em tabelas numéricas. Gráficos bem construídos não apenas facilitam a interpretação, mas também são essenciais para transmitir descobertas de forma clara e convincente, apoiando decisões rápidas e fundamentadas para a proteção da floresta.</h4>\n",
    "<h4 align=\"justify\">Utilizando Python, exploraremos bibliotecas como Matplotlib e Seaborn para criar representações visuais que vão desde gráficos simples até composições mais sofisticadas e esteticamente aprimoradas. Vamos aprender não apenas a gerar os gráficos, mas também a aplicar princípios de storytelling com dados, escolhendo o tipo certo de visualização para cada objetivo e público. Ao final, você será capaz de produzir representações que combinam precisão técnica com impacto visual, permitindo comparar municípios amazônicos, monitorar indicadores ambientais e comunicar resultados de maneira persuasiva e estratégica.</h4>"
   ]
  },
  {
   "cell_type": "markdown",
   "metadata": {
    "id": "3m1kdISQz-4V"
   },
   "source": [
    "# **&#9776; MATPLOTLIB**\n",
    "---"
   ]
  },
  {
   "cell_type": "markdown",
   "metadata": {
    "id": "lVhfHfVJ4BLX"
   },
   "source": [
    "<h4 align=\"justify\">O Matplotlib é uma biblioteca poderosa e amplamente utilizada no Python para criação de visualizações de dados em formato gráfico. Ele permite gerar desde representações simples, como gráficos de linhas e barras, até visualizações mais complexas e personalizadas, com <b>controle total sobre cores, estilos, legendas, títulos e eixos</b>. Sua versatilidade o torna ideal para análises exploratórias, relatórios e apresentações, sendo a <b>base sobre a qual muitas outras bibliotecas de visualização, como o Seaborn, são construídas</b>. Com o Matplotlib, é possível transformar dados brutos em representações visuais claras, facilitando a compreensão e a comunicação de informações.</h4>"
   ]
  },
  {
   "cell_type": "markdown",
   "metadata": {
    "id": "hV005wNrMwVw"
   },
   "source": [
    "# **:: Sobre o Dataset**"
   ]
  },
  {
   "cell_type": "markdown",
   "metadata": {
    "id": "pSgQj0bOM0Ys"
   },
   "source": [
    "<h4 align=\"justify\">A base de dados gerada simula registros de desmatamento na região amazônica entre janeiro de 2024 e junho de 2025, permitindo uma análise integrada de variáveis ambientais e de fiscalização. Ela contempla seis municípios distribuídos por estados-chave da Amazônia Legal, trazendo informações mensais que representam um cenário próximo à realidade, mas com valores fictícios para fins didáticos.</h4>\n",
    "<h4 align=\"justify\">Entre os campos, destacam-se: <b>área desmatada (hectares)</b>, <b>focos de queimada</b>, <b>chuva (mm)</b> e <b>temperatura média (°C)</b>, que permitem correlacionar clima e pressão ambiental. Inclui também <b>indicadores binários</b>, como presença de proteção territorial (ex.: unidades de conservação ou terras indígenas), <b>ações de fiscalização</b> e se o <b>desmatamento registrado</b> foi ilegal. Essa composição torna a base ideal para criar análises comparativas, identificar padrões sazonais, visualizar tendências e aplicar técnicas de visualização com Matplotlib, como séries temporais, gráficos de barras e mapas de calor.</h4>"
   ]
  },
  {
   "cell_type": "markdown",
   "metadata": {
    "id": "eu9LI66B4wIT"
   },
   "source": [
    "# **:: Carregando os Dados**"
   ]
  },
  {
   "cell_type": "code",
   "execution_count": null,
   "metadata": {
    "id": "SU6rXF8h7FO9"
   },
   "outputs": [],
   "source": [
    "import pandas as pd\n",
    "\n",
    "try:\n",
    "    df_deflorestamento = pd.read_csv('/content/deflorestamento_amazonia_2024_2025.csv')\n",
    "    print(\"✅ Base de dados 'deflorestamento_amazonia_2024_2025.csv' carregada com sucesso!\")\n",
    "except FileNotFoundError:\n",
    "    print(\"❌ Erro: O arquivo 'deflorestamento_amazonia_2024_2025.csv' não foi encontrado.\")\n",
    "except Exception as e:\n",
    "    print(f\"❌ Erro ao carregar a base de dados: {e}\")"
   ]
  },
  {
   "cell_type": "markdown",
   "metadata": {
    "id": "h7DKO21k7gXv"
   },
   "source": [
    "# **:: Carregando os 5 Registros Aleatórios**"
   ]
  },
  {
   "cell_type": "code",
   "execution_count": null,
   "metadata": {
    "id": "hckWby1B7q7M"
   },
   "outputs": [],
   "source": [
    "df_deflorestamento.sample(5)"
   ]
  },
  {
   "cell_type": "markdown",
   "metadata": {
    "id": "UXD188Bd78Er"
   },
   "source": [
    "# **:: Tipos de Dados de Cada Feature/Coluna**"
   ]
  },
  {
   "cell_type": "code",
   "execution_count": null,
   "metadata": {
    "id": "yLLA5KrJ8Nic"
   },
   "outputs": [],
   "source": [
    "# Exemplo 1\n",
    "df_deflorestamento.dtypes"
   ]
  },
  {
   "cell_type": "code",
   "execution_count": null,
   "metadata": {
    "id": "q8adzhSV9LkT"
   },
   "outputs": [],
   "source": [
    "# Exemplo 2\n",
    "df_deflorestamento.info()"
   ]
  },
  {
   "cell_type": "markdown",
   "metadata": {
    "id": "7hUYqZ1T-isJ"
   },
   "source": [
    "# **:: Conversão das Colunas \"data\" de object para datetime**"
   ]
  },
  {
   "cell_type": "code",
   "execution_count": null,
   "metadata": {
    "id": "-yP3CPxp-ePI"
   },
   "outputs": [],
   "source": [
    "df_deflorestamento['data'] = pd.to_datetime(df_deflorestamento['data'])"
   ]
  },
  {
   "cell_type": "code",
   "execution_count": null,
   "metadata": {
    "id": "g2ZYZy5z-xZh"
   },
   "outputs": [],
   "source": [
    "df_deflorestamento.info()"
   ]
  },
  {
   "cell_type": "markdown",
   "metadata": {
    "id": "EJLZYXQpBFM8"
   },
   "source": [
    "# **:: Localizar Valores Nulos ou Ausentes**"
   ]
  },
  {
   "cell_type": "code",
   "execution_count": null,
   "metadata": {
    "id": "bZMpUExhBLGR"
   },
   "outputs": [],
   "source": [
    "# localiza valores nulos nas colunas\n",
    "df_deflorestamento.isnull().sum()"
   ]
  },
  {
   "cell_type": "code",
   "execution_count": null,
   "metadata": {
    "id": "Lzpq7Ce3Bv7d"
   },
   "outputs": [],
   "source": [
    "# apresentas as linhas que possuem valores nulos\n",
    "df_deflorestamento[df_deflorestamento.isnull().any(axis=1)]"
   ]
  },
  {
   "cell_type": "code",
   "execution_count": null,
   "metadata": {
    "id": "0BiBRxo9QDiC"
   },
   "outputs": [],
   "source": [
    "df_copia = df_deflorestamento.copy()"
   ]
  },
  {
   "cell_type": "code",
   "execution_count": null,
   "metadata": {
    "id": "4JA4qg64Ts1M"
   },
   "outputs": [],
   "source": [
    "# remover missing values\n",
    "df_copia.dropna(inplace=True)"
   ]
  },
  {
   "cell_type": "code",
   "execution_count": null,
   "metadata": {
    "id": "15Otqh2JT51s"
   },
   "outputs": [],
   "source": [
    "# verifica se há ainda missing values\n",
    "df_copia.isnull().sum()"
   ]
  },
  {
   "cell_type": "markdown",
   "metadata": {
    "id": "zsLOivZMQbvj"
   },
   "source": [
    "# **:: Carregando a bilioteca Matplotlib**"
   ]
  },
  {
   "cell_type": "code",
   "execution_count": null,
   "metadata": {
    "id": "GMd8w_lRQjSS"
   },
   "outputs": [],
   "source": [
    "import matplotlib"
   ]
  },
  {
   "cell_type": "code",
   "execution_count": null,
   "metadata": {
    "id": "4YqLzMZ7RJSO"
   },
   "outputs": [],
   "source": [
    "print(matplotlib.__version__)"
   ]
  },
  {
   "cell_type": "markdown",
   "metadata": {
    "id": "m7N8zCctQo8O"
   },
   "source": [
    "# **:: Matplotlib Pyplot**"
   ]
  },
  {
   "cell_type": "markdown",
   "metadata": {
    "id": "RHYi1XPoVflC"
   },
   "source": [
    "<h4 align=\"justify\">O Matplotlib Pyplot é um módulo da biblioteca Matplotlib que fornece funções simples para criar e personalizar gráficos em Python. Ele permite gerar visualizações como <b>linhas, barras, dispersões e histogramas</b>, facilitando a análise e interpretação de dados. É amplamente utilizado por cientistas de dados para transformar informações numéricas em representações visuais claras e impactantes.</h4>"
   ]
  },
  {
   "cell_type": "code",
   "execution_count": null,
   "metadata": {
    "id": "Ib0hKzcvV8qF"
   },
   "outputs": [],
   "source": [
    "# carregando a biblioteca\n",
    "import matplotlib.pyplot as plt"
   ]
  },
  {
   "cell_type": "code",
   "execution_count": null,
   "metadata": {
    "id": "O-3p2Tk8WImy"
   },
   "outputs": [],
   "source": [
    "# exemplo de uso do pyplot\n",
    "plt.plot([1, 2, 3, 4], [1, 4, 9, 16])\n",
    "plt.show()"
   ]
  },
  {
   "cell_type": "markdown",
   "metadata": {
    "id": "71a5kw_lWa8m"
   },
   "source": [
    "# **:: Matplotlib Plotting**"
   ]
  },
  {
   "cell_type": "markdown",
   "metadata": {
    "id": "jeHifFIpW7EU"
   },
   "source": [
    "<h4 align=\"justify\">O uso do Matplotlib Plotting é fundamental para representar visualmente dados de monitoramento, como áreas desmatadas, variação de temperatura ou índices de umidade ao longo do tempo. Utilizando a função plot(), podemos relacionar pontos no eixo X (por exemplo, anos ou meses) e no eixo Y (valores como hectares desmatados). Isso nos permite criar linhas que mostram tendências, como aumento ou redução do desmatamento, facilitando a identificação de padrões e a comunicação de informações ambientais para apoiar decisões estratégicas.</h4>\n"
   ]
  },
  {
   "cell_type": "code",
   "execution_count": null,
   "metadata": {
    "id": "z1mubpTFaVkn"
   },
   "outputs": [],
   "source": [
    "# Filtrar somente Santarém e ano de 2024\n",
    "# Aqui estamos criando um novo DataFrame (df_santarem_2024) contendo apenas as linhas em que:\n",
    "# - a coluna 'municipio' seja igual a 'Santarém'\n",
    "# - a coluna 'ano' seja igual a 2024\n",
    "df_santarem_2024 = df_copia[(df_copia['municipio'] == 'Santarém') & (df_copia['ano'] == 2024)]\n",
    "\n",
    "# Criar o gráfico simples de área desmatada ao longo dos meses\n",
    "# Define o tamanho da figura para 8 polegadas de largura por 5 de altura\n",
    "plt.figure(figsize=(8,5))\n",
    "\n",
    "# Plota os dados:\n",
    "# - eixo x: 'mes'\n",
    "# - eixo y: 'area_desmatada_ha'\n",
    "# - marker='o' coloca marcadores circulares nos pontos\n",
    "# - linestyle='-' conecta os pontos com linha contínua\n",
    "# - color='green' define a cor da linha como verde\n",
    "plt.plot(df_santarem_2024['mes'], df_santarem_2024['area_desmatada_ha'], marker='o', linestyle='', color='blue')\n",
    "\n",
    "# Define o título do gráfico com fonte tamanho 14\n",
    "plt.title(\"Área Desmatada em Santarém - 2024\", fontsize=14)\n",
    "\n",
    "# Define o rótulo do eixo X como \"Mês\"\n",
    "plt.xlabel(\"Mês\")\n",
    "\n",
    "# Define o rótulo do eixo Y como \"Área Desmatada (ha)\"\n",
    "plt.ylabel(\"Área Desmatada (ha)\")\n",
    "\n",
    "# Adiciona uma grade de fundo para facilitar a leitura dos valores\n",
    "plt.grid(True)\n",
    "\n",
    "# Exibe o gráfico na tela\n",
    "plt.show()"
   ]
  },
  {
   "cell_type": "code",
   "execution_count": null,
   "metadata": {
    "id": "dR9v13QYWhlj"
   },
   "outputs": [],
   "source": [
    "# Filtrar somente Santarém e ano de 2024\n",
    "# Aqui estamos criando um novo DataFrame (df_santarem_2024) contendo apenas as linhas em que:\n",
    "# - a coluna 'municipio' seja igual a 'Santarém'\n",
    "# - a coluna 'ano' seja igual a 2024\n",
    "df_santarem_2024 = df_copia[(df_copia['municipio'] == 'Santarém') & (df_copia['ano'] == 2024)]\n",
    "\n",
    "# Criar o gráfico simples de área desmatada ao longo dos meses\n",
    "# Define o tamanho da figura para 8 polegadas de largura por 5 de altura\n",
    "plt.figure(figsize=(8,5))\n",
    "\n",
    "# Plota os dados:\n",
    "# - eixo x: 'mes'\n",
    "# - eixo y: 'area_desmatada_ha'\n",
    "# - marker='o' coloca marcadores circulares nos pontos\n",
    "# - linestyle='-' conecta os pontos com linha contínua\n",
    "# - color='green' define a cor da linha como verde\n",
    "plt.plot(df_santarem_2024['mes'], df_santarem_2024['area_desmatada_ha'], marker='o', linestyle='-', color='green')\n",
    "\n",
    "# Define o título do gráfico com fonte tamanho 14\n",
    "plt.title(\"Área Desmatada em Santarém - 2024\", fontsize=14)\n",
    "\n",
    "# Define o rótulo do eixo X como \"Mês\"\n",
    "plt.xlabel(\"Mês\")\n",
    "\n",
    "# Define o rótulo do eixo Y como \"Área Desmatada (ha)\"\n",
    "plt.ylabel(\"Área Desmatada (ha)\")\n",
    "\n",
    "# Adiciona uma grade de fundo para facilitar a leitura dos valores\n",
    "plt.grid(True)\n",
    "\n",
    "# Exibe o gráfico na tela\n",
    "plt.show()\n"
   ]
  },
  {
   "cell_type": "markdown",
   "metadata": {
    "id": "ANFZd294bs1_"
   },
   "source": [
    "# **:: Matplotlib Subplot**"
   ]
  },
  {
   "cell_type": "markdown",
   "metadata": {
    "id": "f63L0MhDbw-X"
   },
   "source": [
    "<h4 align=\"justify\">O Matplotlib Subplot é um recurso que permite criar múltiplos gráficos dentro da mesma figura, facilitando a comparação visual entre diferentes conjuntos de dados ou perspectivas de análise. Com ele, é possível organizar os gráficos em linhas e colunas, ajustando tamanhos e espaçamentos para manter a legibilidade. Esse recurso é especialmente útil em análises ambientais, como no monitoramento da Amazônia, onde podemos visualizar, lado a lado, métricas como área desmatada, variação de temperatura e níveis de umidade ao longo do tempo.</h4>\n"
   ]
  },
  {
   "cell_type": "code",
   "execution_count": 3,
   "metadata": {
    "id": "UhEk6Klkcv8b"
   },
   "outputs": [
    {
     "data": {
      "image/png": "[encoded data removed]",
      "text/plain": [
       "<Figure size 640x480 with 2 Axes>"
      ]
     },
     "metadata": {},
     "output_type": "display_data"
    }
   ],
   "source": [
    "import matplotlib.pyplot as plt\n",
    "import numpy as np\n",
    "\n",
    "#plot 1:\n",
    "x = np.array([0, 1, 2, 3])\n",
    "y = np.array([3, 8, 1, 10])\n",
    "\n",
    "plt.subplot(1, 2, 1)\n",
    "plt.plot(x,y)\n",
    "\n",
    "#plot 2:\n",
    "x = np.array([0, 1, 2, 3])\n",
    "y = np.array([10, 20, 30, 40])\n",
    "\n",
    "plt.subplot(1, 2, 2)\n",
    "plt.plot(x,y)\n",
    "\n",
    "plt.show()"
   ]
  },
  {
   "cell_type": "markdown",
   "metadata": {
    "id": "GfmPket0dCAM"
   },
   "source": [
    "<h4 align=\"justify\">A função <b>subplot()</b> do Matplotlib é usada para criar vários gráficos (subplots) dentro de uma única figura, organizados em linhas e colunas. Ela segue a sintaxe básica:</h4>\n",
    "\n",
    "<pre><code>\n",
    "<h4 align=\"justify\">plt.subplot(n_linhas, n_colunas, índice)</h4>\n",
    "</code></pre>\n",
    "\n",
    "<li><b>n_linhas</b>: número de linhas de subplots.</li>\n",
    "<li><b>n_colunas</b>: número de colunas de subplots.</li>\n",
    "<li><b>índice</b>: posição do gráfico atual (contagem começa em 1 e vai da esquerda para a direita, de cima para baixo).</li>"
   ]
  },
  {
   "cell_type": "code",
   "execution_count": null,
   "metadata": {
    "id": "NtBPXe2GeOXx"
   },
   "outputs": [],
   "source": [
    "import matplotlib.pyplot as plt\n",
    "\n",
    "# Como são 2 gráficos lado a lado, largura total será 8*2 = 16\n",
    "plt.figure(figsize=(16, 6))\n",
    "\n",
    "# Dados para Santarém 2024\n",
    "x1 = df_copia[(df_copia['municipio'] == 'Santarém') & (df_copia['ano'] == 2024)]['mes']\n",
    "y1 = df_copia[(df_copia['municipio'] == 'Santarém') & (df_copia['ano'] == 2024)]['area_desmatada_ha']\n",
    "\n",
    "# Dados para Porto Velho 2024\n",
    "x2 = df_copia[(df_copia['municipio'] == 'Porto Velho') & (df_copia['ano'] == 2024)]['mes']\n",
    "y2 = df_copia[(df_copia['municipio'] == 'Porto Velho') & (df_copia['ano'] == 2024)]['area_desmatada_ha']\n",
    "\n",
    "# Plot 1 - Santarém\n",
    "plt.subplot(1, 2, 1)\n",
    "plt.plot(x1, y1, marker='o', color='green')\n",
    "plt.title(\"Santarém - Área Desmatada 2024\")\n",
    "plt.xlabel(\"Mês\")\n",
    "plt.ylabel(\"Área Desmatada (ha)\")\n",
    "\n",
    "\n",
    "# Plot 2 - Porto Velho\n",
    "plt.subplot(1, 2, 2)\n",
    "plt.plot(x2, y2, marker='o', color='red')\n",
    "plt.title(\"Porto Velho - Área Desmatada 2024\")\n",
    "plt.xlabel(\"Mês\")\n",
    "plt.ylabel(\"Área Desmatada (ha)\")\n",
    "\n",
    "# Exibir gráficos\n",
    "plt.suptitle(\"Área Desmatada por Município em 2024\", fontsize=20)\n",
    "plt.show()\n"
   ]
  },
  {
   "cell_type": "markdown",
   "metadata": {
    "id": "7Wfe1Un7h3KS"
   },
   "source": [
    "# **:: Matplotlib Scatter**"
   ]
  },
  {
   "cell_type": "markdown",
   "metadata": {
    "id": "dHl5LD35h_tE"
   },
   "source": [
    "<h4 align=\"justify\">O Matplotlib Scatter é utilizado para criar gráficos de dispersão, que representam pontos individuais no plano cartesiano com base em dois conjuntos de dados, normalmente indicados pelas coordenadas x (eixo horizontal) e y (eixo vertical). Esse tipo de gráfico é ideal para visualizar a <b>relação entre duas variáveis, identificar padrões, clusters, outliers e correlações</b>. No Matplotlib, usamos a função <b>scatter()</b> para gerar esse tipo de visualização, podendo personalizar cor, tamanho, formato dos pontos e até mapear cores com base em uma terceira variável.</h4>\n",
    "<h4 align=\"justify\">Dentro do contexto de nosso curso, podemos usar <b>scatter()</b> para representar, por exemplo, a relação entre temperatura média e área desmatada em diferentes municípios, ajudando a identificar se há alguma correlação entre mudanças climáticas e aumento do desmatamento. Também é possível criar gráficos de dispersão para comparar umidade relativa e biodiversidade, destacando municípios com maiores ou menores variações. Esse tipo de análise visual facilita a compreensão de padrões ambientais e apoia decisões estratégicas de preservação.</h4>\n"
   ]
  },
  {
   "cell_type": "code",
   "execution_count": null,
   "metadata": {
    "id": "sj2JclTpiw02"
   },
   "outputs": [],
   "source": [
    "x = np.array([5,7,8,7,2,17,2,9,4,11,12,9,6])\n",
    "y = np.array([99,86,87,88,111,86,103,87,94,78,77,85,86])\n",
    "\n",
    "plt.scatter(x, y)\n",
    "plt.show()"
   ]
  },
  {
   "cell_type": "code",
   "execution_count": null,
   "metadata": {
    "id": "3o0e-IE3joqI"
   },
   "outputs": [],
   "source": [
    "# Criar um gráfico de dispersão relacionando área desmatada e temperatura média\n",
    "plt.scatter(\n",
    "    df_copia['temp_media_c'],    # Eixo X: temperatura média\n",
    "    df_copia['area_desmatada_ha'],      # Eixo Y: área desmatada\n",
    "    color='green',                      # Cor dos pontos\n",
    "    alpha=0.6,                          # Transparência\n",
    "    edgecolors='black'                  # Contorno dos pontos\n",
    ")\n",
    "\n",
    "# Adicionar título e rótulos\n",
    "plt.title(\"Relação entre Temperatura Média e Área Desmatada na Amazônia\")\n",
    "plt.xlabel(\"Temperatura Média (°C)\")\n",
    "plt.ylabel(\"Área Desmatada (ha)\")\n",
    "\n",
    "# Exibir o gráfico\n",
    "plt.show()"
   ]
  },
  {
   "cell_type": "code",
   "execution_count": null,
   "metadata": {
    "id": "pn6fwEyHlBHr"
   },
   "outputs": [],
   "source": [
    "# Criar o scatter plot\n",
    "plt.figure(figsize=(8,6))\n",
    "plt.scatter(df_copia['temp_media_c'], df_copia['area_desmatada_ha'],\n",
    "            color='green', alpha=0.6, label='Dados reais')\n",
    "\n",
    "# Calcular a linha de tendência (ajuste linear)\n",
    "z = np.polyfit(df_copia['temp_media_c'], df_copia['area_desmatada_ha'], 1)\n",
    "p = np.poly1d(z)\n",
    "\n",
    "# Adicionar a linha de tendência ao gráfico\n",
    "plt.plot(df_copia['temp_media_c'], p(df_copia['temp_media_c']),\n",
    "         color='red', linewidth=2, label='Tendência')\n",
    "\n",
    "# Personalizar o gráfico\n",
    "plt.title(\"Relação entre Temperatura Média e Área Desmatada na Amazônia\", fontsize=14)\n",
    "plt.xlabel(\"Temperatura Média (°C)\")\n",
    "plt.ylabel(\"Área Desmatada (ha)\")\n",
    "plt.legend()\n",
    "plt.grid(True)\n",
    "\n",
    "# Exibir\n",
    "plt.show()\n"
   ]
  },
  {
   "cell_type": "markdown",
   "metadata": {
    "id": "hg6mQEKfl4QT"
   },
   "source": [
    "# **:: Matplotlib Bars**"
   ]
  },
  {
   "cell_type": "markdown",
   "metadata": {
    "id": "_vmlRKermCfb"
   },
   "source": [
    "<h4 align=\"justify\">O Matplotlib Bars, criado com a função <b>bar()</b>, é utilizado para representar dados categóricos ou comparações entre grupos por meio de barras verticais ou horizontais. Cada barra representa um valor associado a uma categoria, facilitando a visualização de diferenças ou tendências. Ademais, podemos usar gráficos de barras para comparar, por exemplo, a área total desmatada por município em um determinado ano, destacando quais localidades concentram maiores impactos ambientais. Esse tipo de visualização é ideal quando queremos fazer comparações diretas e intuitivas entre unidades geográficas, períodos ou indicadores ambientais.</h4>"
   ]
  },
  {
   "cell_type": "code",
   "execution_count": null,
   "metadata": {
    "id": "lmtpp_1Ymh3k"
   },
   "outputs": [],
   "source": [
    "x = np.array([\"A\", \"B\", \"C\", \"D\"])\n",
    "y = np.array([3, 8, 1, 10])\n",
    "\n",
    "plt.bar(x,y)\n",
    "plt.show()"
   ]
  },
  {
   "cell_type": "code",
   "execution_count": null,
   "metadata": {
    "id": "o-_KK_aYmqRS"
   },
   "outputs": [],
   "source": [
    "# Filtrar dados de Santarém para o ano de 2025\n",
    "df_santarem_2025 = df_copia[(df_copia['municipio'] == 'Santarém') & (df_copia['ano'] == 2025)]\n",
    "\n",
    "# Criar gráfico de barras\n",
    "plt.figure(figsize=(11, 6))\n",
    "plt.bar(df_santarem_2025['mes'], df_santarem_2025['area_desmatada_ha'], color='green')\n",
    "plt.title(\"Área Desmatada por Mês em Santarém - 2025\", fontsize=14)\n",
    "plt.xlabel(\"Mês\")\n",
    "plt.ylabel(\"Área Desmatada (ha)\")\n",
    "plt.grid(axis='y', linestyle='--', alpha=0.7)\n",
    "plt.show()"
   ]
  },
  {
   "cell_type": "code",
   "execution_count": null,
   "metadata": {
    "id": "m9lhjUX-nsxq"
   },
   "outputs": [],
   "source": [
    "# Filtrar dados para Santarém e Porto Velho em 2025\n",
    "df_santarem_2025 = df_copia[(df_copia['municipio'] == 'Santarém') & (df_copia['ano'] == 2025)]\n",
    "df_portovelho_2025 = df_copia[(df_copia['municipio'] == 'Porto Velho') & (df_copia['ano'] == 2025)]\n",
    "\n",
    "# Criar figura com 2 subplots lado a lado\n",
    "plt.figure(figsize=(12, 5))\n",
    "\n",
    "# Gráfico para Santarém\n",
    "plt.subplot(1, 2, 1)\n",
    "plt.bar(df_santarem_2025['mes'], df_santarem_2025['area_desmatada_ha'], color='green')\n",
    "plt.title(\"Área Desmatada - Santarém (2025)\", fontsize=12)\n",
    "plt.xlabel(\"Mês\")\n",
    "plt.ylabel(\"Área Desmatada (ha)\")\n",
    "plt.grid(axis='y', linestyle='--', alpha=0.7)\n",
    "\n",
    "# Gráfico para Porto Velho\n",
    "plt.subplot(1, 2, 2)\n",
    "plt.bar(df_portovelho_2025['mes'], df_portovelho_2025['area_desmatada_ha'], color='orange')\n",
    "plt.title(\"Área Desmatada - Porto Velho (2025)\", fontsize=12)\n",
    "plt.xlabel(\"Mês\")\n",
    "plt.ylabel(\"Área Desmatada (ha)\")\n",
    "plt.grid(axis='y', linestyle='--', alpha=0.7)\n",
    "\n",
    "# Ajustar espaçamento\n",
    "plt.tight_layout()\n",
    "\n",
    "# Exibir os gráficos\n",
    "plt.show()"
   ]
  },
  {
   "cell_type": "code",
   "execution_count": null,
   "metadata": {
    "id": "A6Ug1LAKoO8c"
   },
   "outputs": [],
   "source": [
    "# barra na horizontal\n",
    "\n",
    "x = np.array([\"A\", \"B\", \"C\", \"D\"])\n",
    "y = np.array([3, 8, 1, 10])\n",
    "\n",
    "plt.barh(x, y)\n",
    "plt.show()"
   ]
  },
  {
   "cell_type": "markdown",
   "metadata": {
    "id": "ENKvqHajsKG_"
   },
   "source": [
    "# **:: Matplotlib Bars**"
   ]
  },
  {
   "cell_type": "markdown",
   "metadata": {
    "id": "S9DQ5HmYsSgd"
   },
   "source": [
    "<h4 align=\"justify\">O Matplotlib Histogram é um tipo de gráfico usado para representar a distribuição de um conjunto de dados, dividindo-o em intervalos chamados bins e mostrando a frequência de valores dentro de cada intervalo. No contexto da Amazônia, por exemplo, podemos utilizá-lo para visualizar quantas áreas desmatadas se enquadram em diferentes faixas de tamanho, permitindo identificar concentrações, padrões e outliers. É útil para análises ambientais, pois transforma dados brutos em uma <b>visão clara sobre como os valores estão distribuídos.</b></h4>"
   ]
  },
  {
   "cell_type": "code",
   "execution_count": null,
   "metadata": {
    "id": "7GsIW-5etq7X"
   },
   "outputs": [],
   "source": [
    "# Cria uma nova figura com tamanho 8x5 polegadas\n",
    "plt.figure(figsize=(8,5))\n",
    "\n",
    "# Cria o histograma:\n",
    "# - Primeiro parâmetro: coluna 'area_desmatada_ha' do dataframe df_copia\n",
    "# - bins=10: divide os dados em 10 intervalos (faixas)\n",
    "# - color='green': define a cor verde para as barras\n",
    "# - edgecolor='black': coloca contorno preto nas barras para melhor visualização\n",
    "plt.hist(df_copia['area_desmatada_ha'], bins=10, color='green', edgecolor='black')\n",
    "\n",
    "# Define o título do gráfico\n",
    "plt.title(\"Distribuição da Área Desmatada na Amazônia\")\n",
    "\n",
    "# Define o rótulo do eixo X\n",
    "plt.xlabel(\"Área Desmatada (ha)\")\n",
    "\n",
    "# Define o rótulo do eixo Y\n",
    "plt.ylabel(\"Frequência\")\n",
    "\n",
    "# Adiciona uma grade ao gráfico:\n",
    "# - linestyle='--': linhas tracejadas\n",
    "# - alpha=0.6: define transparência\n",
    "plt.grid(True, linestyle='--', alpha=0.6)\n",
    "\n",
    "# Exibe o gráfico\n",
    "plt.show()"
   ]
  },
  {
   "cell_type": "code",
   "execution_count": null,
   "metadata": {
    "id": "tFeTEzfStyeG"
   },
   "outputs": [],
   "source": [
    "import matplotlib.pyplot as plt  # Importa o Matplotlib para criar gráficos\n",
    "\n",
    "# Cria uma nova figura com tamanho 10x6 polegadas\n",
    "plt.figure(figsize=(10,6))\n",
    "\n",
    "# Cria o histograma:\n",
    "# - bins=30: aumenta o número de intervalos para maior detalhamento\n",
    "# - color='orange': define cor laranja para barras\n",
    "# - edgecolor='black': coloca contorno preto nas barras\n",
    "plt.hist(df_copia['area_desmatada_ha'], bins=30, color='orange', edgecolor='black')\n",
    "\n",
    "# Define o título do gráfico\n",
    "plt.title(\"Detecção Visual de Outliers - Área Desmatada\")\n",
    "\n",
    "# Define o rótulo do eixo X\n",
    "plt.xlabel(\"Área Desmatada (ha)\")\n",
    "\n",
    "# Define o rótulo do eixo Y\n",
    "plt.ylabel(\"Frequência\")\n",
    "\n",
    "# Adiciona uma grade tracejada com transparência\n",
    "plt.grid(True, linestyle='--', alpha=0.6)\n",
    "\n",
    "# Exibe o gráfico\n",
    "plt.show()\n"
   ]
  },
  {
   "cell_type": "markdown",
   "metadata": {
    "id": "vJTQCnsCubrR"
   },
   "source": [
    "# **::Matplotlib Pie Charts**"
   ]
  },
  {
   "cell_type": "markdown",
   "metadata": {
    "id": "E-rysFMAujoc"
   },
   "source": [
    "<h4 align=\"justify\">O Matplotlib PieCharts é um recurso usado para criar gráficos de pizza, ideais para mostrar proporções ou a participação percentual de diferentes categorias em um todo. Ele é gerado pela função <b>plt.pie()</b>, que recebe como entrada uma lista ou array com os valores de cada fatia e, opcionalmente, parâmetros como <b>labels</b> (rótulos das categorias), <b>autopct</b> (formatação das porcentagens exibidas), <b>colors</b> (cores das fatias) e <b>startangle</b> (ângulo inicial para a primeira fatia). No contexto do curso, por exemplo, podemos utilizá-lo para mostrar a participação de diferentes municípios na área total desmatada, facilitando a compreensão visual de quais regiões mais contribuem para o problema.</h4>"
   ]
  },
  {
   "cell_type": "code",
   "execution_count": null,
   "metadata": {
    "id": "gT7mNsNgvKTB"
   },
   "outputs": [],
   "source": [
    "# Filtrar dados apenas do ano de 2025\n",
    "df_2025 = df_copia[df_copia['ano'] == 2025]\n",
    "\n",
    "# Agrupar os dados por município e somar a área desmatada de cada um\n",
    "desmatamento_por_municipio = df_2025.groupby('municipio')['area_desmatada_ha'].sum()\n",
    "\n",
    "# Criar o gráfico de pizza (Pie Chart)\n",
    "plt.figure(figsize=(6, 6))  # Define o tamanho da figura\n",
    "\n",
    "# Função plt.pie() cria o gráfico de pizza\n",
    "plt.pie(\n",
    "    desmatamento_por_municipio,                  # Valores a serem representados\n",
    "    labels=desmatamento_por_municipio.index,     # Rótulos (nomes dos municípios)\n",
    "    autopct='%1.1f%%',                           # Mostra porcentagem com 1 casa decimal\n",
    "    startangle=90,                               # Rotaciona o início do gráfico para 90º\n",
    "    colors=plt.cm.Set3.colors                    # Define uma paleta de cores\n",
    ")\n",
    "\n",
    "# Define o título do gráfico\n",
    "plt.title(\"Participação dos Municípios na Área Desmatada - 2025\", fontsize=20)\n",
    "\n",
    "# Exibe o gráfico\n",
    "plt.show()"
   ]
  },
  {
   "cell_type": "markdown",
   "metadata": {
    "id": "BgR0_5GZkqpN"
   },
   "source": [
    "# **&#9776; SEABORN**"
   ]
  },
  {
   "cell_type": "markdown",
   "metadata": {
    "id": "3a8zxdddkuR9"
   },
   "source": [
    "<h4 align=\"justify\">A Seaborn é uma biblioteca de visualização de dados em Python construída sobre o <b>Matplotlib</b>\n",
    " e integrada ao <b>Pandas</b>, projetada para facilitar a criação de gráficos estatísticos bonitos e informativos. Ela fornece uma <b>interface de alto nível para a criação de gráficos complexos com poucas linhas de código</b>, permitindo que os usuários explorem padrões, relações e distribuições de dados de forma visualmente atraente. Diferente do Matplotlib, que exige mais configuração manual, o Seaborn aplica automaticamente estilos, paletas de cores e ajustes visuais que deixam os gráficos mais limpos e profissionais.</h4>\n",
    "\n",
    "<h4 align=\"justify\">Além disso, o Seaborn possui funções específicas para análise estatística, como gráficos de dispersão com linhas de regressão, mapas de calor, gráficos de distribuição, boxplots e violin plots, entre outros. Ele é especialmente útil no contexto da Amazônia, por exemplo, para explorar padrões de desmatamento, identificar correlações entre variáveis ambientais ou destacar regiões críticas usando paletas de cores intuitivas. Essa abordagem visual torna os dados mais acessíveis, facilitando a comunicação de insights para públicos técnicos e não técnicos.</h4>"
   ]
  },
  {
   "cell_type": "code",
   "execution_count": 5,
   "metadata": {
    "id": "07GAqoxUlWAg"
   },
   "outputs": [
    {
     "name": "stdout",
     "output_type": "stream",
     "text": [
      "Biblioteca Seaborn carregada com sucesso!\n"
     ]
    }
   ],
   "source": [
    "# Importa a biblioteca Seaborn com o apelido 'sns' (convenção de uso)\n",
    "import seaborn as sns\n",
    "\n",
    "# Também é comum importar o Matplotlib para controle extra dos gráficos\n",
    "import matplotlib.pyplot as plt\n",
    "\n",
    "# Configura o estilo visual padrão dos gráficos Seaborn\n",
    "sns.set_theme()\n",
    "\n",
    "print(\"Biblioteca Seaborn carregada com sucesso!\")"
   ]
  },
  {
   "cell_type": "code",
   "execution_count": null,
   "metadata": {
    "id": "M2CVk9SPl1xh"
   },
   "outputs": [],
   "source": [
    "# Filtra dados para Santarém em 2025\n",
    "df_santarem_2025 = df_copia[(df_copia['municipio'] == 'Santarém') & (df_copia['ano'] == 2025)]\n",
    "\n",
    "# Cria um gráfico de barras simples com Seaborn\n",
    "sns.barplot(\n",
    "    data=df_santarem_2025,        # Fonte dos dados\n",
    "    x='mes',                      # Eixo X: meses\n",
    "    y='area_desmatada_ha',        # Eixo Y: área desmatada\n",
    "    color='green'                 # Cor das barras\n",
    ")\n",
    "\n",
    "# Adiciona título e rótulos\n",
    "plt.title(\"Área Desmatada por Mês em Santarém - 2025\", fontsize=14)\n",
    "plt.xlabel(\"Mês\")\n",
    "plt.ylabel(\"Área Desmatada (ha)\")\n",
    "\n",
    "# Exibe o gráfico\n",
    "plt.show()"
   ]
  },
  {
   "cell_type": "markdown",
   "metadata": {
    "id": "Xw7bIYILmv4N"
   },
   "source": [
    "# **:: BoxPlot**"
   ]
  },
  {
   "cell_type": "markdown",
   "metadata": {
    "id": "7DRFh28spCmL"
   },
   "source": [
    "<h4 align=\"justify\">O <b>boxplot</b> (ou diagrama de caixa e bigodes) é uma ferramenta estatística poderosa para visualizar a distribuição de dados e identificar valores discrepantes (outliers). Ele divide os dados em quartis, onde a “caixa” central representa o intervalo interquartil (IQR) que contém 50% das observações, a linha dentro da caixa indica a mediana e os “bigodes” mostram a variação dos dados dentro de um limite considerado normal. Valores fora desse intervalo aparecem como pontos individuais, permitindo identificar anomalias ou comportamentos atípicos. É especialmente útil para comparações entre grupos ou categorias.</h4>"
   ]
  },
  {
   "cell_type": "markdown",
   "metadata": {
    "id": "ND5P9nqgqiBs"
   },
   "source": [
    "# Como Calcular o IQR (Interquartile Range)\n",
    "\n",
    "O **IQR** (*Intervalo Interquartil*) é uma medida estatística que descreve a dispersão dos dados, sendo útil para detectar **outliers**.  \n",
    "Ele é calculado como a diferença entre o terceiro quartil (**Q3**) e o primeiro quartil (**Q1**):\n",
    "\n",
    "##**\\[ IQR = Q3 - Q1\\]**\n",
    "\n",
    "## Passos para calcular o IQR\n",
    "\n",
    "1. **Organize os dados** em ordem crescente.\n",
    "2. **Encontre Q1** → o valor que separa os 25% menores dados.\n",
    "3. **Encontre Q3** → o valor que separa os 25% maiores dados.\n",
    "4. **Calcule o IQR**:\n",
    "\n",
    "**Defina os limites para outliers**:\n",
    "- ## **Limite inferior = Q1 - (1.5 × IQR)**\n",
    "- ## **Limite superior = Q3 + (1.5 × IQR)**\n",
    "  \n",
    "Valores fora desses limites são considerados **outliers**."
   ]
  },
  {
   "cell_type": "code",
   "execution_count": 1,
   "metadata": {
    "id": "du4DowrFrLdi"
   },
   "outputs": [
    {
     "name": "stdout",
     "output_type": "stream",
     "text": [
      "Q1: 7.0, Q3: 11.0, IQR: 4.0\n",
      "Limite Inferior: 1.0, Limite Superior: 17.0\n"
     ]
    }
   ],
   "source": [
    "import numpy as np\n",
    "\n",
    "# Exemplo de dados\n",
    "dados = [7, 8, 5, 6, 9, 12, 15, 14, 8, 7, 10]\n",
    "\n",
    "# Calcular Q1 e Q3\n",
    "Q1 = np.percentile(dados, 25)\n",
    "Q3 = np.percentile(dados, 75)\n",
    "\n",
    "# Calcular IQR\n",
    "IQR = Q3 - Q1\n",
    "\n",
    "# Limites para outliers\n",
    "limite_inferior = Q1 - 1.5 * IQR\n",
    "limite_superior = Q3 + 1.5 * IQR\n",
    "\n",
    "print(f\"Q1: {Q1}, Q3: {Q3}, IQR: {IQR}\")\n",
    "print(f\"Limite Inferior: {limite_inferior}, Limite Superior: {limite_superior}\")\n"
   ]
  },
  {
   "cell_type": "code",
   "execution_count": 6,
   "metadata": {
    "id": "HSTOVfAKpQFb"
   },
   "outputs": [
    {
     "ename": "NameError",
     "evalue": "name 'df_copia' is not defined",
     "output_type": "error",
     "traceback": [
      "\u001b[0;31m---------------------------------------------------------------------------\u001b[0m",
      "\u001b[0;31mNameError\u001b[0m                                 Traceback (most recent call last)",
      "Cell \u001b[0;32mIn[6], line 7\u001b[0m\n\u001b[1;32m      1\u001b[0m \u001b[38;5;66;03m# Criar o boxplot para área desmatada por ano\u001b[39;00m\n\u001b[1;32m      2\u001b[0m \u001b[38;5;66;03m# hue=\"ano\" evita o warning e 'legend=False' remove legenda duplicada\u001b[39;00m\n\u001b[1;32m      3\u001b[0m plt\u001b[38;5;241m.\u001b[39mfigure(figsize\u001b[38;5;241m=\u001b[39m(\u001b[38;5;241m8\u001b[39m, \u001b[38;5;241m6\u001b[39m))\n\u001b[1;32m      4\u001b[0m sns\u001b[38;5;241m.\u001b[39mboxplot(\n\u001b[1;32m      5\u001b[0m     x\u001b[38;5;241m=\u001b[39m\u001b[38;5;124m\"\u001b[39m\u001b[38;5;124mano\u001b[39m\u001b[38;5;124m\"\u001b[39m,  \u001b[38;5;66;03m# Variável categórica no eixo X\u001b[39;00m\n\u001b[1;32m      6\u001b[0m     y\u001b[38;5;241m=\u001b[39m\u001b[38;5;124m\"\u001b[39m\u001b[38;5;124marea_desmatada_ha\u001b[39m\u001b[38;5;124m\"\u001b[39m,  \u001b[38;5;66;03m# Variável numérica no eixo Y\u001b[39;00m\n\u001b[0;32m----> 7\u001b[0m     data\u001b[38;5;241m=\u001b[39m\u001b[43mdf_copia\u001b[49m,  \u001b[38;5;66;03m# DataFrame de origem\u001b[39;00m\n\u001b[1;32m      8\u001b[0m     palette\u001b[38;5;241m=\u001b[39m\u001b[38;5;124m\"\u001b[39m\u001b[38;5;124mSet2\u001b[39m\u001b[38;5;124m\"\u001b[39m,  \u001b[38;5;66;03m# Paleta de cores\u001b[39;00m\n\u001b[1;32m      9\u001b[0m     hue\u001b[38;5;241m=\u001b[39m\u001b[38;5;124m\"\u001b[39m\u001b[38;5;124mano\u001b[39m\u001b[38;5;124m\"\u001b[39m,  \u001b[38;5;66;03m# Necessário para evitar warning quando se usa palette\u001b[39;00m\n\u001b[1;32m     10\u001b[0m     legend\u001b[38;5;241m=\u001b[39m\u001b[38;5;28;01mFalse\u001b[39;00m  \u001b[38;5;66;03m# Remove legenda redundante\u001b[39;00m\n\u001b[1;32m     11\u001b[0m )\n\u001b[1;32m     13\u001b[0m \u001b[38;5;66;03m# Título e rótulos\u001b[39;00m\n\u001b[1;32m     14\u001b[0m plt\u001b[38;5;241m.\u001b[39mtitle(\u001b[38;5;124m\"\u001b[39m\u001b[38;5;124mDistribuição da Área Desmatada por Ano na Amazônia\u001b[39m\u001b[38;5;124m\"\u001b[39m, fontsize\u001b[38;5;241m=\u001b[39m\u001b[38;5;241m14\u001b[39m)\n",
      "\u001b[0;31mNameError\u001b[0m: name 'df_copia' is not defined"
     ]
    },
    {
     "data": {
      "text/plain": [
       "<Figure size 800x600 with 0 Axes>"
      ]
     },
     "metadata": {},
     "output_type": "display_data"
    }
   ],
   "source": [
    "# Criar o boxplot para área desmatada por ano\n",
    "# hue=\"ano\" evita o warning e 'legend=False' remove legenda duplicada\n",
    "plt.figure(figsize=(8, 6))\n",
    "sns.boxplot(\n",
    "    x=\"ano\",  # Variável categórica no eixo X\n",
    "    y=\"area_desmatada_ha\",  # Variável numérica no eixo Y\n",
    "    data=df_copia,  # DataFrame de origem\n",
    "    palette=\"Set2\",  # Paleta de cores\n",
    "    hue=\"ano\",  # Necessário para evitar warning quando se usa palette\n",
    "    legend=False  # Remove legenda redundante\n",
    ")\n",
    "\n",
    "# Título e rótulos\n",
    "plt.title(\"Distribuição da Área Desmatada por Ano na Amazônia\", fontsize=14)\n",
    "plt.xlabel(\"Ano\")\n",
    "plt.ylabel(\"Área Desmatada (ha)\")\n",
    "\n",
    "# Exibir o gráfico\n",
    "plt.show()"
   ]
  },
  {
   "cell_type": "markdown",
   "metadata": {
    "id": "y4Ck5IO4rgPA"
   },
   "source": [
    "# **:: BoxPlot**"
   ]
  },
  {
   "cell_type": "markdown",
   "metadata": {
    "id": "bwop3LsFrySU"
   },
   "source": [
    "<h4 align=\"justify\">O <b>mapa de calor (heatmap)</b> é uma forma visual de representar dados em uma matriz de cores, onde cada célula é preenchida de acordo com a intensidade do valor que ela representa. No contexto da análise de dados, ele é especialmente útil para identificar padrões, correlações e concentrações de valores de forma rápida e intuitiva. Em bibliotecas como o Seaborn, o heatmap é frequentemente utilizado para visualizar matrizes de correlação, facilitando a compreensão de quais variáveis estão mais relacionadas.</h4>\n",
    "<h4 align=\"justify\">Dentro do nosso contexto, por exemplo, podemos usar um mapa de calor para entender a correlação entre a área desmatada, variáveis climáticas e indicadores ambientais ao longo dos meses ou anos. Isso pode ajudar a descobrir padrões como a influência de certas condições sobre o desmatamento, permitindo decisões mais assertivas. A cor atua como um indicador visual da intensidade ou frequência, facilitando a análise para especialistas e gestores.</h4>"
   ]
  },
  {
   "cell_type": "code",
   "execution_count": null,
   "metadata": {
    "id": "-mrTCOTerxVi"
   },
   "outputs": [],
   "source": [
    "import seaborn as sns\n",
    "import matplotlib.pyplot as plt\n",
    "\n",
    "# Calcular a matriz de correlação para o dataframe\n",
    "correlacao = df_copia.corr(numeric_only=True)\n",
    "\n",
    "# Criar o mapa de calor\n",
    "plt.figure(figsize=(8, 6))\n",
    "sns.heatmap(correlacao, annot=True, cmap='YlGnBu', fmt=\".2f\")\n",
    "\n",
    "# Título do gráfico\n",
    "plt.title(\"Mapa de Calor - Correlação entre Variáveis Ambientais\", fontsize=14)\n",
    "plt.show()\n"
   ]
  },
  {
   "cell_type": "markdown",
   "metadata": {
    "id": "blXC1wbXsVO0"
   },
   "source": [
    "<h4 align=\"justify\"><b>Insight da análise do gráfico de calor</b>: O mapa de calor revela forte correlação positiva (0,83) entre área desmatada e focos de queimada, indicando que queimadas tendem a ocorrer nas mesmas regiões e períodos de maior desmatamento. Também há correlação negativa moderada entre chuva e essas variáveis, sugerindo que períodos mais secos favorecem ambos os fenômenos. Isso destaca a importância do monitoramento climático integrado ao controle do desmatamento na Amazônia.</h4>"
   ]
  },
  {
   "cell_type": "markdown",
   "metadata": {
    "id": "gVtycQeZtSd9"
   },
   "source": [
    "## **Violin Plot**\n",
    "\n",
    "<h4 align=\"justify\">O <b>gráfico de violino (violin plot)</b> é uma ferramenta de visualização que combina características do boxplot com a estimativa de densidade de probabilidade, permitindo observar a distribuição de dados de forma mais detalhada. Ele mostra não apenas medidas estatísticas como mediana e quartis, mas também a forma da distribuição, facilitando a identificação de padrões, assimetrias e concentração de valores. É muito útil para comparar distribuições entre diferentes categorias.</h4>"
   ]
  },
  {
   "cell_type": "code",
   "execution_count": null,
   "metadata": {
    "id": "JUODIsWyuEkA"
   },
   "outputs": [],
   "source": [
    "# Exemplo simples com dados do dataframe df_copia\n",
    "# Comparar a distribuição da área desmatada por ano\n",
    "plt.figure(figsize=(14,8))\n",
    "sns.violinplot(\n",
    "    x=\"ano\",  # Variável categórica no eixo X\n",
    "    y=\"area_desmatada_ha\",  # Variável numérica no eixo Y\n",
    "    data=df_copia,  # DataFrame de origem\n",
    "    palette=\"Set2\",  # Paleta de cores\n",
    "    hue=\"ano\",  # Necessário para evitar warning quando se usa palette\n",
    "    legend=False  # Remove legenda redundante\n",
    ")\n",
    "plt.title(\"Distribuição da Área Desmatada por Ano - Gráfico de Violino\")\n",
    "plt.xlabel(\"Ano\")\n",
    "plt.ylabel(\"Área Desmatada (ha)\")\n",
    "plt.show()"
   ]
  },
  {
   "cell_type": "markdown",
   "metadata": {
    "id": "Gb6FAoTaufYa"
   },
   "source": [
    "<h4 align=\"justify\"><b>Insight da análise do gráfico de violino</b>: O gráfico de violino mostra que, em 2024, a área desmatada apresenta maior variabilidade e concentrações distintas, com alguns picos mais altos em relação a 2025. Já em 2025, a distribuição é mais compacta e concentrada em valores médios, com menos extremos. Isso sugere que 2024 teve eventos de desmatamento mais intensos e irregulares, enquanto 2025 apresentou um padrão mais uniforme, possivelmente devido a mudanças em políticas, clima ou fiscalização.</h4>"
   ]
  },
  {
   "cell_type": "markdown",
   "metadata": {
    "id": "2Bje8R9CGpXr"
   },
   "source": [
    "<img width=\"160\" src=\"https://i.postimg.cc/CKttW9QY/Chat-GPT-Image-12-de-ago-de-2025-07-11-33.png\">\n",
    "<h3 align=\"justify\"><b>PROJETO RENASCER PÓS-APOCALIPSE - MONITORAMENTO AMBIENTAL COM BASE EM INDICADORES DE RECUPERAÇÃO</b></h3>\n",
    "<h4 align=\"justify\">Após décadas de descaso, o planeta sucumbiu ao colapso ambiental. O aquecimento global extremo, somado às queimadas incontroláveis, destruiu ecossistemas inteiros, transformando florestas exuberantes em desertos de cinzas. O ar tornou-se pesado e a biodiversidade entrou em colapso. Agora, em um cenário de reconstrução, pequenas áreas começam a dar sinais tímidos de vida. É neste momento que surge a missão dos TecnoGuardas: proteger, monitorar e acelerar o renascimento da Terra.</h4>\n",
    "\n",
    "<h4 align=\"justify\">Como TecnoGuarda, você fará parte de uma força de preservação equipada com tecnologia avançada para acompanhar as regiões que tentam florescer novamente. As poucas sementes resgatadas antes da devastação são o último recurso para reverter o desastre. Cada plantio será orientado por indicadores ambientais obtidos através da análise de gráficos e dados, ajudando a identificar onde a vida tem mais chances de prosperar.</h4>\n",
    "\n",
    "<h4 align=\"justify\">O projeto usará registros de sensores climáticos e relatórios de campo, contendo informações sobre temperatura, umidade, áreas reflorestadas, índice de queimadas e solo disponível para cultivo. A partir desses dados, você aplicará ferramentas como Python, Pandas, Matplotlib e Seaborn para gerar visualizações capazes de revelar padrões e prever as melhores áreas para intervenção. A precisão das decisões será vital para garantir que cada semente seja plantada no local e momento ideais.</h4>\n",
    "\n",
    "<h4 align=\"justify\">Sua missão será extrair o máximo de informação dos indicadores, identificar regiões prioritárias para recuperação e criar planos de ação rápidos e eficazes. Em um mundo que já sentiu o peso da destruição total, a tecnologia e a análise de dados não são apenas ferramentas: são a última esperança de ver a vida florescer novamente.</h4>"
   ]
  },
  {
   "cell_type": "markdown",
   "metadata": {
    "id": "CVx9vnmIIu0U"
   },
   "source": [
    "<h4><b>Atividade 1 - Monitoramento Ambiental e Identificação de Áreas de Recuperação na Amazônia Pós-Apocalíptica</b></h4>\n",
    "<h4 align=\"justify\">No ano de 2126, após décadas de devastação causada pelo aquecimento global e queimadas, pequenas áreas da Amazônia começam a apresentar sinais de regeneração. Como TecnoGuarda, sua missão é analisar os dados do Projeto Renascer para identificar quais regiões apresentam maior potencial de recuperação.</h4>\n",
    "<h4 align=\"justify\">Utilizando gráficos e técnicas aprendidas, você deverá visualizar a variação mensal da temperatura média e da umidade em diferentes localidades, correlacionando com a área de vegetação regenerada (ha). Seu objetivo é gerar insights que ajudem a priorizar onde plantar as sementes raras armazenadas, maximizando as chances de sucesso da recuperação florestal.</h4>"
   ]
  },
  {
   "cell_type": "code",
   "execution_count": null,
   "metadata": {
    "cellView": "form",
    "id": "Rlu6t9nqJvjT"
   },
   "outputs": [],
   "source": [
    "# @title\n",
    "# -------------------------------------------------\n",
    "# ATIVIDADE 1 – Tendência mensal e relação clima x queimadas (ano 2126)\n",
    "# -------------------------------------------------\n",
    "\n",
    "import pandas as pd\n",
    "import numpy as np\n",
    "import matplotlib.pyplot as plt\n",
    "\n",
    "# 1) Carregar a base (ajustar o caminho se necessário)\n",
    "#    Espera-se que o CSV tenha as colunas:\n",
    "#    ano, mes, municipio, temp_media_c, chuva_mm, umidade_solo, ndvi, focos_queimada,\n",
    "#    area_desmatada_ha, plantio_sementes_kg, taxa_sobrevivencia_mudas, biodiversidade_indice,\n",
    "#    risco_fogo, status_protecao\n",
    "caminho_csv = '/content/projeto_renascer_2126.csv'\n",
    "df = pd.read_csv(caminho_csv)\n",
    "\n",
    "# 2) Garantir que o ano e mês sejam numéricos e filtrar o ano de interesse\n",
    "df['ano'] = df['ano'].astype(int)\n",
    "df['mes'] = df['mes'].astype(int)\n",
    "df_2126 = df[df['ano'] == 2126].copy()\n",
    "\n",
    "# 3) Ordenar os dados por município e mês para manter ordem cronológica\n",
    "df_2126 = df_2126.sort_values(['municipio', 'mes'])\n",
    "\n",
    "# 4) Lista de municípios para criar subplots de tendência mensal\n",
    "municipios = df_2126['municipio'].unique()\n",
    "n_municipios = len(municipios)\n",
    "\n",
    "# 5) GRÁFICO 1 – Tendência mensal da área desmatada por município\n",
    "fig, axes = plt.subplots(n_municipios, 1, figsize=(8, 3*n_municipios), sharex=True)\n",
    "\n",
    "# Se houver apenas 1 município, transformar axes em lista\n",
    "if n_municipios == 1:\n",
    "    axes = [axes]\n",
    "\n",
    "for ax, nome_municipio in zip(axes, municipios):\n",
    "    dados_mun = df_2126[df_2126['municipio'] == nome_municipio]\n",
    "    ax.plot(dados_mun['mes'], dados_mun['area_desmatada_ha'], marker='o', linestyle='-', color='green')\n",
    "    ax.set_title(f\"Tendência mensal da área desmatada – {nome_municipio} (2126)\")\n",
    "    ax.set_ylabel(\"Área desmatada (ha)\")\n",
    "    ax.grid(True)\n",
    "\n",
    "axes[-1].set_xlabel(\"Mês\")\n",
    "plt.tight_layout()\n",
    "plt.show()\n",
    "\n",
    "# 6) GRÁFICO 2 – Dispersão de chuva x focos de queimada (todas as cidades)\n",
    "plt.figure(figsize=(7,5))\n",
    "plt.scatter(df_2126['chuva_mm'], df_2126['focos_queimada'], alpha=0.7)\n",
    "plt.title(\"Relação entre chuva (mm) e focos de queimada – 2126\")\n",
    "plt.xlabel(\"Chuva (mm)\")\n",
    "plt.ylabel(\"Focos de queimada\")\n",
    "plt.grid(True)\n",
    "plt.show()\n",
    "\n",
    "# 7) (Opcional) Adicionar linha de tendência ao scatter\n",
    "x = df_2126['chuva_mm'].values\n",
    "y = df_2126['focos_queimada'].values\n",
    "if len(x) >= 2 and np.std(x) > 0:\n",
    "    m, b = np.polyfit(x, y, 1)  # regressão linear\n",
    "    x_lin = np.linspace(x.min(), x.max(), 100)\n",
    "    y_lin = m*x_lin + b\n",
    "\n",
    "    plt.figure(figsize=(7,5))\n",
    "    plt.scatter(x, y, alpha=0.7)\n",
    "    plt.plot(x_lin, y_lin, color='red')\n",
    "    plt.title(\"Chuva (mm) x Focos de queimada – 2126 (com linha de tendência)\")\n",
    "    plt.xlabel(\"Chuva (mm)\")\n",
    "    plt.ylabel(\"Focos de queimada\")\n",
    "    plt.grid(True)\n",
    "    plt.show()\n",
    "\n",
    "# 8) SUMÁRIO – Mês de maior área desmatada por município\n",
    "resumo = (\n",
    "    df_2126.loc[df_2126.groupby('municipio')['area_desmatada_ha'].idxmax(),\n",
    "                ['municipio','mes','area_desmatada_ha']]\n",
    "    .sort_values('municipio')\n",
    "    .reset_index(drop=True)\n",
    ")\n",
    "print(\"Picos mensais de área desmatada por município (ano 2126):\")\n",
    "print(resumo.to_string(index=False))\n",
    "\n",
    "# 9) Estatísticas rápidas para discussão\n",
    "estatisticas = (\n",
    "    df_2126.groupby('municipio')[['area_desmatada_ha','chuva_mm','focos_queimada']]\n",
    "    .agg(['mean','std','sum'])\n",
    "    .round(2)\n",
    ")\n",
    "print(\"\\nEstatísticas resumidas por município (média, desvio padrão e soma):\")\n",
    "print(estatisticas)\n"
   ]
  },
  {
   "cell_type": "markdown",
   "metadata": {
    "id": "hZOT4nUt05If"
   },
   "source": [
    "**Para reflexão**\n",
    "\n",
    "- Identifiquem picos mensais e relacionem com a chuva (visual + sumário).\n",
    "\n",
    "- Há tendência inversa entre chuva e área queimada (dispersão + linha).\n",
    "\n",
    "- Compare áreas com médias e somas mais altas de queimadas para priorização de ações."
   ]
  },
  {
   "cell_type": "markdown",
   "metadata": {
    "id": "FQfwvVv5J7Tp"
   },
   "source": [
    "<h4><b>Atividade 2 - Identificação de Áreas Críticas para Ação Imediata</b></h4>\n",
    "<h4 align=\"justify\">Com base no dataset do Projeto Renascer, sua missão é identificar quais regiões da Amazônia, no ano de 2126, apresentam maior risco ambiental devido a condições adversas.</h4>\n",
    "<h4 align=\"justify\">Você deverá criar e analisar gráficos de calor (Heatmaps) para correlacionar variáveis como temperatura média, umidade e índice de queimadas. O objetivo é destacar os municípios onde as condições ambientais indicam risco elevado para a regeneração natural, auxiliando na definição de planos emergenciais para evitar novas perdas e proteger as áreas mais vulneráveis.</h4>"
   ]
  },
  {
   "cell_type": "code",
   "execution_count": null,
   "metadata": {
    "cellView": "form",
    "collapsed": true,
    "id": "dCNU8dU5KZa5",
    "jupyter": {
     "outputs_hidden": true
    }
   },
   "outputs": [],
   "source": [
    "# @title\n",
    "# -----------------------------------------------\n",
    "# ATIVIDADE 2 — Heatmap de correlações e padrão temporal (ano 2126)\n",
    "# Objetivos:\n",
    "#   (1) Visualizar a correlação entre indicadores ambientais (heatmap de correlação)\n",
    "#   (2) Enxergar o padrão mensal por município (heatmap mês x município)\n",
    "# -----------------------------------------------\n",
    "\n",
    "import pandas as pd\n",
    "import numpy as np\n",
    "import matplotlib.pyplot as plt\n",
    "import seaborn as sns  # facilita o heatmap com anotações bonitas\n",
    "\n",
    "df_2126 = df[df['ano'] == 2126].copy()\n",
    "\n",
    "# === 2) Preparar lista de variáveis numéricas úteis para a correlação ===\n",
    "# Mantemos apenas colunas numéricas com sentido ambiental direto\n",
    "colunas_candidatas = [\n",
    "    'temp_media_c', 'chuva_mm', 'umidade_solo', 'ndvi',\n",
    "    'focos_queimada', 'area_desmatada_ha',\n",
    "    'plantio_sementes_kg', 'taxa_sobrevivencia_mudas',\n",
    "    'biodiversidade_indice', 'risco_fogo'\n",
    "]\n",
    "\n",
    "# Nem sempre todas existem / são numéricas — filtramos as que estiverem presentes e numéricas\n",
    "colunas_numericas = [c for c in colunas_candidatas if c in df_2126.columns]\n",
    "df_num = df_2126[colunas_numericas].apply(pd.to_numeric, errors='coerce')\n",
    "\n",
    "# === 3) HEATMAP DE CORRELAÇÃO ENTRE INDICADORES ===\n",
    "# Correlação de Pearson entre as variáveis numéricas\n",
    "corr = df_num.corr(method='pearson')\n",
    "\n",
    "plt.figure(figsize=(10, 8))\n",
    "sns.heatmap(\n",
    "    corr, annot=True, fmt=\".2f\", cmap='RdYlBu_r',\n",
    "    linewidths=.5, square=True, cbar_kws={'shrink': .8}\n",
    ")\n",
    "plt.title(\"Correlação entre indicadores ambientais – Ano 2126\")\n",
    "plt.tight_layout()\n",
    "plt.show()\n",
    "\n",
    "# DICA DE LEITURA:\n",
    "# - Azul profundo: correlação negativa forte (quando uma sobe, a outra tende a cair)\n",
    "# - Vermelho profundo: correlação positiva forte (ambas sobem/descem juntas)\n",
    "# - Próximo de 0: pouca correlação linear\n",
    "\n",
    "# === 4) HEATMAP MÊS x MUNICÍPIO (padrão temporal) ===\n",
    "# Ex.: escolher 'area_desmatada_ha' (pode trocar por 'focos_queimada' ou outra)\n",
    "variavel_heatmap = 'area_desmatada_ha'\n",
    "\n",
    "# Criar uma tabela pivô: linhas = mês, colunas = município, valores = soma ou média\n",
    "# Aqui usaremos a soma por mês/município (valor mensal agregado)\n",
    "tabela_pivo = (\n",
    "    df_2126\n",
    "    .groupby(['mes', 'municipio'])[variavel_heatmap]\n",
    "    .sum()  # use .mean() se quiser médias\n",
    "    .unstack('municipio', fill_value=0)\n",
    "    .sort_index()  # garante a ordem crescente dos meses\n",
    ")\n",
    "\n",
    "plt.figure(figsize=(12, 6))\n",
    "sns.heatmap(\n",
    "    tabela_pivo, annot=True, fmt=\".0f\", cmap='YlGn',\n",
    "    linewidths=.4, cbar_kws={'label': f'{variavel_heatmap} (agregado)'}\n",
    ")\n",
    "plt.title(f\"Padrão mensal por município – {variavel_heatmap} em 2126\")\n",
    "plt.xlabel(\"Município\")\n",
    "plt.ylabel(\"Mês\")\n",
    "plt.tight_layout()\n",
    "plt.show()\n",
    "\n",
    "# === 5) (Opcional) Normalizar por coluna para comparar perfis (0–1 por município) ===\n",
    "# Útil quando municípios têm escalas muito diferentes de valores\n",
    "tabela_norm = (tabela_pivo - tabela_pivo.min()) / (tabela_pivo.max() - tabela_pivo.min())\n",
    "\n",
    "plt.figure(figsize=(12, 6))\n",
    "sns.heatmap(\n",
    "    tabela_norm, annot=False, cmap='viridis',\n",
    "    linewidths=.4, cbar_kws={'label': f'{variavel_heatmap} (normalizado por município)'}\n",
    ")\n",
    "plt.title(f\"Perfil mensal relativo por município – {variavel_heatmap} em 2126 (normalizado)\")\n",
    "plt.xlabel(\"Município\")\n",
    "plt.ylabel(\"Mês\")\n",
    "plt.tight_layout()\n",
    "plt.show()\n",
    "\n",
    "# === 6) Saídas textuais úteis para guiar o aluno ===\n",
    "print(\"\\n>> Correlações mais fortes (top 10 em valor absoluto):\")\n",
    "corr_stack = (\n",
    "    corr.abs()\n",
    "    .where(~np.eye(len(corr), dtype=bool))   # remove diagonal\n",
    "    .stack()\n",
    "    .sort_values(ascending=False)\n",
    "    .dropna()\n",
    ")\n",
    "print(corr_stack.head(10))\n",
    "\n",
    "print(\"\\n>> Meses de maior\", variavel_heatmap, \"por município (pico mensal):\")\n",
    "picos = (\n",
    "    df_2126.loc[df_2126.groupby('municipio')[variavel_heatmap].idxmax(),\n",
    "                ['municipio','mes',variavel_heatmap]]\n",
    "    .sort_values('municipio')\n",
    "    .reset_index(drop=True)\n",
    ")\n",
    "print(picos.to_string(index=False))\n"
   ]
  },
  {
   "cell_type": "markdown",
   "metadata": {
    "id": "4pmOztRzKouH"
   },
   "source": [
    "<h4><b>Atividade 3 - Definição Estratégica das Áreas de Plantio</b></h4>\n",
    "<h4 align=\"justify\">Utilizando todos os insights gerados nas Atividades 1 e 2, sua tarefa final é indicar a área ou áreas prioritárias para o plantio no ano de 2126.</h4>\n",
    "<h4 align=\"justify\">Você deverá utilizar gráficos comparativos (Barras ou Subplots) para cruzar informações como área disponível para recuperação, índice de umidade e risco de queimadas. A análise deverá justificar a escolha com base na viabilidade ambiental e na capacidade da região de sustentar o crescimento das novas plantações a partir das sementes preservadas.</h4>"
   ]
  },
  {
   "cell_type": "code",
   "execution_count": null,
   "metadata": {
    "cellView": "form",
    "collapsed": true,
    "id": "MtvpqsikK71f",
    "jupyter": {
     "outputs_hidden": true
    }
   },
   "outputs": [],
   "source": [
    "# @title\n",
    "import pandas as pd\n",
    "from sklearn.preprocessing import MinMaxScaler\n",
    "\n",
    "# Variáveis para compor o índice de aptidão ao plantio\n",
    "variaveis_positivas = ['umidade_solo', 'ndvi', 'taxa_sobrevivencia_mudas', 'chuva_mm']\n",
    "variavel_negativa = 'risco_fogo'  # inverso no cálculo\n",
    "\n",
    "# Normalizar variáveis para escala 0–1\n",
    "scaler = MinMaxScaler()\n",
    "df_norm = df_2126.copy()\n",
    "df_norm[variaveis_positivas] = scaler.fit_transform(df_2126[variaveis_positivas])\n",
    "df_norm[variavel_negativa] = 1 - scaler.fit_transform(df_2126[[variavel_negativa]])  # inverso\n",
    "\n",
    "# Calcular pontuação média\n",
    "df_norm['pontuacao_plantio'] = df_norm[variaveis_positivas + [variavel_negativa]].mean(axis=1)\n",
    "\n",
    "# Agregar por município para achar melhor área no ano\n",
    "ranking = (\n",
    "    df_norm.groupby('municipio')['pontuacao_plantio']\n",
    "    .mean()\n",
    "    .sort_values(ascending=False)\n",
    "    .reset_index()\n",
    ")\n",
    "\n",
    "print(\"Ranking de Áreas Mais Propícias ao Plantio – Ano 2126\")\n",
    "print(ranking)\n",
    "\n",
    "# Exibir Top 3 municípios mais indicados\n",
    "top3 = ranking.head(3)\n",
    "print(\"\\nTop 3 Áreas para Plantio:\")\n",
    "print(top3)\n"
   ]
  },
  {
   "cell_type": "markdown",
   "metadata": {
    "id": "xDx3wBdVrEO_"
   },
   "source": [
    "<div align=\"center\">\n",
    "  <font size=\"6\" color=\"#0000ff\"><b>Fim do Encontro 14!</b></font>\n",
    "</div>"
   ]
  },
  {
   "cell_type": "code",
   "execution_count": null,
   "metadata": {
    "id": "wW62R_dtyL97"
   },
   "outputs": [],
   "source": []
  }
 ],
 "metadata": {
  "colab": {
   "provenance": []
  },
  "kernelspec": {
   "display_name": "Python 3 (ipykernel)",
   "language": "python",
   "name": "python3"
  },
  "language_info": {
   "codemirror_mode": {
    "name": "ipython",
    "version": 3
   },
   "file_extension": ".py",
   "mimetype": "text/x-python",
   "name": "python",
   "nbconvert_exporter": "python",
   "pygments_lexer": "ipython3",
   "version": "3.9.5"
  }
 },
 "nbformat": 4,
 "nbformat_minor": 4
}
