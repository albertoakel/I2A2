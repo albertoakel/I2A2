from geopy.geocoders import Nominatim
import geopandas as gpd
from shapely.geometry import Point
import matplotlib.pyplot as plt
import contextily as ctx
import pandas as pd
import seaborn as sns
import folium
from geopy.geocoders import Nominatim
from geopy.exc import GeocoderTimedOut, GeocoderServiceError
df= pd.read_csv("Dataset_de_200_Comunidades_para_Analise_Ambiental2.csv")

import warnings

warnings.filterwarnings("ignore", category=FutureWarning)


from sklearn.preprocessing import StandardScaler

# Converter colunas Sim/Não para numéricas
df['Presença de Escola'] = df['Presença de Escola (Sim/Não)'].map({'Sim': 1, 'Não': 0})
df['Presença de Saúde'] = df['Presença de Unidade de Saúde (Sim/Não)'].map({'Sim': 1, 'Não': 0})

# Selecionar colunas numéricas relevantes
colunas_numericas = [
    'Índice de Desmatamento (%)',
    'Acesso à Água Potável (%)',
    'Cobertura Vegetal (%)',
    'Renda Média Mensal (R$)',
    'Densidade Populacional (hab/km²)',
    'Frequência de Queimadas (ano)',
    'Distância de Área Urbana (km)',
    'Presença de Escola',
    'Presença de Saúde',
    'Latitude', 
    'Longitude']

# Normalizar os dados
scaler = StandardScaler()
dados_normalizados = scaler.fit_transform(df[colunas_numericas])


from sklearn.decomposition import PCA

# Aplicar PCA (preservando 95% da variância)
pca = PCA(n_components=0.95, random_state=42)
componentes_principais = pca.fit_transform(dados_normalizados)

# Criar DataFrame com os componentes
df_pca = pd.DataFrame(componentes_principais, columns=[f'PC{i+1}' for i in range(componentes_principais.shape[1])])

print(f"Variância explicada por cada componente: {pca.explained_variance_ratio_}")
print(f"Número de componentes selecionados: {pca.n_components_}")


from sklearn.cluster import KMeans
import matplotlib.pyplot as plt

# Método do Cotovelo para definir K ideal
inercia = []
for k in range(1, 10):
    kmeans = KMeans(n_clusters=k, random_state=42)
    kmeans.fit(df_pca)
    inercia.append(kmeans.inertia_)

plt.plot(range(1, 10), inercia, marker='o')
plt.xlabel('Número de Clusters (K)')
plt.ylabel('Inércia')
plt.title('Método do Cotovelo')
plt.show()

# Escolher K com base no gráfico (ex.: K=3)
k_final = 4
kmeans = KMeans(n_clusters=k_final, random_state=42)
df['Cluster_PCA'] = kmeans.fit_predict(df_pca)


# Plotar os clusters nos dois primeiros componentes
plt.figure(figsize=(10, 6))
sns.scatterplot(
    x=df_pca['PC1'], 
    y=df_pca['PC2'], 
    hue=df['Cluster_PCA'], 
    palette='viridis',
    s=100
)
plt.title('Clusters nos Componentes Principais (PCA)')
plt.xlabel(f'PC1 (Variância: {pca.explained_variance_ratio_[0]:.0%})')
plt.ylabel(f'PC2 (Variância: {pca.explained_variance_ratio_[1]:.0%})')
plt.legend(title='Cluster')
plt.show()


# Criar DataFrame com os pesos das variáveis originais
df_cargas = pd.DataFrame(
    pca.components_.T,
    columns=[f'PC{i+1}' for i in range(pca.n_components_)],
    index=colunas_numericas
)

# Visualizar as 3 variáveis mais relevantes por componente
for pc in df_cargas.columns:
    print(f"\nComponente {pc}:")
    print(df_cargas[pc].abs().sort_values(ascending=False).head(3))


# Calcular médias por cluster
df_analise = df.groupby('Cluster_PCA')[colunas_numericas].mean().reset_index()

# Ordenar clusters pelo pior desempenho (ex.: maior desmatamento + menor acesso à água)
df_analise['Score_Risco'] = (
    df_analise['Índice de Desmatamento (%)'] * 0.4 +
    (100 - df_analise['Acesso à Água Potável (%)']) * 0.3 +
    df_analise['Frequência de Queimadas (ano)'] * 0.3
)

df_analise = df_analise.sort_values('Score_Risco', ascending=False)
print(df_analise)


import folium

# Definir cores: vermelho para o pior cluster (Cluster 2 no exemplo)
cores_clusters = {0: 'red', 1: 'orange', 2: 'green'}

# Criar mapa
mapa = folium.Map(location=[df['Latitude'].mean(), df['Longitude'].mean()], zoom_start=5)

for _, row in df.iterrows():
    folium.CircleMarker(
        location=[row['Latitude'], row['Longitude']],
        radius=5,
        color=cores_clusters[row['Cluster_PCA']],
        fill=True,
        popup=f"""
        Cluster: {row['Cluster_PCA']}<br>
        Município: {row['Município']}<br>
        Desmatamento: {row['Índice de Desmatamento (%)']}%<br>
        Queimadas: {row['Frequência de Queimadas (ano)']} <br>
        Renda: R${row['Renda Média Mensal (R$)']:.2f}
        """
    ).add_to(mapa)
mapa
#mapa.save('clusters_pca.html')



