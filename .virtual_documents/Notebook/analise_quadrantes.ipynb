


import pandas as pd
import matplotlib.pyplot as plt
import numpy as np
import seaborn as sns
import plotly.express as px
import warnings

warnings.filterwarnings("ignore", category=FutureWarning)

df= pd.read_csv('data/Dataset_de_200_Comunidades_para_Analise_Ambiental2.csv')
df





# Distribuição
def hist_def(A,dx):
    temp=A
    bins=np.arange(min(A),max(A)+1,dx)
    c, x= np.histogram(A, bins)
    p=c/len(A)*100
    return x,p,bins

x,p,bins=hist_def(df['Índice de Desmatamento (%)'],5)

dx=5
fig, ax = plt.subplots(3, 1, figsize=(15, 15)) 
fig.suptitle('Figura 1: Distribuição dos Indices percentuais', fontsize=14,y=0.92)
ax[0].bar(x[0:-1], p, width=np.diff(bins), align='edge',color='dodgerblue',edgecolor='black')  
ax[0].set_title('Distribuição Índice de Desmatamento (%)')
ax[0].set_xlabel('Índice de Desmatamento (%)')
ax[0].set_ylabel('Percentual (%)')
ax[0].set_xticks(bins)
for i in range(len(p)):
        ax[0].text(x[i]+dx/2, p[i] , f'{p[i]:.2f}%', ha='center', va='bottom', fontsize=8)

x,p,bins=hist_def(df['Acesso à Água Potável (%)'],5)
dx=5
ax[1].bar(x[0:-1], p, width=np.diff(bins), align='edge',color='dodgerblue',edgecolor='black')  
ax[1].set_title('Distribuição Acesso à Água Potáve')
ax[1].set_xlabel('Acesso à Água Potável (%)')
ax[1].set_ylabel('Percentual (%)')
ax[1].set_xticks(bins)
for i in range(len(p)):
        ax[1].text(x[i]+dx/2, p[i] , f'{p[i]:.2f}%', ha='center', va='bottom', fontsize=8)

x,p,bins=hist_def(df['Cobertura Vegetal (%)'],5)
dx=5
ax[2].bar(x[0:-1], p, width=np.diff(bins), align='edge',color='dodgerblue',edgecolor='black')  
ax[2].set_title('Distribuição Cobertura Vegetal (%)')
ax[2].set_xlabel('Cobertura Vegetal (%)')
ax[2].set_ylabel('Percentual (%)')
ax[2].set_xticks(bins)
for i in range(len(p)):
        ax[2].text(x[i]+dx/2, p[i] , f'{p[i]:.2f}%', ha='center', va='bottom', fontsize=8) 
    
#----------------------------------------------------------------------------------------

fig, ax = plt.subplots(4, 1, figsize=(15, 15)) 
x,p,bins=hist_def(df['Renda Média Mensal (R$)'],250)
dx=250
fig.suptitle('Figura 2: Distribuição dos valores numéricos', fontsize=14,y=0.92)
ax[0].bar(x[0:-1], p, width=np.diff(bins), align='edge',color='tomato',edgecolor='black')  
ax[0].set_xlabel('Renda Média Mensal (R$)')
ax[0].set_ylabel('Percentual (%)')
ax[0].set_xticks(bins)
for i in range(len(p)):
        ax[0].text(x[i]+dx/2, p[i] , f'{p[i]:.2f}%', ha='center', va='bottom', fontsize=8)

x,p,bins=hist_def(df['Densidade Populacional (hab/km²)'],10)
dx=10
fig.suptitle('Figura 2: Distribuição dos valores numéricos', fontsize=14,y=0.92)
ax[1].bar(x[0:-1], p, width=np.diff(bins), align='edge',color='tomato',edgecolor='black')  
ax[1].set_xlabel('Densidade Populacional (hab/km²)')
ax[1].set_ylabel('Percentual (%)')
ax[1].set_xticks(bins)
for i in range(len(p)):
        ax[1].text(x[i]+dx/2, p[i] , f'{p[i]:.2f}%', ha='center', va='bottom', fontsize=8)


x,p,bins=hist_def(df['Frequência de Queimadas (ano)'],1)
dx=1
fig.suptitle('Figura 2: Distribuição dos valores numéricos', fontsize=14,y=0.92)
ax[2].bar(x[0:-1], p, width=np.diff(bins), align='edge',color='tomato',edgecolor='black')  
ax[2].set_title('Percentual das comunidades x frequencia de queimadas')
ax[2].set_xlabel('Frequência de Queimadas (ano)')
ax[2].set_ylabel('Percentual das comunidades (%)')
ax[2].set_xticks(bins)
for i in range(len(p)):
        ax[2].text(x[i]+dx/2, p[i] , f'{p[i]:.2f}%', ha='center', va='bottom', fontsize=8)    


x,p,bins=hist_def(df['Distância de Área Urbana (km)'],10)
dx=10
fig.suptitle('Figura 2: Distribuição dos valores numéricos', fontsize=14,y=0.92)
ax[3].bar(x[0:-1], p, width=np.diff(bins), align='edge',color='tomato',edgecolor='black')  
ax[3].set_xlabel('Distância de Área Urbana (km)')
ax[3].set_ylabel('Percentual (%)')
ax[3].set_xticks(bins)
for i in range(len(p)):
        ax[3].text(x[i]+dx/2, p[i] , f'{p[i]:.2f}%', ha='center', va='bottom', fontsize=8)  


#----------------------------------------------------------------------------------------
p1 = df['Presença de Escola (Sim/Não)'].value_counts(normalize=True) * 100
p2= df['Presença de Unidade de Saúde (Sim/Não)'].value_counts(normalize=True) * 100

fig, ax = plt.subplots(1, 2, figsize=(15, 5))
fig.suptitle('Figura 3: Percentual categorias', fontsize=14)
# PLOT 2: Smoke
bars = ax[0].bar(p1.index, p1.values, color=['tomato','dodgerblue'], 
                  edgecolor='black', width=0.6)
ax[0].set_title('Presença de Escola nas comunidades')
for bar, percentage in zip(bars, p1.values):
    ax[0].text(bar.get_x() + bar.get_width()/2, bar.get_height(),
                f'{percentage:.1f}%', 
                ha='center', va='bottom', fontsize=10)
ax[0].set_xticks(p1.index)
ax[0].set_xticklabels(['SIM', 'NÃO'])
ax[0].set_ylim([0,100])

# PLOT3: alcool
bars = ax[1].bar(p2.index, p2.values, color=['tomato','dodgerblue'], 
                  edgecolor='black', width=0.6)
ax[1].set_title('Presença de Unidade de Saúde nas comunidades')
for bar, percentage in zip(bars, p2.values):
    ax[1].text(bar.get_x() + bar.get_width()/2, bar.get_height(),
                f'{percentage:.1f}%', 
                ha='center', va='bottom', fontsize=10)
ax[1].set_xticks(p2.index)
ax[1].set_xticklabels(['SIM', 'NÃ0'])
ax[1].set_ylim([0,100])




fig, ax = plt.subplots(1, 1, figsize=(15, 5)) 
x,p,bins=hist_def(df['Frequência de Queimadas (ano)'],1)
dx=1
#fig.suptitle('Figura 2: Distribuição dos valores numéricos', fontsize=14,y=0.92)
ax.bar(x[0:-1], p, width=np.diff(bins), align='edge',color='tomato',edgecolor='black')  
ax.set_title('Percentual das comunidades x frequencia de queimadas')
ax.set_xlabel('Frequência de Queimadas (ano)')
ax.set_ylabel('Percentual das comunidades (%)')
ax.set_xticks(bins)
for i in range(len(p)):
        ax.text(x[i]+dx/2, p[i] , f'{p[i]:.2f}%', ha='center', va='bottom', fontsize=8)
#plt.savefig('frequencia_queimadas.png', dpi=300, bbox_inches='tight')






# 1.2 Agrupamento 
gp1= df.groupby('Município')[df.columns[3]].agg(['mean']).reset_index().sort_values('mean', ascending=False) #desmatamento
gp2= df.groupby('Município')[df.columns[5]].agg(['mean']).reset_index().sort_values('mean', ascending=False) #cobertura vegetal
gp3= df.groupby('Município')[df.columns[7]].agg(['mean']).reset_index().sort_values('mean', ascending=False) #Densidade Populacional
gp4= df.groupby('Município')[df.columns[8]].agg(['mean']).reset_index().sort_values('mean', ascending=False)  #frequencia de queimadas

contagem_com= df.groupby('Município')['Comunidade'].count().reset_index()
# 2. Top 10 municípios com maior média de queimadas
top10 = gp1.head(10)

fig, axs = plt.subplots(2, 2, figsize=(18, 10))
plt.figure(figsize=(12, 8))
sns.barplot(data=top10, x='mean', y='Município', palette='Reds_r', edgecolor='black', linewidth=0.5, ax=axs[0, 0])
axs[0,0].set_title('Top 10 Municípios: '+df.columns[3], fontsize=12)
axs[0,0].set_xlabel('Média '+df.columns[3], fontsize=12)
axs[0,0].set_ylabel('')
axs[0,0].tick_params(axis='y', labelsize=8,rotation=45)  


top10 = gp2.head(10)
sns.barplot(data=top10, x='mean', y='Município', palette='Reds_r', edgecolor='black', linewidth=0.5, ax=axs[0, 1])
axs[0,1].set_title('Top 10 Municípios: '+df.columns[5], fontsize=12)
axs[0,1].set_xlabel('Média '+df.columns[5], fontsize=12)
axs[0,1].set_ylabel('')

axs[0,1].tick_params(axis='y', labelsize=8,rotation=45) 

top10 = gp3.head(10)
sns.barplot(data=top10, x='mean', y='Município', palette='Reds_r', edgecolor='black', linewidth=0.5, ax=axs[1, 0])
axs[1,0].set_title('Top 10 Municípios: '+df.columns[7], fontsize=12)
axs[1,0].set_xlabel('Média '+df.columns[7], fontsize=12)
axs[1,0].set_ylabel('')

axs[1,0].tick_params(axis='y', labelsize=8,rotation=45) 

top10 = gp4.head(10)
sns.barplot(data=top10, x='mean', y='Município', palette='Reds_r', edgecolor='black', linewidth=0.5, ax=axs[1, 1])
axs[1,1].set_title('Top 10 Municípios: '+df.columns[8], fontsize=12)
axs[1,1].set_xlabel('Média '+df.columns[8], fontsize=12)
axs[1,1].set_ylabel('')

axs[1,1].tick_params(axis='y', labelsize=8,rotation=45) 





# Converter colunas Sim/Não para 1/0
df= pd.read_csv('data/Dataset_de_200_Comunidades_para_Analise_Ambiental2.csv')
df['Presença de Escola'] = df['Presença de Escola (Sim/Não)'].map({'Sim': 1, 'Não': 0})
df['Presença de Saúde'] = df['Presença de Unidade de Saúde (Sim/Não)'].map({'Sim': 1, 'Não': 0})

# Selecionar colunas numéricas para análise
colunas_numericas = [
    'Índice de Desmatamento (%)',
    'Acesso à Água Potável (%)',
    'Cobertura Vegetal (%)',
    'Renda Média Mensal (R$)',
    'Densidade Populacional (hab/km²)',
    'Frequência de Queimadas (ano)',
    'Distância de Área Urbana (km)',
    'Presença de Escola',
    'Presença de Saúde'
]

df_n=df[colunas_numericas]
corr_matrix = df_n.corr()
plt.figure(figsize=(12, 8))
sns.heatmap(corr_matrix, annot=True, cmap='coolwarm', center=0)
plt.title('Matriz de Correlação')
plt.show()






# agrupamento e filtragem
# Carregar os dados
data = pd.read_csv('data/Dataset_de_200_Comunidades_para_Analise_Ambiental2.csv')


desmatamento_limite = 50  # % acima disso é considerado alto
queimadas_limite = 5      # acima disso é considerado alta frequência

# Classificar em quadrantes
def classificar_quadrante(row):
    if row['Índice de Desmatamento (%)'] >= desmatamento_limite and row['Frequência de Queimadas (ano)'] >= queimadas_limite:
        return '1-Alto Desmatamento + Alta Queimadas'
    elif row['Índice de Desmatamento (%)'] < desmatamento_limite and row['Frequência de Queimadas (ano)'] >= queimadas_limite:
        return '2-Baixo Desmatamento + Alta Queimadas'
    elif row['Índice de Desmatamento (%)'] >= desmatamento_limite and row['Frequência de Queimadas (ano)'] < queimadas_limite:
        return '3-Alto Desmatamento + Baixa Queimadas'
    else:
        return '4-Baixo Desmatamento + Baixa Queimadas'

data['Quadrante'] = data.apply(classificar_quadrante, axis=1)

# Visualização dos quadrantes
plt.figure(figsize=(12, 8))
sns.scatterplot(data=data, x='Índice de Desmatamento (%)', y='Frequência de Queimadas (ano)',
                hue='Quadrante', palette='viridis', s=100)

# Linhas de referência para os limiares
plt.axvline(x=desmatamento_limite, color='gray', linestyle='--')
plt.axhline(y=queimadas_limite, color='gray', linestyle='--')

plt.title('Classificação de Comunidades por Quadrantes de Desmatamento x Queimadas', pad=20)
plt.xlabel('Índice de Desmatamento (%)')
plt.ylabel('Frequência de Queimadas (ano)')
plt.legend(bbox_to_anchor=(1.05, 1), loc='upper left')
plt.grid(True)
plt.tight_layout()
plt.show()

# Análise descritiva por quadrante
quadrante_analysis = data.groupby('Quadrante').agg({
    'Índice de Desmatamento (%)': ['mean', 'std', 'min', 'max'],
    'Frequência de Queimadas (ano)': ['mean', 'std', 'min', 'max'],
    'Cobertura Vegetal (%)': 'mean',
    'Renda Média Mensal (R$)': 'mean',
    'Acesso à Água Potável (%)': 'mean',
    'Comunidade': 'count'
}).rename(columns={'Comunidade': 'Número de Comunidades'})

print("======================================================================================")

print("\nAnálise Descritiva por Quadrante:")
print(quadrante_analysis)

# Exemplos de comunidades em cada quadrante
print("\nExemplos de Comunidades em Cada Quadrante:")
for quadrante in data['Quadrante'].unique():
    print(f"\n{quadrante}:")
    print(data[data['Quadrante'] == quadrante][['Comunidade', 'Município', 
                                             'Índice de Desmatamento (%)', 
                                             'Frequência de Queimadas (ano)']]
          .sample(5, random_state=42))  # Mostra 5 exemplos aleatórios

# Distribuição percentual
distribuicao = data['Quadrante'].value_counts(normalize=True) * 100
print("\nDistribuição Percentual:")
print(distribuicao)





# Salvando os resultados
#data.to_csv('comunidades_quadrantes.csv', index=False)







import folium
from branca.colormap import linear

data['Quadrante'] = data.apply(classificar_quadrante, axis=1)

# Criar mapa centrado no Pará
m = folium.Map(location=[-4.0, -52.0], zoom_start=6, tiles='CartoDB positron',scrollWheelZoom=False,touchZoom=False)


# Definir cores para cada quadrante (mesmo esquema)
quadrant_colors = {
    '1-Alto Desmatamento + Alta Queimadas': 'red',
    '2-Baixo Desmatamento + Alta Queimadas': 'orange',
    '3-Alto Desmatamento + Baixa Queimadas': 'purple',
    '4-Baixo Desmatamento + Baixa Queimadas': 'green'
}

# Adicionar CircleMarkers para cada comunidade
for idx, row in data.iterrows():
    # Definir o raio baseado no índice de desmatamento (ajustável)
    radius = row['Índice de Desmatamento (%)'] / 5  # Ajuste o divisor para mudar o tamanho

    # Criar popup com informações
    popup_text = f"""
    <b>Comunidade:</b> {row['Comunidade']}<br>
    <b>Município:</b> {row['Município']}<br>
    <b>Desmatamento:</b> {row['Índice de Desmatamento (%)']}%<br>
    <b>Queimadas/ano:</b> {row['Frequência de Queimadas (ano)']}<br>
    <b>Quadrante:</b> {row['Quadrante']}<br>
    <b>Cobertura Vegetal:</b> {row['Cobertura Vegetal (%)']}%<br>
    <b>Renda Média:</b> R$ {row['Renda Média Mensal (R$)']:,.2f}
    """
    
    folium.CircleMarker(
        location=[row['Latitude'], row['Longitude']],
        radius=radius,
        popup=popup_text,
        color=quadrant_colors[row['Quadrante']],
        fill=True,
        fill_color=quadrant_colors[row['Quadrante']],
        fill_opacity=0.7,
        weight=1,
        tooltip=f"{row['Comunidade']} - {row['Quadrante']}"
    ).add_to(m)
    
# Adicionar legenda de cores
legend_html = '''
<div style="position: fixed; 
            bottom: 50px; left: 50px; width: 180px; height: 150px; 
            border:2px solid grey; z-index:9999; font-size:12px;
            background-color:white;
            padding: 10px;
            ">
  <b>Legenda:</b><br>
  <i style="background:red; width:15px; height:15px; border-radius:50%; display:inline-block;"></i> Alto D + Alta Q<br>
  <i style="background:orange; width:15px; height:15px; border-radius:50%; display:inline-block;"></i> Baixo D + Alta Q<br>
  <i style="background:purple; width:15px; height:15px; border-radius:50%; display:inline-block;"></i> Alto D + Baixa Q<br>
  <i style="background:green; width:15px; height:15px; border-radius:50%; display:inline-block;"></i> Baixo D + Baixa Q<br>
  <b>Tamanho:</b> Índice de Desmatamento<br>
  <b>D:</b> Desmatamento<br>
  <b>Q:</b> Queimadas
</div>
'''
m.get_root().html.add_child(folium.Element(legend_html))

# Adicionar título
title_html = '''
<h3 align="center" style="font-size:16px"><b>Comunidades do Pará - Desmatamento e Queimadas</b></h3>
<p align="center" style="font-size:12px">Tamanho dos círculos proporcional ao índice de desmatamento</p>
'''
m.get_root().html.add_child(folium.Element(title_html))

# Salvar o mapa
#m.save('mapa_circlemarker_quadrantes.html')

# Mostrar o mapa
display(m)





from sklearn.cluster import KMeans
from sklearn.preprocessing import StandardScaler
from sklearn.metrics import silhouette_score

data = pd.read_csv('data/Dataset_de_200_Comunidades_para_Analise_Ambiental2.csv')

# Selecionar as variáveis relevantes
X = data[['Cobertura Vegetal (%)', 'Frequência de Queimadas (ano)']]

# Padronizar dados
scaler = StandardScaler()
X_scaled = scaler.fit_transform(X)

# definição (ou confirmação) do número de cluster
wcss = []
for i in range(1, 11):
    kmeans = KMeans(n_clusters=i, init='k-means++', random_state=42)
    kmeans.fit(X_scaled)
    wcss.append(kmeans.inertia_)

plt.figure(figsize=(10, 5))
plt.plot(range(1, 11), wcss, marker='o', linestyle='--')
plt.title('Método do Cotovelo')
plt.xlabel('Número de Clusters')
plt.ylabel('WCSS')
plt.show()

# Silhouette Score para validar o número de clusters
silhouette_scores = []
for n_cluster in range(2, 11):
    kmeans = KMeans(n_clusters=n_cluster).fit(X_scaled)
    label = kmeans.labels_
    sil_coeff = silhouette_score(X_scaled, label, metric='euclidean')
    silhouette_scores.append(sil_coeff)
    print(f"Para n_clusters={n_cluster}, Silhouette Score = {sil_coeff:.3f}")

# Aplicando K-Means com 4 clusters
kmeans = KMeans(n_clusters=4, init='k-means++', random_state=42)
clusters = kmeans.fit_predict(X_scaled)

# Adicionando os clusters ao dataframe original
data['Cluster'] = clusters

# Mapeando os clusters para nomes significativos
cluster_names = {
    0: 'Baixo Cobertura +Baixa Queimadas',
    1: 'Alta Cobertura + Alta queimadas',
    2: 'Alta Cobertura + Baixa Queimadas ',
    3: 'Baixo Cobertura + Alta queimadas'
}
data['Cluster_Nome'] = data['Cluster'].map(cluster_names)

## CORREÇÃO: Transformar os centróides de volta para a escala original
centroids_original_scale = scaler.inverse_transform(kmeans.cluster_centers_)

# Visualização dos clusters com centróides na escala correta
plt.figure(figsize=(12, 7))
colors = ['green', 'blue', 'orange', 'red']
for i, color in enumerate(colors):
    cluster_data = data[data['Cluster'] == i]
    plt.scatter(cluster_data['Cobertura Vegetal (%)'], 
               cluster_data['Frequência de Queimadas (ano)'], 
               s=50, c=color, label=cluster_names[i], alpha=0.7)

# Plotar centróides na escala original
plt.scatter(centroids_original_scale[:, 0], centroids_original_scale[:, 1],
           s=200, c='black', marker='X', label='Centróides')

plt.title('Clusters de Comunidades por Cobertura Vegetal e Queimadas')
plt.xlabel('Cobertura Vegetal (%)')
plt.ylabel('Frequência de Queimadas (ano)')
plt.legend(bbox_to_anchor=(1.05, 1), loc='upper left')
plt.grid(True)
plt.tight_layout()
plt.show()

# Análise descritiva por cluster
cluster_analysis = data.groupby('Cluster_Nome').agg({
    'Cobertura Vegetal (%)': ['mean', 'std', 'min', 'max'],
    'Acesso à Água Potável (%)':['mean', 'std', 'min', 'max'],
    'Frequência de Queimadas (ano)': ['mean', 'std', 'min', 'max'],
    'Índice de Desmatamento (%)': 'mean',
    'Densidade Populacional (hab/km²)':'mean',
    'Distância de Área Urbana (km)':['mean', 'std', 'min', 'max'],
    'Renda Média Mensal (R$)': 'mean',
    'Comunidade': 'count'

}).rename(columns={'Comunidade': 'Número de Comunidades'})

print("\nAnálise Descritiva por Cluster:")
print(cluster_analysis)

# Exemplos de comunidades em cada cluster
print("\nExemplos de Comunidades em Cada Cluster:")
for cluster_id, cluster_name in cluster_names.items():
    print(f"\n{cluster_name}:")
    print(data[data['Cluster'] == cluster_id][['Comunidade', 'Município', 
                                            'Cobertura Vegetal (%)', 
                                            'Frequência de Queimadas (ano)']]
          .sample(5, random_state=42))


from folium.plugins import MeasureControl

colors_plt = ['green', 'blue', 'orange', 'red'] 
cluster_colors_map = {
    cluster_names[0]: colors_plt[0], # Baixa Cobertura + Baixa Queimadas -> green
    cluster_names[1]: colors_plt[1], # Alta Cobertura + Alta Queimadas -> blue
    cluster_names[2]: colors_plt[2], # Alta Cobertura + Baixa Queimadas -> orange
    cluster_names[3]: colors_plt[3]  # Baixa Cobertura + Alta Queimadas -> red
}


# Criar um mapa centrado na média das latitudes e longitudes das comunidades
para_center_lat = data['Latitude'].mean()
para_center_lon = data['Longitude'].mean()
m_clusters = folium.Map(location=[para_center_lat, para_center_lon], zoom_start=6,scrollWheelZoom=False,touchZoom=False)

# Adicionar marcadores para cada comunidade com a cor do cluster
for index, row in data.iterrows():
    municipio = row['Município']
    latitude = row['Latitude']
    longitude = row['Longitude']
    cluster_nome = row['Cluster_Nome']
    cobertura_vegetal = row['Cobertura Vegetal (%)']
    frequencia_queimadas = row['Frequência de Queimadas (ano)']
    renda = row['Renda Média Mensal (R$)']
    acesso_agua = row['Acesso à Água Potável (%)']
    desmatamento = row['Índice de Desmatamento (%)']
    densidade = row['Densidade Populacional (hab/km²)']
    distancia_urbana = row['Distância de Área Urbana (km)']
    escola = row['Presença de Escola (Sim/Não)']
    unidade_saude = row['Presença de Unidade de Saúde (Sim/Não)']

    color = cluster_colors_map.get(cluster_nome, 'gray') # Cor padrão se o cluster_nome não for encontrado

    popup_html = f"""
    <b>{municipio}</b><br>
    Cluster: {cluster_nome}<br>
    <hr>
    Cobertura Vegetal: {cobertura_vegetal:.2f}%<br>
    Frequência de Queimadas: {frequencia_queimadas:.2f} ao ano<br>
    Desmatamento: {desmatamento:.2f}%<br>
    Acesso à Água Potável: {acesso_agua:.2f}%<br>
    Renda Média Mensal: R$ {renda:.2f}<br>
    Densidade Populacional: {densidade:.2f} hab/km²<br>
    Distância de Área Urbana: {distancia_urbana:.2f} km<br>
    Presença de Escola: {escola}<br>
    Presença de Unidade de Saúde: {unidade_saude}
    """

    folium.CircleMarker(
        location=[latitude, longitude],
        radius=8, # Tamanho do marcador
        color=color,
        fill=True,
        fill_color=color,
        fill_opacity=0.7,
        popup=folium.Popup(popup_html, max_width=300) # Popup com mais informações
    ).add_to(m_clusters)

# --- Adicionar Legenda ao Mapa ---
legend_html_clusters = """
     <div style="
     position: fixed;
     bottom: 50px; left: 50px; width: 250px; height: 160px;
     border:2px solid grey; z-index:9999; font-size:14px;
     background-color:white;
     opacity:0.9;
     ">
       <div style="padding: 10px;">
         <b>Legenda de Clusters</b> <br>
         <i style="background:green; width: 10px; height: 10px; display: inline-block;"></i> Baixa Cobertura + Baixa Queimadas <br>
         <i style="background:blue; width: 10px; height: 10px; display: inline-block;"></i> Alta Cobertura + Alta Queimadas <br>
         <i style="background:orange; width: 10px; height: 10px; display: inline-block;"></i> Alta Cobertura + Baixa Queimadas <br>
         <i style="background:red; width: 10px; height: 10px; display: inline-block;"></i> Baixa Cobertura + Alta Queimadas <br>
       </div>
     </div>
     """

m_clusters.get_root().html.add_child(folium.Element(legend_html_clusters))

# Adicionar controle de medida
m_clusters.add_child(MeasureControl())

# Exibir o mapa
m_clusters




# Agrupar por cluster e município, contando ocorrências e calculando médias
cluster_municipios = data.groupby(['Cluster_Nome', 'Município']).agg({
    'Cobertura Vegetal (%)': 'mean',
    'Acesso à Água Potável (%)':'mean',
    'Frequência de Queimadas (ano)': 'mean',
    'Índice de Desmatamento (%)': 'mean',
    'Renda Média Mensal (R$)': 'mean',
    'Comunidade': 'count'
}).rename(columns={'Comunidade': 'Número de Comunidades'}).reset_index()

# Ordenar por cluster e número de comunidades (descrescente)
cluster_municipios = cluster_municipios.sort_values(['Cluster_Nome', 'Número de Comunidades'], ascending=[True, False])

# Função para formatar os dados de exibição
def formatar_linha(row):
    return (f"{row['Município']} - {row['Número de Comunidades']} comunidades\n"
            f"  Cobertura Vegetal: {row['Cobertura Vegetal (%)']:.1f}%\n"
            f"  Agua Potável: {row['Acesso à Água Potável (%)']:.1f}%\n"
            f"  Queimadas/ano: {row['Frequência de Queimadas (ano)']:.1f}\n"
            f"  Desmatamento: {row['Índice de Desmatamento (%)']:.1f}%\n"
            f"  Renda Média: R$ {row['Renda Média Mensal (R$)']:,.2f}\n")

# Imprimir os top 10 municípios por cluster
for cluster in cluster_municipios['Cluster_Nome'].unique():
    print(f"\n=== {cluster.upper()} ===")
    top10 = cluster_municipios[cluster_municipios['Cluster_Nome'] == cluster].head(10)
    
    for idx, row in top10.iterrows():
        print(f"{idx-top10.index[0]+1}. {formatar_linha(row)}")
