import pandas as pd
import matplotlib.pyplot as plt
import numpy as np
import seaborn as sns
import plotly.express as px
import warnings

warnings.filterwarnings("ignore", category=FutureWarning)

df= pd.read_csv('data/Dataset_de_200_Comunidades_para_Analise_Ambiental.csv')
df.columns


# Distribuição univariada

def hist_def(A,dx):
    temp=A
    bins=np.arange(min(A),max(A)+1,dx)
    c, x= np.histogram(A, bins)
    p=c/len(A)*100
    return x,p,bins

x,p,bins=hist_def(df['Índice de Desmatamento (%)'],5)

dx=5
fig, ax = plt.subplots(3, 1, figsize=(15, 15)) 
fig.suptitle('Figura 1: Distribuição dos Indices percentuais', fontsize=14,y=0.92)
ax[0].bar(x[0:-1], p, width=np.diff(bins), align='edge',color='dodgerblue',edgecolor='black')  
ax[0].set_title('Distribuição Índice de Desmatamento (%)')
ax[0].set_xlabel('Índice de Desmatamento (%)')
ax[0].set_ylabel('Percentual (%)')
ax[0].set_xticks(bins)
for i in range(len(p)):
        ax[0].text(x[i]+dx/2, p[i] , f'{p[i]:.2f}%', ha='center', va='bottom', fontsize=8)

x,p,bins=hist_def(df['Acesso à Água Potável (%)'],5)
dx=5
ax[1].bar(x[0:-1], p, width=np.diff(bins), align='edge',color='dodgerblue',edgecolor='black')  
ax[1].set_title('Distribuição Acesso à Água Potáve')
ax[1].set_xlabel('Acesso à Água Potável (%)')
ax[1].set_ylabel('Percentual (%)')
ax[1].set_xticks(bins)
for i in range(len(p)):
        ax[1].text(x[i]+dx/2, p[i] , f'{p[i]:.2f}%', ha='center', va='bottom', fontsize=8)

x,p,bins=hist_def(df['Cobertura Vegetal (%)'],5)
dx=5
ax[2].bar(x[0:-1], p, width=np.diff(bins), align='edge',color='dodgerblue',edgecolor='black')  
ax[2].set_title('Distribuição Cobertura Vegetal (%)')
ax[2].set_xlabel('Cobertura Vegetal (%)')
ax[2].set_ylabel('Percentual (%)')
ax[2].set_xticks(bins)
for i in range(len(p)):
        ax[2].text(x[i]+dx/2, p[i] , f'{p[i]:.2f}%', ha='center', va='bottom', fontsize=8) 
    
#----------------------------------------------------------------------------------------

fig, ax = plt.subplots(4, 1, figsize=(15, 15)) 
x,p,bins=hist_def(df['Renda Média Mensal (R$)'],250)
dx=250
fig.suptitle('Figura 2: Distribuição dos valores numéricos', fontsize=14,y=0.92)
ax[0].bar(x[0:-1], p, width=np.diff(bins), align='edge',color='tomato',edgecolor='black')  
ax[0].set_xlabel('Renda Média Mensal (R$)')
ax[0].set_ylabel('Percentual (%)')
ax[0].set_xticks(bins)
for i in range(len(p)):
        ax[0].text(x[i]+dx/2, p[i] , f'{p[i]:.2f}%', ha='center', va='bottom', fontsize=8)

x,p,bins=hist_def(df['Densidade Populacional (hab/km²)'],10)
dx=10
fig.suptitle('Figura 2: Distribuição dos valores numéricos', fontsize=14,y=0.92)
ax[1].bar(x[0:-1], p, width=np.diff(bins), align='edge',color='tomato',edgecolor='black')  
ax[1].set_xlabel('Densidade Populacional (hab/km²)')
ax[1].set_ylabel('Percentual (%)')
ax[1].set_xticks(bins)
for i in range(len(p)):
        ax[1].text(x[i]+dx/2, p[i] , f'{p[i]:.2f}%', ha='center', va='bottom', fontsize=8)


x,p,bins=hist_def(df['Frequência de Queimadas (ano)'],1)
dx=1
fig.suptitle('Figura 2: Distribuição dos valores numéricos', fontsize=14,y=0.92)
ax[2].bar(x[0:-1], p, width=np.diff(bins), align='edge',color='tomato',edgecolor='black')  
ax[2].set_title('Percentual das comunidades x frequencia de queimadas')
ax[2].set_xlabel('Frequência de Queimadas (ano)')
ax[2].set_ylabel('Percentual das comunidades (%)')
ax[2].set_xticks(bins)
for i in range(len(p)):
        ax[2].text(x[i]+dx/2, p[i] , f'{p[i]:.2f}%', ha='center', va='bottom', fontsize=8)    


x,p,bins=hist_def(df['Distância de Área Urbana (km)'],10)
dx=10
fig.suptitle('Figura 2: Distribuição dos valores numéricos', fontsize=14,y=0.92)
ax[3].bar(x[0:-1], p, width=np.diff(bins), align='edge',color='tomato',edgecolor='black')  
ax[3].set_xlabel('Distância de Área Urbana (km)')
ax[3].set_ylabel('Percentual (%)')
ax[3].set_xticks(bins)
for i in range(len(p)):
        ax[3].text(x[i]+dx/2, p[i] , f'{p[i]:.2f}%', ha='center', va='bottom', fontsize=8)  


#----------------------------------------------------------------------------------------
p1 = df['Presença de Escola (Sim/Não)'].value_counts(normalize=True) * 100
p2= df['Presença de Unidade de Saúde (Sim/Não)'].value_counts(normalize=True) * 100

fig, ax = plt.subplots(1, 2, figsize=(15, 5))
fig.suptitle('Figura 3: Percentual categorias', fontsize=14)
# PLOT 2: Smoke
bars = ax[0].bar(p1.index, p1.values, color=['tomato','dodgerblue'], 
                  edgecolor='black', width=0.6)
ax[0].set_title('Presença de Escola nas comunidades')
for bar, percentage in zip(bars, p1.values):
    ax[0].text(bar.get_x() + bar.get_width()/2, bar.get_height(),
                f'{percentage:.1f}%', 
                ha='center', va='bottom', fontsize=10)
ax[0].set_xticks(p1.index)
ax[0].set_xticklabels(['SIM', 'NÃO'])
ax[0].set_ylim([0,100])

# PLOT3: alcool
bars = ax[1].bar(p2.index, p2.values, color=['tomato','dodgerblue'], 
                  edgecolor='black', width=0.6)
ax[1].set_title('Presença de Unidade de Saúde nas comunidades')
for bar, percentage in zip(bars, p2.values):
    ax[1].text(bar.get_x() + bar.get_width()/2, bar.get_height(),
                f'{percentage:.1f}%', 
                ha='center', va='bottom', fontsize=10)
ax[1].set_xticks(p2.index)
ax[1].set_xticklabels(['SIM', 'NÃ0'])
ax[1].set_ylim([0,100])




fig, ax = plt.subplots(1, 1, figsize=(15, 5)) 
x,p,bins=hist_def(df['Frequência de Queimadas (ano)'],1)
dx=1
#fig.suptitle('Figura 2: Distribuição dos valores numéricos', fontsize=14,y=0.92)
ax.bar(x[0:-1], p, width=np.diff(bins), align='edge',color='tomato',edgecolor='black')  
ax.set_title('Percentual das comunidades x frequencia de queimadas')
ax.set_xlabel('Frequência de Queimadas (ano)')
ax.set_ylabel('Percentual das comunidades (%)')
ax.set_xticks(bins)
for i in range(len(p)):
        ax.text(x[i]+dx/2, p[i] , f'{p[i]:.2f}%', ha='center', va='bottom', fontsize=8)






p2= df['Presença de Unidade de Saúde (Sim/Não)'].value_counts(normalize=True) * 100
p2


dfc_20=df[df['Cobertura Vegetal (%)']<20]
dfc_50=df[(df['Cobertura Vegetal (%)']>=20) & (df['Cobertura Vegetal (%)']<50)]
dfc_70=df[(df['Cobertura Vegetal (%)']>=50) & (df['Cobertura Vegetal (%)']<75)]
dfc_75=df[df['Cobertura Vegetal (%)']>=75]

dfa_40=df[df['Acesso à Água Potável (%)']<=40]
dfa_50=df[(df['Acesso à Água Potável (%)']>40) & (df['Acesso à Água Potável (%)']<70) ]
dfa_71=df[df['Acesso à Água Potável (%)']>=70]
(len(dfa_71)/200)*100

local='ananindeua'
df[df['Município']==local.upper()]


X=dfc_70

x,p,bins=hist_def(X['Índice de Desmatamento (%)'],5)

dx=5
fig, ax = plt.subplots(3, 1, figsize=(15, 15)) 
fig.suptitle('Figura 1: Distribuição dos Indices percentuais', fontsize=14,y=0.92)
ax[0].bar(x[0:-1], p, width=np.diff(bins), align='edge',color='dodgerblue',edgecolor='black')  
ax[0].set_title('Distribuição Índice de Desmatamento (%)')
ax[0].set_xlabel('Índice de Desmatamento (%)')
ax[0].set_ylabel('Percentual (%)')
ax[0].set_xticks(bins)
for i in range(len(p)):
        ax[0].text(x[i]+dx/2, p[i] , f'{p[i]:.2f}%', ha='center', va='bottom', fontsize=8)

x,p,bins=hist_def(X['Acesso à Água Potável (%)'],5)
dx=5
ax[1].bar(x[0:-1], p, width=np.diff(bins), align='edge',color='dodgerblue',edgecolor='black')  
ax[1].set_title('Distribuição Acesso à Água Potáve')
ax[1].set_xlabel('Acesso à Água Potável (%)')
ax[1].set_ylabel('Percentual (%)')
ax[1].set_xticks(bins)
for i in range(len(p)):
        ax[1].text(x[i]+dx/2, p[i] , f'{p[i]:.2f}%', ha='center', va='bottom', fontsize=8)

x,p,bins=hist_def(X['Cobertura Vegetal (%)'],40)
dx=5
ax[2].bar(x[0:-1], p, width=np.diff(bins), align='edge',color='dodgerblue',edgecolor='black')  
ax[2].set_title('Distribuição Cobertura Vegetal (%)')
ax[2].set_xlabel('Cobertura Vegetal (%)')
ax[2].set_ylabel('Percentual (%)')
ax[2].set_xticks(bins)
for i in range(len(p)):
        ax[2].text(x[i]+dx/2, p[i] , f'{p[i]:.2f}%', ha='center', va='bottom', fontsize=8) 
    
#----------------------------------------------------------------------------------------

fig, ax = plt.subplots(4, 1, figsize=(15, 15)) 
x,p,bins=hist_def(X['Renda Média Mensal (R$)'],250)
dx=250
fig.suptitle('Figura 2: Distribuição dos valores numéricos', fontsize=14,y=0.92)
ax[0].bar(x[0:-1], p, width=np.diff(bins), align='edge',color='tomato',edgecolor='black')  
ax[0].set_xlabel('Renda Média Mensal (R$)')
ax[0].set_ylabel('Percentual (%)')
ax[0].set_xticks(bins)
for i in range(len(p)):
        ax[0].text(x[i]+dx/2, p[i] , f'{p[i]:.2f}%', ha='center', va='bottom', fontsize=8)

x,p,bins=hist_def(X['Densidade Populacional (hab/km²)'],10)
dx=10
fig.suptitle('Figura 2: Distribuição dos valores numéricos', fontsize=14,y=0.92)
ax[1].bar(x[0:-1], p, width=np.diff(bins), align='edge',color='tomato',edgecolor='black')  
ax[1].set_xlabel('Densidade Populacional (hab/km²)')
ax[1].set_ylabel('Percentual (%)')
ax[1].set_xticks(bins)
for i in range(len(p)):
        ax[1].text(x[i]+dx/2, p[i] , f'{p[i]:.2f}%', ha='center', va='bottom', fontsize=8)


x,p,bins=hist_def(X['Frequência de Queimadas (ano)'],1)
dx=1
fig.suptitle('Figura 2: Distribuição dos valores numéricos', fontsize=14,y=0.92)
ax[2].bar(x[0:-1], p, width=np.diff(bins), align='edge',color='tomato',edgecolor='black')  
ax[2].set_xlabel('Frequência de Queimadas (ano)')
ax[2].set_ylabel('Percentual (%)')
ax[2].set_xticks(bins)
for i in range(len(p)):
        ax[2].text(x[i]+dx/2, p[i] , f'{p[i]:.2f}%', ha='center', va='bottom', fontsize=8)    


x,p,bins=hist_def(X['Distância de Área Urbana (km)'],10)
dx=10
fig.suptitle('Figura 2: Distribuição dos valores numéricos', fontsize=14,y=0.92)
ax[3].bar(x[0:-1], p, width=np.diff(bins), align='edge',color='tomato',edgecolor='black')  
ax[3].set_xlabel('Distância de Área Urbana (km)')
ax[3].set_ylabel('Percentual (%)')
ax[3].set_xticks(bins)
for i in range(len(p)):
        ax[3].text(x[i]+dx/2, p[i] , f'{p[i]:.2f}%', ha='center', va='bottom', fontsize=8)  


#----------------------------------------------------------------------------------------
p1 = X['Presença de Escola (Sim/Não)'].value_counts(normalize=True) * 100
p2= X['Presença de Unidade de Saúde (Sim/Não)'].value_counts(normalize=True) * 100

fig, ax = plt.subplots(1, 2, figsize=(15, 5))
fig.suptitle('Figura 3: Percentual categorias', fontsize=14)
# PLOT 2: Smoke
bars = ax[0].bar(p1.index, p1.values, color=['tomato','dodgerblue'], 
                  edgecolor='black', width=0.6)
ax[0].set_title('Presença de Escola nas comunidades')
for bar, percentage in zip(bars, p1.values):
    ax[0].text(bar.get_x() + bar.get_width()/2, bar.get_height(),
                f'{percentage:.1f}%', 
                ha='center', va='bottom', fontsize=10)
ax[0].set_xticks(p1.index)
ax[0].set_xticklabels(['SIM', 'NÃO'])
ax[0].set_ylim([0,100])

# PLOT3: alcool
bars = ax[1].bar(p2.index, p2.values, color=['tomato','dodgerblue'], 
                  edgecolor='black', width=0.6)
ax[1].set_title('Presença de Unidade de Saúde nas comunidades')
for bar, percentage in zip(bars, p2.values):
    ax[1].text(bar.get_x() + bar.get_width()/2, bar.get_height(),
                f'{percentage:.1f}%', 
                ha='center', va='bottom', fontsize=10)
ax[1].set_xticks(p2.index)
ax[1].set_xticklabels(['SIM', 'NÃ0'])
ax[1].set_ylim([0,100])



