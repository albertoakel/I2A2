{
 "cells": [
  {
   "cell_type": "markdown",
   "id": "d623fa77-0933-4ffa-aced-e8da4f66cdae",
   "metadata": {},
   "source": [
    "# Teste Hydrobr - ANA\n",
    "> dados ANA\n",
    ">\n",
    "> https://wallissoncarvalho.github.io/HydroBr/"
   ]
  },
  {
   "cell_type": "code",
   "execution_count": 2,
   "id": "4c4bbceb-0f53-4713-8217-bb332ea1ea16",
   "metadata": {},
   "outputs": [],
   "source": [
    "import hydrobr as hb\n",
    "import pandas as pd\n",
    "import matplotlib.pyplot as plt\n",
    "import seaborn as sns\n",
    "from PIL import Image"
   ]
  },
  {
   "cell_type": "markdown",
   "id": "e21b0406-06b0-4217-af6f-d0a8fa9cdb73",
   "metadata": {},
   "source": [
    "### Listar estações"
   ]
  },
  {
   "cell_type": "code",
   "execution_count": 49,
   "id": "5172a10b-81a1-44be-ab6a-dbafb2331e5d",
   "metadata": {},
   "outputs": [
    {
     "data": {
      "text/html": [
       "<div>\n",
       "<style scoped>\n",
       "    .dataframe tbody tr th:only-of-type {\n",
       "        vertical-align: middle;\n",
       "    }\n",
       "\n",
       "    .dataframe tbody tr th {\n",
       "        vertical-align: top;\n",
       "    }\n",
       "\n",
       "    .dataframe thead th {\n",
       "        text-align: right;\n",
       "    }\n",
       "</style>\n",
       "<table border=\"1\" class=\"dataframe\">\n",
       "  <thead>\n",
       "    <tr style=\"text-align: right;\">\n",
       "      <th></th>\n",
       "      <th>Name</th>\n",
       "      <th>Code</th>\n",
       "      <th>Type</th>\n",
       "      <th>SubBasin</th>\n",
       "      <th>City</th>\n",
       "      <th>State</th>\n",
       "      <th>Responsible</th>\n",
       "      <th>Latitude</th>\n",
       "      <th>Longitude</th>\n",
       "      <th>StartDate</th>\n",
       "      <th>EndDate</th>\n",
       "      <th>NYD</th>\n",
       "      <th>MD</th>\n",
       "      <th>N_YWOMD</th>\n",
       "      <th>YWMD</th>\n",
       "    </tr>\n",
       "  </thead>\n",
       "  <tbody>\n",
       "    <tr>\n",
       "      <th>0</th>\n",
       "      <td>SALINÓPOLIS</td>\n",
       "      <td>00047000</td>\n",
       "      <td>2</td>\n",
       "      <td>32</td>\n",
       "      <td>SALINÓPOLIS</td>\n",
       "      <td>PARÁ</td>\n",
       "      <td>INMET</td>\n",
       "      <td>-0.6500</td>\n",
       "      <td>-47.5500</td>\n",
       "      <td>1958/01/01</td>\n",
       "      <td>1964/12/31</td>\n",
       "      <td>7</td>\n",
       "      <td>25.0</td>\n",
       "      <td>0</td>\n",
       "      <td>100.0</td>\n",
       "    </tr>\n",
       "    <tr>\n",
       "      <th>1</th>\n",
       "      <td>SALINÓPOLIS</td>\n",
       "      <td>00047002</td>\n",
       "      <td>2</td>\n",
       "      <td>32</td>\n",
       "      <td>SALINÓPOLIS</td>\n",
       "      <td>PARÁ</td>\n",
       "      <td>ANA</td>\n",
       "      <td>-0.6231</td>\n",
       "      <td>-47.3536</td>\n",
       "      <td>1977/12/09</td>\n",
       "      <td>2019/08/31</td>\n",
       "      <td>43</td>\n",
       "      <td>3.5</td>\n",
       "      <td>35</td>\n",
       "      <td>18.6</td>\n",
       "    </tr>\n",
       "    <tr>\n",
       "      <th>2</th>\n",
       "      <td>CURUÇA</td>\n",
       "      <td>00047003</td>\n",
       "      <td>2</td>\n",
       "      <td>32</td>\n",
       "      <td>CURUÇA</td>\n",
       "      <td>PARÁ</td>\n",
       "      <td>ANA</td>\n",
       "      <td>-0.7375</td>\n",
       "      <td>-47.8536</td>\n",
       "      <td>1981/07/01</td>\n",
       "      <td>2019/07/31</td>\n",
       "      <td>39</td>\n",
       "      <td>2.4</td>\n",
       "      <td>29</td>\n",
       "      <td>25.6</td>\n",
       "    </tr>\n",
       "    <tr>\n",
       "      <th>3</th>\n",
       "      <td>PRIMAVERA</td>\n",
       "      <td>00047004</td>\n",
       "      <td>2</td>\n",
       "      <td>32</td>\n",
       "      <td>PRIMAVERA</td>\n",
       "      <td>PARÁ</td>\n",
       "      <td>ANA</td>\n",
       "      <td>-0.9294</td>\n",
       "      <td>-47.0994</td>\n",
       "      <td>1982/02/18</td>\n",
       "      <td>2019/08/31</td>\n",
       "      <td>38</td>\n",
       "      <td>0.0</td>\n",
       "      <td>35</td>\n",
       "      <td>7.9</td>\n",
       "    </tr>\n",
       "    <tr>\n",
       "      <th>4</th>\n",
       "      <td>MARUDA</td>\n",
       "      <td>00047005</td>\n",
       "      <td>2</td>\n",
       "      <td>32</td>\n",
       "      <td>MARAPANIM</td>\n",
       "      <td>PARÁ</td>\n",
       "      <td>ANA</td>\n",
       "      <td>-0.6336</td>\n",
       "      <td>-47.6583</td>\n",
       "      <td>1989/08/21</td>\n",
       "      <td>2019/07/31</td>\n",
       "      <td>31</td>\n",
       "      <td>5.0</td>\n",
       "      <td>20</td>\n",
       "      <td>35.5</td>\n",
       "    </tr>\n",
       "  </tbody>\n",
       "</table>\n",
       "</div>"
      ],
      "text/plain": [
       "          Name      Code  Type  SubBasin         City State Responsible  \\\n",
       "0  SALINÓPOLIS  00047000     2        32  SALINÓPOLIS  PARÁ       INMET   \n",
       "1  SALINÓPOLIS  00047002     2        32  SALINÓPOLIS  PARÁ         ANA   \n",
       "2       CURUÇA  00047003     2        32       CURUÇA  PARÁ         ANA   \n",
       "3    PRIMAVERA  00047004     2        32    PRIMAVERA  PARÁ         ANA   \n",
       "4       MARUDA  00047005     2        32    MARAPANIM  PARÁ         ANA   \n",
       "\n",
       "   Latitude  Longitude   StartDate     EndDate  NYD    MD  N_YWOMD   YWMD  \n",
       "0   -0.6500   -47.5500  1958/01/01  1964/12/31    7  25.0        0  100.0  \n",
       "1   -0.6231   -47.3536  1977/12/09  2019/08/31   43   3.5       35   18.6  \n",
       "2   -0.7375   -47.8536  1981/07/01  2019/07/31   39   2.4       29   25.6  \n",
       "3   -0.9294   -47.0994  1982/02/18  2019/08/31   38   0.0       35    7.9  \n",
       "4   -0.6336   -47.6583  1989/08/21  2019/07/31   31   5.0       20   35.5  "
      ]
     },
     "execution_count": 49,
     "metadata": {},
     "output_type": "execute_result"
    }
   ],
   "source": [
    "list_st =hb.get_data.ANA.list_prec_stations()\n",
    "list_st.head()\n"
   ]
  },
  {
   "cell_type": "markdown",
   "id": "29a031c2-1d15-4afd-b506-4d0ab7e31c55",
   "metadata": {},
   "source": [
    "### Filtrar localidade"
   ]
  },
  {
   "cell_type": "code",
   "execution_count": 54,
   "id": "1b88d178-b394-423e-adac-ccb43f0ddc46",
   "metadata": {},
   "outputs": [],
   "source": [
    "lista_belem=list_st[list_st.City=='BELÉM']\n",
    "lista_PA=list_st[list_st['State']=='PARÁ']\n",
    "lista_poa=list_st[list_st.City=='PORTO ALEGRE']\n",
    "\n",
    "#pegar list de código das estações\n",
    "lst_code_bel=lista_belem.Code.to_list()\n",
    "lst_code_poa=lista_poa.Code.to_list()"
   ]
  },
  {
   "cell_type": "markdown",
   "id": "4c9f05d4-cec5-459f-9692-757d21c09fb8",
   "metadata": {},
   "source": [
    "### baixar_dados "
   ]
  },
  {
   "cell_type": "code",
   "execution_count": 55,
   "id": "79901898-0941-4eef-8e97-ad3c7bd7c280",
   "metadata": {},
   "outputs": [
    {
     "name": "stderr",
     "output_type": "stream",
     "text": [
      "100%|██████████████████████████████████████████████████████████████████████████████████████████████████████████████████████████████████████████████████████████| 4/4 [08:06<00:00, 121.56s/it]\n"
     ]
    }
   ],
   "source": [
    "data_stations=hb.get_data.ANA.prec_data(lst_code_poa)"
   ]
  },
  {
   "cell_type": "code",
   "execution_count": 99,
   "id": "ebf1790c-8cf7-416b-b856-9f0a8ec6d07d",
   "metadata": {},
   "outputs": [
    {
     "name": "stderr",
     "output_type": "stream",
     "text": [
      "100%|██████████████████████████████████████████████████████████████████████████████████████████████████████████████████████████████████████████████████████████| 6/6 [12:13<00:00, 122.28s/it]\n"
     ]
    }
   ],
   "source": [
    "data_stations_bel=hb.get_data.ANA.prec_data(lst_code_bel)"
   ]
  },
  {
   "cell_type": "code",
   "execution_count": 86,
   "id": "4ce26474-f29c-4de5-9681-fca4dd79ac82",
   "metadata": {},
   "outputs": [
    {
     "name": "stdout",
     "output_type": "stream",
     "text": [
      "<class 'pandas.core.frame.DataFrame'>\n",
      "DatetimeIndex: 23376 entries, 1961-01-01 to 2024-12-31\n",
      "Freq: D\n",
      "Data columns (total 4 columns):\n",
      " #   Column    Non-Null Count  Dtype  \n",
      "---  ------    --------------  -----  \n",
      " 0   03051011  20920 non-null  float64\n",
      " 1   03051015  1349 non-null   float64\n",
      " 2   03051043  3837 non-null   float64\n",
      " 3   03051045  3993 non-null   float64\n",
      "dtypes: float64(4)\n",
      "memory usage: 913.1 KB\n"
     ]
    }
   ],
   "source": [
    "data_stations.info()"
   ]
  },
  {
   "cell_type": "code",
   "execution_count": 101,
   "id": "fbc6652a-5fcd-47f3-9e55-5eba33c6117b",
   "metadata": {},
   "outputs": [
    {
     "data": {
      "text/plain": [
       "'temp-plot.html'"
      ]
     },
     "execution_count": 101,
     "metadata": {},
     "output_type": "execute_result"
    }
   ],
   "source": [
    "from plotly.offline import plot\n",
    "gantt_fig=hb.Plot.gantt(data_stations)\n",
    "gantt_fig_bel=hb.Plot.gantt(data_stations_bel)\n",
    "\n",
    "plot(gantt_fig_bel)\n"
   ]
  },
  {
   "cell_type": "code",
   "execution_count": 103,
   "id": "88a71f78-edc2-4c0e-badb-09b6457dfa0f",
   "metadata": {},
   "outputs": [
    {
     "data": {
      "text/html": [
       "<div>\n",
       "<style scoped>\n",
       "    .dataframe tbody tr th:only-of-type {\n",
       "        vertical-align: middle;\n",
       "    }\n",
       "\n",
       "    .dataframe tbody tr th {\n",
       "        vertical-align: top;\n",
       "    }\n",
       "\n",
       "    .dataframe thead th {\n",
       "        text-align: right;\n",
       "    }\n",
       "</style>\n",
       "<table border=\"1\" class=\"dataframe\">\n",
       "  <thead>\n",
       "    <tr style=\"text-align: right;\">\n",
       "      <th></th>\n",
       "      <th>index</th>\n",
       "      <th>00148001</th>\n",
       "      <th>00148002</th>\n",
       "      <th>00148004</th>\n",
       "      <th>00148012</th>\n",
       "      <th>00148013</th>\n",
       "      <th>00148019</th>\n",
       "    </tr>\n",
       "  </thead>\n",
       "  <tbody>\n",
       "    <tr>\n",
       "      <th>0</th>\n",
       "      <td>1949-04-01</td>\n",
       "      <td>NaN</td>\n",
       "      <td>0.0</td>\n",
       "      <td>NaN</td>\n",
       "      <td>NaN</td>\n",
       "      <td>NaN</td>\n",
       "      <td>NaN</td>\n",
       "    </tr>\n",
       "    <tr>\n",
       "      <th>1</th>\n",
       "      <td>1949-04-02</td>\n",
       "      <td>NaN</td>\n",
       "      <td>0.0</td>\n",
       "      <td>NaN</td>\n",
       "      <td>NaN</td>\n",
       "      <td>NaN</td>\n",
       "      <td>NaN</td>\n",
       "    </tr>\n",
       "    <tr>\n",
       "      <th>2</th>\n",
       "      <td>1949-04-03</td>\n",
       "      <td>NaN</td>\n",
       "      <td>0.0</td>\n",
       "      <td>NaN</td>\n",
       "      <td>NaN</td>\n",
       "      <td>NaN</td>\n",
       "      <td>NaN</td>\n",
       "    </tr>\n",
       "    <tr>\n",
       "      <th>3</th>\n",
       "      <td>1949-04-04</td>\n",
       "      <td>NaN</td>\n",
       "      <td>0.0</td>\n",
       "      <td>NaN</td>\n",
       "      <td>NaN</td>\n",
       "      <td>NaN</td>\n",
       "      <td>NaN</td>\n",
       "    </tr>\n",
       "    <tr>\n",
       "      <th>4</th>\n",
       "      <td>1949-04-05</td>\n",
       "      <td>NaN</td>\n",
       "      <td>0.0</td>\n",
       "      <td>NaN</td>\n",
       "      <td>NaN</td>\n",
       "      <td>NaN</td>\n",
       "      <td>NaN</td>\n",
       "    </tr>\n",
       "    <tr>\n",
       "      <th>...</th>\n",
       "      <td>...</td>\n",
       "      <td>...</td>\n",
       "      <td>...</td>\n",
       "      <td>...</td>\n",
       "      <td>...</td>\n",
       "      <td>...</td>\n",
       "      <td>...</td>\n",
       "    </tr>\n",
       "    <tr>\n",
       "      <th>27664</th>\n",
       "      <td>2024-12-27</td>\n",
       "      <td>NaN</td>\n",
       "      <td>NaN</td>\n",
       "      <td>NaN</td>\n",
       "      <td>7.3</td>\n",
       "      <td>NaN</td>\n",
       "      <td>NaN</td>\n",
       "    </tr>\n",
       "    <tr>\n",
       "      <th>27665</th>\n",
       "      <td>2024-12-28</td>\n",
       "      <td>NaN</td>\n",
       "      <td>NaN</td>\n",
       "      <td>NaN</td>\n",
       "      <td>9.6</td>\n",
       "      <td>NaN</td>\n",
       "      <td>NaN</td>\n",
       "    </tr>\n",
       "    <tr>\n",
       "      <th>27666</th>\n",
       "      <td>2024-12-29</td>\n",
       "      <td>NaN</td>\n",
       "      <td>NaN</td>\n",
       "      <td>NaN</td>\n",
       "      <td>3.0</td>\n",
       "      <td>NaN</td>\n",
       "      <td>NaN</td>\n",
       "    </tr>\n",
       "    <tr>\n",
       "      <th>27667</th>\n",
       "      <td>2024-12-30</td>\n",
       "      <td>NaN</td>\n",
       "      <td>NaN</td>\n",
       "      <td>NaN</td>\n",
       "      <td>4.9</td>\n",
       "      <td>NaN</td>\n",
       "      <td>NaN</td>\n",
       "    </tr>\n",
       "    <tr>\n",
       "      <th>27668</th>\n",
       "      <td>2024-12-31</td>\n",
       "      <td>NaN</td>\n",
       "      <td>NaN</td>\n",
       "      <td>NaN</td>\n",
       "      <td>8.7</td>\n",
       "      <td>NaN</td>\n",
       "      <td>NaN</td>\n",
       "    </tr>\n",
       "  </tbody>\n",
       "</table>\n",
       "<p>27669 rows × 7 columns</p>\n",
       "</div>"
      ],
      "text/plain": [
       "           index  00148001  00148002  00148004  00148012  00148013  00148019\n",
       "0     1949-04-01       NaN       0.0       NaN       NaN       NaN       NaN\n",
       "1     1949-04-02       NaN       0.0       NaN       NaN       NaN       NaN\n",
       "2     1949-04-03       NaN       0.0       NaN       NaN       NaN       NaN\n",
       "3     1949-04-04       NaN       0.0       NaN       NaN       NaN       NaN\n",
       "4     1949-04-05       NaN       0.0       NaN       NaN       NaN       NaN\n",
       "...          ...       ...       ...       ...       ...       ...       ...\n",
       "27664 2024-12-27       NaN       NaN       NaN       7.3       NaN       NaN\n",
       "27665 2024-12-28       NaN       NaN       NaN       9.6       NaN       NaN\n",
       "27666 2024-12-29       NaN       NaN       NaN       3.0       NaN       NaN\n",
       "27667 2024-12-30       NaN       NaN       NaN       4.9       NaN       NaN\n",
       "27668 2024-12-31       NaN       NaN       NaN       8.7       NaN       NaN\n",
       "\n",
       "[27669 rows x 7 columns]"
      ]
     },
     "execution_count": 103,
     "metadata": {},
     "output_type": "execute_result"
    }
   ],
   "source": [
    "data_stations_index = data_stations.reset_index()\n",
    "data_stations_bel_index =data_stations_bel.reset_index()\n",
    "\n",
    "data_stations_bel_index"
   ]
  },
  {
   "cell_type": "code",
   "execution_count": 105,
   "id": "9adf6ab5-cfe2-4c66-ae1d-33e9fef16be3",
   "metadata": {},
   "outputs": [
    {
     "data": {
      "text/plain": [
       "6"
      ]
     },
     "execution_count": 105,
     "metadata": {},
     "output_type": "execute_result"
    }
   ],
   "source": [
    "# data_station_melt=pd.melt(data_station_index,\n",
    "#                           id_vars='index',\n",
    "#                           value_vars='codigo_estacao',\n",
    "#                           var_name='Estacoes',\n",
    "#                           value_name='Precipitacao')\n",
    "\n",
    "\n",
    "##Preparando a base de dados para realizar o gráfico\n",
    "data_stations_melt = pd.melt(data_stations_index, id_vars='index',\n",
    "                        value_vars=lst_code_poa,   var_name=\"Estacoes\", value_name=\"Precipitacao\")\n",
    "\n",
    "data_stations_bel_melt = pd.melt(data_stations_bel_index, id_vars='index',\n",
    "                        value_vars=lst_code_bel,   var_name=\"Estacoes\", value_name=\"Precipitacao\")\n",
    "data_stations_bel_melt['Estacoes'].nunique()\n",
    "\n"
   ]
  },
  {
   "cell_type": "code",
   "execution_count": 106,
   "id": "0dcd54c6-ac5c-48d4-bf47-c2e04bf1f1ee",
   "metadata": {},
   "outputs": [
    {
     "data": {
      "text/plain": [
       "Text(0, 0.5, 'Precipitação (mm)')"
      ]
     },
     "execution_count": 106,
     "metadata": {},
     "output_type": "execute_result"
    },
    {
     "data": {
      "image/png": "[encoded data removed]",
      "text/plain": [
       "<Figure size 1800x1000 with 1 Axes>"
      ]
     },
     "metadata": {},
     "output_type": "display_data"
    }
   ],
   "source": [
    "#fig,ax=plt.subplot(1,1,figsize=(15,10))\n",
    "\n",
    "fig, axs = plt.subplots(1, 1, figsize=(18, 10))  \n",
    "\n",
    "from matplotlib import rc\n",
    "rc('mathtext', default='regular')\n",
    "sns.lineplot(x='index',y='Precipitacao',hue='Estacoes',data=data_stations_bel_melt,ax=axs)\n",
    "# Ajustando rótulos e título (opcional)\n",
    "axs.set_xlabel('Data')  # Ou outro nome adequado ao eixo x\n",
    "axs.set_ylabel('Precipitação (mm)')"
   ]
  },
  {
   "cell_type": "markdown",
   "id": "3955cb8c-26a0-4116-a75c-019169690708",
   "metadata": {},
   "source": [
    "### baixar_dados & plotar Belém"
   ]
  },
  {
   "cell_type": "code",
   "execution_count": null,
   "id": "3b71925e-df87-4b02-9e24-0a2f8df3bbac",
   "metadata": {},
   "outputs": [],
   "source": []
  }
 ],
 "metadata": {
  "kernelspec": {
   "display_name": "Python 3 (ipykernel)",
   "language": "python",
   "name": "python3"
  },
  "language_info": {
   "codemirror_mode": {
    "name": "ipython",
    "version": 3
   },
   "file_extension": ".py",
   "mimetype": "text/x-python",
   "name": "python",
   "nbconvert_exporter": "python",
   "pygments_lexer": "ipython3",
   "version": "3.9.5"
  }
 },
 "nbformat": 4,
 "nbformat_minor": 5
}
