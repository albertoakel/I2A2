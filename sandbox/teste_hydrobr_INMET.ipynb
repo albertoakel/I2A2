{
 "cells": [
  {
   "cell_type": "markdown",
   "id": "8655310b-fa27-462c-b95f-a6ebaf9052c2",
   "metadata": {},
   "source": [
    "# Teste Hydrobr - INMET - NÂO Funciona. problemas no servidor INMET\n",
    "> dados INMET\n",
    ">\n",
    "> https://wallissoncarvalho.github.io/HydroBr/"
   ]
  },
  {
   "cell_type": "code",
   "execution_count": 3,
   "id": "a6bec658-9966-40da-8a05-c5b110368930",
   "metadata": {},
   "outputs": [],
   "source": [
    "import hydrobr as hb\n",
    "import pandas as pd\n",
    "import matplotlib.pyplot as plt\n",
    "import seaborn as sns\n",
    "from PIL import Image\n",
    "from plotly.offline import plot\n"
   ]
  },
  {
   "cell_type": "markdown",
   "id": "e7104883-3341-4977-80f4-d64208360c1e",
   "metadata": {},
   "source": [
    "### Listar estações"
   ]
  },
  {
   "cell_type": "code",
   "execution_count": 8,
   "id": "0292697b-aba7-4cf1-8096-f204883cb8e3",
   "metadata": {},
   "outputs": [
    {
     "data": {
      "text/html": [
       "<div>\n",
       "<style scoped>\n",
       "    .dataframe tbody tr th:only-of-type {\n",
       "        vertical-align: middle;\n",
       "    }\n",
       "\n",
       "    .dataframe tbody tr th {\n",
       "        vertical-align: top;\n",
       "    }\n",
       "\n",
       "    .dataframe thead th {\n",
       "        text-align: right;\n",
       "    }\n",
       "</style>\n",
       "<table border=\"1\" class=\"dataframe\">\n",
       "  <thead>\n",
       "    <tr style=\"text-align: right;\">\n",
       "      <th></th>\n",
       "      <th>Code</th>\n",
       "      <th>Type</th>\n",
       "      <th>Name</th>\n",
       "      <th>State</th>\n",
       "      <th>Latitude</th>\n",
       "      <th>Longitude</th>\n",
       "      <th>Height</th>\n",
       "      <th>Start Operation</th>\n",
       "      <th>End Operation</th>\n",
       "    </tr>\n",
       "  </thead>\n",
       "  <tbody>\n",
       "    <tr>\n",
       "      <th>0</th>\n",
       "      <td>82353</td>\n",
       "      <td>Conventional</td>\n",
       "      <td>ALTAMIRA</td>\n",
       "      <td>PA</td>\n",
       "      <td>-3.21416666</td>\n",
       "      <td>-52.21305555</td>\n",
       "      <td>101.51</td>\n",
       "      <td>1927-04-23 21:00:00-03:00</td>\n",
       "      <td>In operation</td>\n",
       "    </tr>\n",
       "    <tr>\n",
       "      <th>1</th>\n",
       "      <td>83007</td>\n",
       "      <td>Conventional</td>\n",
       "      <td>ALTO DA BOA VISTA</td>\n",
       "      <td>RJ</td>\n",
       "      <td>-22.96583333</td>\n",
       "      <td>-43.27916666</td>\n",
       "      <td>366</td>\n",
       "      <td>1966-05-31 21:00:00-03:00</td>\n",
       "      <td>In operation</td>\n",
       "    </tr>\n",
       "    <tr>\n",
       "      <th>2</th>\n",
       "      <td>82590</td>\n",
       "      <td>Conventional</td>\n",
       "      <td>APODI</td>\n",
       "      <td>RN</td>\n",
       "      <td>-5.62666666</td>\n",
       "      <td>-37.815</td>\n",
       "      <td>131.37</td>\n",
       "      <td>1962-12-17 21:00:00-03:00</td>\n",
       "      <td>In operation</td>\n",
       "    </tr>\n",
       "    <tr>\n",
       "      <th>3</th>\n",
       "      <td>83442</td>\n",
       "      <td>Conventional</td>\n",
       "      <td>ARACUAI</td>\n",
       "      <td>MG</td>\n",
       "      <td>-16.84888888</td>\n",
       "      <td>-42.06083333</td>\n",
       "      <td>317.67</td>\n",
       "      <td>1918-09-05 21:00:00-03:00</td>\n",
       "      <td>In operation</td>\n",
       "    </tr>\n",
       "    <tr>\n",
       "      <th>4</th>\n",
       "      <td>83368</td>\n",
       "      <td>Conventional</td>\n",
       "      <td>ARAGARCAS</td>\n",
       "      <td>GO</td>\n",
       "      <td>-15.9025</td>\n",
       "      <td>-52.24527777</td>\n",
       "      <td>327.03</td>\n",
       "      <td>1970-07-18 21:00:00-03:00</td>\n",
       "      <td>In operation</td>\n",
       "    </tr>\n",
       "  </tbody>\n",
       "</table>\n",
       "</div>"
      ],
      "text/plain": [
       "    Code          Type               Name State      Latitude     Longitude  \\\n",
       "0  82353  Conventional           ALTAMIRA    PA   -3.21416666  -52.21305555   \n",
       "1  83007  Conventional  ALTO DA BOA VISTA    RJ  -22.96583333  -43.27916666   \n",
       "2  82590  Conventional              APODI    RN   -5.62666666       -37.815   \n",
       "3  83442  Conventional            ARACUAI    MG  -16.84888888  -42.06083333   \n",
       "4  83368  Conventional          ARAGARCAS    GO      -15.9025  -52.24527777   \n",
       "\n",
       "   Height            Start Operation End Operation  \n",
       "0  101.51  1927-04-23 21:00:00-03:00  In operation  \n",
       "1     366  1966-05-31 21:00:00-03:00  In operation  \n",
       "2  131.37  1962-12-17 21:00:00-03:00  In operation  \n",
       "3  317.67  1918-09-05 21:00:00-03:00  In operation  \n",
       "4  327.03  1970-07-18 21:00:00-03:00  In operation  "
      ]
     },
     "execution_count": 8,
     "metadata": {},
     "output_type": "execute_result"
    }
   ],
   "source": [
    "list_st=hb.get_data.INMET.list_stations(station_type='both')\n",
    "list_st.head()"
   ]
  },
  {
   "cell_type": "markdown",
   "id": "f43a0c32-f88a-4819-98fd-7d7e3ea7ae66",
   "metadata": {},
   "source": [
    "### Filtrar localidade"
   ]
  },
  {
   "cell_type": "code",
   "execution_count": 20,
   "id": "00bc5e0f-96c4-49a3-a078-d9ff107a3b1c",
   "metadata": {},
   "outputs": [
    {
     "data": {
      "text/html": [
       "<div>\n",
       "<style scoped>\n",
       "    .dataframe tbody tr th:only-of-type {\n",
       "        vertical-align: middle;\n",
       "    }\n",
       "\n",
       "    .dataframe tbody tr th {\n",
       "        vertical-align: top;\n",
       "    }\n",
       "\n",
       "    .dataframe thead th {\n",
       "        text-align: right;\n",
       "    }\n",
       "</style>\n",
       "<table border=\"1\" class=\"dataframe\">\n",
       "  <thead>\n",
       "    <tr style=\"text-align: right;\">\n",
       "      <th></th>\n",
       "      <th>Code</th>\n",
       "      <th>Type</th>\n",
       "      <th>Name</th>\n",
       "      <th>State</th>\n",
       "      <th>Latitude</th>\n",
       "      <th>Longitude</th>\n",
       "      <th>Height</th>\n",
       "      <th>Start Operation</th>\n",
       "      <th>End Operation</th>\n",
       "    </tr>\n",
       "  </thead>\n",
       "  <tbody>\n",
       "    <tr>\n",
       "      <th>15</th>\n",
       "      <td>82191</td>\n",
       "      <td>Conventional</td>\n",
       "      <td>BELEM</td>\n",
       "      <td>PA</td>\n",
       "      <td>-1.43583333</td>\n",
       "      <td>-48.43722221</td>\n",
       "      <td>7.13</td>\n",
       "      <td>1923-10-31 21:00:00-03:00</td>\n",
       "      <td>In operation</td>\n",
       "    </tr>\n",
       "    <tr>\n",
       "      <th>65</th>\n",
       "      <td>A201</td>\n",
       "      <td>Automatic</td>\n",
       "      <td>BELEM</td>\n",
       "      <td>PA</td>\n",
       "      <td>-1.411228</td>\n",
       "      <td>-48.439512</td>\n",
       "      <td>21.17</td>\n",
       "      <td>2003-01-19 22:00:00-02:00</td>\n",
       "      <td>In operation</td>\n",
       "    </tr>\n",
       "  </tbody>\n",
       "</table>\n",
       "</div>"
      ],
      "text/plain": [
       "     Code          Type   Name State     Latitude     Longitude Height  \\\n",
       "15  82191  Conventional  BELEM    PA  -1.43583333  -48.43722221   7.13   \n",
       "65   A201     Automatic  BELEM    PA    -1.411228    -48.439512  21.17   \n",
       "\n",
       "              Start Operation End Operation  \n",
       "15  1923-10-31 21:00:00-03:00  In operation  \n",
       "65  2003-01-19 22:00:00-02:00  In operation  "
      ]
     },
     "execution_count": 20,
     "metadata": {},
     "output_type": "execute_result"
    }
   ],
   "source": [
    "list_bel=list_st[list_st.Name=='BELEM']\n",
    "list_belc=list_bel.Code.to_list()\n",
    "list_belc[1]\n",
    "list_bel"
   ]
  },
  {
   "cell_type": "markdown",
   "id": "9b4ca4d2-c8fb-4bb3-abb1-61c8d1a82744",
   "metadata": {},
   "source": [
    "### Baixar dados"
   ]
  },
  {
   "cell_type": "code",
   "execution_count": 22,
   "id": "c5517c7a-1d06-4dc0-bda0-c566249e639a",
   "metadata": {},
   "outputs": [
    {
     "name": "stderr",
     "output_type": "stream",
     "text": [
      "0it [00:00, ?it/s]\n"
     ]
    },
    {
     "ename": "Exception",
     "evalue": "It was not possible to get the data, please verify your connection and try again.",
     "output_type": "error",
     "traceback": [
      "\u001b[0;31m---------------------------------------------------------------------------\u001b[0m",
      "\u001b[0;31mJSONDecodeError\u001b[0m                           Traceback (most recent call last)",
      "File \u001b[0;32m~/anaconda2025/envs/data_science_INMET/lib/python3.9/site-packages/hydrobr/get_data.py:437\u001b[0m, in \u001b[0;36mINMET.hourly_data\u001b[0;34m(station_code)\u001b[0m\n\u001b[1;32m    436\u001b[0m \u001b[38;5;28;01mtry\u001b[39;00m:\n\u001b[0;32m--> 437\u001b[0m     data_station_window \u001b[38;5;241m=\u001b[39m pd\u001b[38;5;241m.\u001b[39mDataFrame(\u001b[43mjson\u001b[49m\u001b[38;5;241;43m.\u001b[39;49m\u001b[43mloads\u001b[49m\u001b[43m(\u001b[49m\u001b[43mresponse_station\u001b[49m\u001b[38;5;241;43m.\u001b[39;49m\u001b[43mtext\u001b[49m\u001b[43m)\u001b[49m)\n\u001b[1;32m    438\u001b[0m     data_station \u001b[38;5;241m=\u001b[39m pd\u001b[38;5;241m.\u001b[39mconcat([data_station, data_station_window])\n",
      "File \u001b[0;32m~/anaconda2025/envs/data_science_INMET/lib/python3.9/json/__init__.py:346\u001b[0m, in \u001b[0;36mloads\u001b[0;34m(s, cls, object_hook, parse_float, parse_int, parse_constant, object_pairs_hook, **kw)\u001b[0m\n\u001b[1;32m    343\u001b[0m \u001b[38;5;28;01mif\u001b[39;00m (\u001b[38;5;28mcls\u001b[39m \u001b[38;5;129;01mis\u001b[39;00m \u001b[38;5;28;01mNone\u001b[39;00m \u001b[38;5;129;01mand\u001b[39;00m object_hook \u001b[38;5;129;01mis\u001b[39;00m \u001b[38;5;28;01mNone\u001b[39;00m \u001b[38;5;129;01mand\u001b[39;00m\n\u001b[1;32m    344\u001b[0m         parse_int \u001b[38;5;129;01mis\u001b[39;00m \u001b[38;5;28;01mNone\u001b[39;00m \u001b[38;5;129;01mand\u001b[39;00m parse_float \u001b[38;5;129;01mis\u001b[39;00m \u001b[38;5;28;01mNone\u001b[39;00m \u001b[38;5;129;01mand\u001b[39;00m\n\u001b[1;32m    345\u001b[0m         parse_constant \u001b[38;5;129;01mis\u001b[39;00m \u001b[38;5;28;01mNone\u001b[39;00m \u001b[38;5;129;01mand\u001b[39;00m object_pairs_hook \u001b[38;5;129;01mis\u001b[39;00m \u001b[38;5;28;01mNone\u001b[39;00m \u001b[38;5;129;01mand\u001b[39;00m \u001b[38;5;129;01mnot\u001b[39;00m kw):\n\u001b[0;32m--> 346\u001b[0m     \u001b[38;5;28;01mreturn\u001b[39;00m \u001b[43m_default_decoder\u001b[49m\u001b[38;5;241;43m.\u001b[39;49m\u001b[43mdecode\u001b[49m\u001b[43m(\u001b[49m\u001b[43ms\u001b[49m\u001b[43m)\u001b[49m\n\u001b[1;32m    347\u001b[0m \u001b[38;5;28;01mif\u001b[39;00m \u001b[38;5;28mcls\u001b[39m \u001b[38;5;129;01mis\u001b[39;00m \u001b[38;5;28;01mNone\u001b[39;00m:\n",
      "File \u001b[0;32m~/anaconda2025/envs/data_science_INMET/lib/python3.9/json/decoder.py:337\u001b[0m, in \u001b[0;36mJSONDecoder.decode\u001b[0;34m(self, s, _w)\u001b[0m\n\u001b[1;32m    333\u001b[0m \u001b[38;5;250m\u001b[39m\u001b[38;5;124;03m\"\"\"Return the Python representation of ``s`` (a ``str`` instance\u001b[39;00m\n\u001b[1;32m    334\u001b[0m \u001b[38;5;124;03mcontaining a JSON document).\u001b[39;00m\n\u001b[1;32m    335\u001b[0m \n\u001b[1;32m    336\u001b[0m \u001b[38;5;124;03m\"\"\"\u001b[39;00m\n\u001b[0;32m--> 337\u001b[0m obj, end \u001b[38;5;241m=\u001b[39m \u001b[38;5;28;43mself\u001b[39;49m\u001b[38;5;241;43m.\u001b[39;49m\u001b[43mraw_decode\u001b[49m\u001b[43m(\u001b[49m\u001b[43ms\u001b[49m\u001b[43m,\u001b[49m\u001b[43m \u001b[49m\u001b[43midx\u001b[49m\u001b[38;5;241;43m=\u001b[39;49m\u001b[43m_w\u001b[49m\u001b[43m(\u001b[49m\u001b[43ms\u001b[49m\u001b[43m,\u001b[49m\u001b[43m \u001b[49m\u001b[38;5;241;43m0\u001b[39;49m\u001b[43m)\u001b[49m\u001b[38;5;241;43m.\u001b[39;49m\u001b[43mend\u001b[49m\u001b[43m(\u001b[49m\u001b[43m)\u001b[49m\u001b[43m)\u001b[49m\n\u001b[1;32m    338\u001b[0m end \u001b[38;5;241m=\u001b[39m _w(s, end)\u001b[38;5;241m.\u001b[39mend()\n",
      "File \u001b[0;32m~/anaconda2025/envs/data_science_INMET/lib/python3.9/json/decoder.py:355\u001b[0m, in \u001b[0;36mJSONDecoder.raw_decode\u001b[0;34m(self, s, idx)\u001b[0m\n\u001b[1;32m    354\u001b[0m \u001b[38;5;28;01mexcept\u001b[39;00m \u001b[38;5;167;01mStopIteration\u001b[39;00m \u001b[38;5;28;01mas\u001b[39;00m err:\n\u001b[0;32m--> 355\u001b[0m     \u001b[38;5;28;01mraise\u001b[39;00m JSONDecodeError(\u001b[38;5;124m\"\u001b[39m\u001b[38;5;124mExpecting value\u001b[39m\u001b[38;5;124m\"\u001b[39m, s, err\u001b[38;5;241m.\u001b[39mvalue) \u001b[38;5;28;01mfrom\u001b[39;00m\u001b[38;5;250m \u001b[39m\u001b[38;5;28;01mNone\u001b[39;00m\n\u001b[1;32m    356\u001b[0m \u001b[38;5;28;01mreturn\u001b[39;00m obj, end\n",
      "\u001b[0;31mJSONDecodeError\u001b[0m: Expecting value: line 1 column 1 (char 0)",
      "\nDuring handling of the above exception, another exception occurred:\n",
      "\u001b[0;31mException\u001b[0m                                 Traceback (most recent call last)",
      "Cell \u001b[0;32mIn[22], line 2\u001b[0m\n\u001b[1;32m      1\u001b[0m \u001b[38;5;66;03m#data_station_bel=hb.get_data.INMET.daily_data(list_belc[1],filter=True)\u001b[39;00m\n\u001b[0;32m----> 2\u001b[0m data_station_bel\u001b[38;5;241m=\u001b[39m\u001b[43mhb\u001b[49m\u001b[38;5;241;43m.\u001b[39;49m\u001b[43mget_data\u001b[49m\u001b[38;5;241;43m.\u001b[39;49m\u001b[43mINMET\u001b[49m\u001b[38;5;241;43m.\u001b[39;49m\u001b[43mhourly_data\u001b[49m\u001b[43m(\u001b[49m\u001b[38;5;124;43m'\u001b[39;49m\u001b[38;5;124;43mA201\u001b[39;49m\u001b[38;5;124;43m'\u001b[39;49m\u001b[43m)\u001b[49m\n",
      "File \u001b[0;32m~/anaconda2025/envs/data_science_INMET/lib/python3.9/site-packages/hydrobr/get_data.py:440\u001b[0m, in \u001b[0;36mINMET.hourly_data\u001b[0;34m(station_code)\u001b[0m\n\u001b[1;32m    438\u001b[0m         data_station \u001b[38;5;241m=\u001b[39m pd\u001b[38;5;241m.\u001b[39mconcat([data_station, data_station_window])\n\u001b[1;32m    439\u001b[0m     \u001b[38;5;28;01mexcept\u001b[39;00m:\n\u001b[0;32m--> 440\u001b[0m         \u001b[38;5;28;01mraise\u001b[39;00m \u001b[38;5;167;01mException\u001b[39;00m(\u001b[38;5;124m'\u001b[39m\u001b[38;5;124mIt was not possible to get the data, please verify your connection and try again.\u001b[39m\u001b[38;5;124m'\u001b[39m)\n\u001b[1;32m    442\u001b[0m data_station[\u001b[38;5;124m'\u001b[39m\u001b[38;5;124mDate\u001b[39m\u001b[38;5;124m'\u001b[39m] \u001b[38;5;241m=\u001b[39m pd\u001b[38;5;241m.\u001b[39mto_datetime(\n\u001b[1;32m    443\u001b[0m     data_station[\u001b[38;5;124m'\u001b[39m\u001b[38;5;124mDT_MEDICAO\u001b[39m\u001b[38;5;124m'\u001b[39m] \u001b[38;5;241m+\u001b[39m data_station[\u001b[38;5;124m'\u001b[39m\u001b[38;5;124mHR_MEDICAO\u001b[39m\u001b[38;5;124m'\u001b[39m]\u001b[38;5;241m.\u001b[39mapply(\u001b[38;5;28;01mlambda\u001b[39;00m x: \u001b[38;5;124m'\u001b[39m\u001b[38;5;124m \u001b[39m\u001b[38;5;124m'\u001b[39m \u001b[38;5;241m+\u001b[39m x[:\u001b[38;5;241m2\u001b[39m]))\n\u001b[1;32m    444\u001b[0m data_station\u001b[38;5;241m.\u001b[39mindex \u001b[38;5;241m=\u001b[39m data_station[\u001b[38;5;124m'\u001b[39m\u001b[38;5;124mDate\u001b[39m\u001b[38;5;124m'\u001b[39m]\n",
      "\u001b[0;31mException\u001b[0m: It was not possible to get the data, please verify your connection and try again."
     ]
    }
   ],
   "source": [
    "#data_station_bel=hb.get_data.INMET.daily_data(list_belc[1],filter=True)\n",
    "data_station_bel=hb.get_data.INMET.hourly_data(list_belc[1])"
   ]
  },
  {
   "cell_type": "code",
   "execution_count": null,
   "id": "6b7ce562-fa31-49c9-aeb4-2724c5e5ef24",
   "metadata": {},
   "outputs": [],
   "source": []
  }
 ],
 "metadata": {
  "kernelspec": {
   "display_name": "Python 3 (ipykernel)",
   "language": "python",
   "name": "python3"
  },
  "language_info": {
   "codemirror_mode": {
    "name": "ipython",
    "version": 3
   },
   "file_extension": ".py",
   "mimetype": "text/x-python",
   "name": "python",
   "nbconvert_exporter": "python",
   "pygments_lexer": "ipython3",
   "version": "3.9.5"
  }
 },
 "nbformat": 4,
 "nbformat_minor": 5
}
