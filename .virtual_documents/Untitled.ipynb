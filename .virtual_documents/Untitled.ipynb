from geopy.geocoders import Nominatim

def get_coordinates(city_name, state='Pará', country='Brasil'):
    geolocator = Nominatim(user_agent="my_geocoder")
    location = geolocator.geocode(f"{city_name}, {state}, {country}")
    if location:
        return location.latitude, location.longitude
    else:
        return None, None

municipios = ['Belém', 'Ananindeua', 'Santarém']  # Sua lista de municípios
coordenadas = {}
for municipio in municipios:
    lat, lon = get_coordinates(municipio)
    if lat and lon:
        coordenadas[municipio] = (lat, lon)
        print(f"Coordenadas de {municipio}: Latitude={lat:.2f}, Longitude={lon:.2f}")
    else:
        print(f"Não foi possível encontrar as coordenadas de {municipio}")

print("\nCoordenadas encontradas:", coordenadas)

import geopandas as gpd
from shapely.geometry import Point

geometry = [Point(lon, lat) for lat, lon in coordenadas.values()]
municipios_df = gpd.GeoDataFrame(list(coordenadas.keys()), geometry=geometry, columns=['Município'])
print("\nGeoDataFrame criado:\n", municipios_df)



