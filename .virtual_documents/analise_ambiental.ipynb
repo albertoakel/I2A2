import pandas as pd
import matplotlib.pyplot as plt
import numpy as np
import seaborn as sns
import plotly.express as px
import warnings

warnings.filterwarnings("ignore", category=FutureWarning)

df= pd.read_csv('Dataset_de_200_Comunidades_para_Analise_Ambiental.csv')
df.columns


#print(df.info())
# 1. Agrupamento 
gp1= df.groupby('Município')[df.columns[3]].agg(['mean']).reset_index().sort_values('mean', ascending=False) #desmatamento
gp2= df.groupby('Município')[df.columns[5]].agg(['mean']).reset_index().sort_values('mean', ascending=False) #cobertura vegetal
gp3= df.groupby('Município')[df.columns[7]].agg(['mean']).reset_index().sort_values('mean', ascending=False) #Densidade Populacional
gp4= df.groupby('Município')[df.columns[8]].agg(['mean']).reset_index().sort_values('mean', ascending=False)  #frequencia de queimadas

contagem_com= df.groupby('Município')['Comunidade'].count().reset_index()
# 2. Top 10 municípios com maior média de queimadas
top10 = gp1.head(10)

fig, axs = plt.subplots(2, 2, figsize=(18, 10))
plt.figure(figsize=(12, 8))
sns.barplot(data=top10, x='mean', y='Município', palette='Reds_r', edgecolor='black', linewidth=0.5, ax=axs[0, 0])
axs[0,0].set_title('Top 10 Municípios: '+df.columns[3], fontsize=12)
axs[0,0].set_xlabel('Média '+df.columns[3], fontsize=12)
axs[0,0].set_ylabel('')
axs[0,0].tick_params(axis='y', labelsize=8,rotation=45)  


top10 = gp2.head(10)
sns.barplot(data=top10, x='mean', y='Município', palette='Reds_r', edgecolor='black', linewidth=0.5, ax=axs[0, 1])
axs[0,1].set_title('Top 10 Municípios: '+df.columns[5], fontsize=12)
axs[0,1].set_xlabel('Média '+df.columns[5], fontsize=12)
axs[0,1].set_ylabel('')

axs[0,1].tick_params(axis='y', labelsize=8,rotation=45) 

top10 = gp3.head(10)
sns.barplot(data=top10, x='mean', y='Município', palette='Reds_r', edgecolor='black', linewidth=0.5, ax=axs[1, 0])
axs[1,0].set_title('Top 10 Municípios: '+df.columns[7], fontsize=12)
axs[1,0].set_xlabel('Média '+df.columns[7], fontsize=12)
axs[1,0].set_ylabel('')

axs[1,0].tick_params(axis='y', labelsize=8,rotation=45) 

top10 = gp4.head(10)
sns.barplot(data=top10, x='mean', y='Município', palette='Reds_r', edgecolor='black', linewidth=0.5, ax=axs[1, 1])
axs[1,1].set_title('Top 10 Municípios: '+df.columns[8], fontsize=12)
axs[1,1].set_xlabel('Média '+df.columns[8], fontsize=12)
axs[1,1].set_ylabel('')

axs[1,1].tick_params(axis='y', labelsize=8,rotation=45) 



# plt.ylabel('Município', fontsize=12)
# plt.grid(axis='x', linestyle='--', alpha=0.6)

# for i, v in enumerate(lista['mean']):
#     plt.text(v + 0.2, i, f"{v:.1f}", color='black', va='center')

plt.tight_layout()
plt.show()

df.columns
df.info()
pd.set_option('display.max_rows', None)



contagem_com= df.groupby('Município')[['Comunidade' ,'Índice de Desmatamento (%)']].count().reset_index()

contagem_com.sort_values(by='Comunidade',ascending=False)




total_comunidades_por_municipio = df.groupby('Município')['Comunidade'].count().reset_index()
total_comunidades_por_municipio.rename(columns={'Comunidade': 'Total de Comunidades'}, inplace=True)

media_desmatamento_por_municipio = df.groupby('Município')['Índice de Desmatamento (%)'].mean().reset_index()
media_desmatamento_por_municipio.rename(columns={'Índice de Desmatamento (%)': 'Média de Desmatamento (%)'}, inplace=True)

df_municipio_desmatamento = pd.merge(total_comunidades_por_municipio, media_desmatamento_por_municipio, on='Município')

df_municipio_desmatamento.sort_values(by='Total de Comunidades',ascending=False) 


df['Índice de Desmatamento (%)'].describe()


correlation_matrix = df.corr()
plt.figure(figsize=(15, 8))
sns.heatmap(correlation_matrix , annot=True, cmap='coolwarm', vmin=-1, vmax=1)
plt.title('figura 6: Matriz de Correlação')
plt.show()


correlation_matrix 


df2 = df[[ 'Cobertura Vegetal (%)',
                       'Frequência de Queimadas (ano)',
                       'Distância de Área Urbana (km)']]

sns.pairplot(df2);
plt.suptitle('Fig.1: Análise multivariada, y=1.03'); 
plt.tight_layout();
plt.show();


import pandas as pd
from geopy.geocoders import Nominatim
from geopy.exc import GeocoderTimedOut, GeocoderServiceError
import time

# Seu DataFrame (exemplo com alguns dados)

df= pd.read_csv('Dataset_de_200_Comunidades_para_Analise_Ambiental.csv')


# Inicializar o geocodificador Nominatim
geolocator = Nominatim(user_agent="geo_localizador_comunidades")

# Função para obter as coordenadas geográficas com tratamento de erros
def get_coordinates(city_name, state='Pará', country='Brasil', max_retries=3, timeout=5):
    for attempt in range(max_retries):
        try:
            location = geolocator.geocode(f"{city_name}, {state}, {country}", timeout=timeout)
            if location:
                return location.latitude, location.longitude
            return None, None
        except GeocoderTimedOut:
            print(f"Timeout ao geocodificar {city_name}, tentativa {attempt + 1}/{max_retries}...")
            time.sleep(2 ** attempt)  # Espera exponencial
        except GeocoderServiceError as e:
            print(f"Erro de serviço ao geocodificar {city_name}: {e}")
            return None, None
        except Exception as e:
            print(f"Erro inesperado ao geocodificar {city_name}: {e}")
            return None, None
    print(f"Falha ao geocodificar {city_name} após {max_retries} tentativas.")
    return None, None

# Criar listas vazias para armazenar latitude e longitude
latitudes = []
longitudes = []

# Obter as coordenadas para cada município único no DataFrame
municipios_unicos = df['Município'].unique()
coordenadas_municipios = {}

print("Obtendo coordenadas dos municípios:")
for municipio in municipios_unicos:
    if municipio not in coordenadas_municipios:
        coords = get_coordinates(municipio)
        if coords:
            coordenadas_municipios[municipio] = coords
            print(f"Coordenadas de {municipio}: Latitude={coords[0]:.2f}, Longitude={coords[1]:.2f}")
        else:
            print(f"Não foi possível encontrar as coordenadas de {municipio}")
    else:
        print(f"Coordenadas de {municipio} já foram obtidas.")

# Adicionar latitude e longitude ao DataFrame com base na coluna 'Município'
print("\nAdicionando coordenadas ao DataFrame:")
for index, row in df.iterrows():
    municipio = row['Município']
    if municipio in coordenadas_municipios:
        lat, lon = coordenadas_municipios[municipio]
        latitudes.append(lat)
        longitudes.append(lon)
        print(f"Comunidade {row['Comunidade']} ({municipio}): Latitude={lat:.2f}, Longitude={lon:.2f}")
    else:
        latitudes.append(None)
        longitudes.append(None)
        print(f"Comunidade {row['Comunidade']} ({municipio}): Coordenadas não encontradas.")

# Adicionar as novas colunas ao DataFrame
df['Latitude'] = latitudes
df['Longitude'] = longitudes

# Exibir o DataFrame com as colunas de latitude e longitude
print("\nDataFrame com Latitudes e Longitudes:")

#df.to_csv('Dataset_de_200_Comunidades_para_Analise_Ambiental2.csv', index=False, encoding='utf-8')



df.to_csv('Dataset_de_200_Comunidades_para_Analise_Ambiental2.csv', index=False, encoding='utf-8')




