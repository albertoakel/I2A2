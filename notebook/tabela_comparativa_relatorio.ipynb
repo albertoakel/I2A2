{
 "cells": [
  {
   "cell_type": "markdown",
   "id": "874e859d-7f2c-4f20-8f29-af952ae8ed61",
   "metadata": {},
   "source": [
    "| Tema | Situação | Observação |\n",
    "|------|----------|------------|\n",
    "| **Tipos de Eletrônicos** (baterias 16,7%; celulares 14%; computadores/geladeiras 13,3%) | **Iguais/Aproximados** | Mesmos percentuais do relatório. |\n",
    "| TVs = 9,33% (menor proporção) | **Iguais/Aproximados** | Já aparece no relatório. |\n",
    "| Tipo “desconhecido” = 10% | **Iguais/Aproximados** | Constava após tratamento dos nulos. |\n",
    "| **Origem do Descarte** (governamental 30%; urbano 23,3%) | **Iguais/Aproximados** | Exatamente como no relatório. |\n",
    "| Industrial 18,7% vs 21,3% | **Parcialmente iguais** | Diferença porque um valor veio antes e outro depois da padronização. |\n",
    "| Rural 18% | **Iguais/Aproximados** | Aparece no relatório. |\n",
    "| Origem “desconhecida” = 10% | **Iguais/Aproximados** | Relatório traz esse valor. |\n",
    "| **Toxicidade (27%, 27%, 26%, 20%)** | **Iguais/Aproximados** | Relatório apresenta a mesma divisão. |\n",
    "| **Destino Final** (lixão 34; aterro 30; rios 28) | **Iguais/Aproximados** | Constam no relatório. |\n",
    "| Reciclagem formal 18% (sua lista) vs 12,7% (relatório, total de 19/150) | **Parcialmente iguais** | Você usou média municipal ou arredondamento; relatório mostra total global menor. |\n",
    "| **Educação Ambiental (59% sim; 41% não)** | **Iguais/Aproximados** | Bate exatamente. |\n",
    "| **Impacto econômico da reciclagem** (custo médio ≈R$103, variação ampla) | **Iguais/Aproximados** | Aparece nas estatísticas finais. |\n",
    "| Peso médio 25,38 kg e custo não proporcional | **Iguais/Aproximados** | Já está no relatório. |\n",
    "| **Relação fabricação × descarte** (período 1995–2022, pico em 2009) | **Novo** | Sua lista traz como insight adicional, não aparece de forma explícita no texto. |\n",
    "| **Análise geográfica per capita** | **Novo** | Ideia nova, relatório não cruza com população. |\n",
    "| **Sazonalidade do descarte** | **Novo** | Relatório não detalha padrões sazonais. |\n",
    "| **Relação educação ambiental × destino** | **Iguais/Aproximados** | Constava como correlação (maior formalidade em locais com educação). |\n",
    "| **Toxicidade não correlacionada com origem** | **Iguais/Aproximados** | Relatório já mencionava que risco não dependia do peso/origem. |\n",
    "| **Destinos preocupantes (lixões/rios predominantes, reciclagem baixa)** | **Iguais/Aproximados** | Também destacado no relatório. |\n",
    "| **Recomendações estratégicas (governo, itens críticos, educação, economicidade)** | **Iguais/Aproximados** | Já aparecem em forma muito similar no relatório. |\n",
    "| **Análises avançadas (temporal, idade do dispositivo, cluster, predição, custo-benefício, segmentação)** | **Novo** | Relatório não detalhou essas metodologias. |\n"
   ]
  },
  {
   "cell_type": "code",
   "execution_count": null,
   "id": "c61b9970-eb53-4650-b6b6-15c7bd3c2fef",
   "metadata": {},
   "outputs": [],
   "source": []
  }
 ],
 "metadata": {
  "kernelspec": {
   "display_name": "Python 3 (ipykernel)",
   "language": "python",
   "name": "python3"
  },
  "language_info": {
   "codemirror_mode": {
    "name": "ipython",
    "version": 3
   },
   "file_extension": ".py",
   "mimetype": "text/x-python",
   "name": "python",
   "nbconvert_exporter": "python",
   "pygments_lexer": "ipython3",
   "version": "3.9.5"
  }
 },
 "nbformat": 4,
 "nbformat_minor": 5
}
