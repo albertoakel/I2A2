{
 "cells": [
  {
   "cell_type": "code",
   "execution_count": 2,
   "id": "70fa2b85-2d45-4a8f-89a5-5110824b3457",
   "metadata": {},
   "outputs": [
    {
     "name": "stdout",
     "output_type": "stream",
     "text": [
      "Coordenadas de Belém: Latitude=-1.45, Longitude=-48.47\n",
      "Coordenadas de Ananindeua: Latitude=-1.37, Longitude=-48.40\n",
      "Coordenadas de Santarém: Latitude=-2.44, Longitude=-54.70\n",
      "\n",
      "Coordenadas encontradas: {'Belém': (-1.45056, -48.4682453), 'Ananindeua': (-1.374035, -48.4016623), 'Santarém': (-2.438489, -54.699611)}\n"
     ]
    },
    {
     "ename": "ModuleNotFoundError",
     "evalue": "No module named 'geopandas'",
     "output_type": "error",
     "traceback": [
      "\u001b[0;31m---------------------------------------------------------------------------\u001b[0m",
      "\u001b[0;31mModuleNotFoundError\u001b[0m                       Traceback (most recent call last)",
      "Cell \u001b[0;32mIn[2], line 23\u001b[0m\n\u001b[1;32m     19\u001b[0m         \u001b[38;5;28mprint\u001b[39m(\u001b[38;5;124mf\u001b[39m\u001b[38;5;124m\"\u001b[39m\u001b[38;5;124mNão foi possível encontrar as coordenadas de \u001b[39m\u001b[38;5;132;01m{\u001b[39;00mmunicipio\u001b[38;5;132;01m}\u001b[39;00m\u001b[38;5;124m\"\u001b[39m)\n\u001b[1;32m     21\u001b[0m \u001b[38;5;28mprint\u001b[39m(\u001b[38;5;124m\"\u001b[39m\u001b[38;5;130;01m\\n\u001b[39;00m\u001b[38;5;124mCoordenadas encontradas:\u001b[39m\u001b[38;5;124m\"\u001b[39m, coordenadas)\n\u001b[0;32m---> 23\u001b[0m \u001b[38;5;28;01mimport\u001b[39;00m\u001b[38;5;250m \u001b[39m\u001b[38;5;21;01mgeopandas\u001b[39;00m\u001b[38;5;250m \u001b[39m\u001b[38;5;28;01mas\u001b[39;00m\u001b[38;5;250m \u001b[39m\u001b[38;5;21;01mgpd\u001b[39;00m\n\u001b[1;32m     24\u001b[0m \u001b[38;5;28;01mfrom\u001b[39;00m\u001b[38;5;250m \u001b[39m\u001b[38;5;21;01mshapely\u001b[39;00m\u001b[38;5;21;01m.\u001b[39;00m\u001b[38;5;21;01mgeometry\u001b[39;00m\u001b[38;5;250m \u001b[39m\u001b[38;5;28;01mimport\u001b[39;00m Point\n\u001b[1;32m     26\u001b[0m geometry \u001b[38;5;241m=\u001b[39m [Point(lon, lat) \u001b[38;5;28;01mfor\u001b[39;00m lat, lon \u001b[38;5;129;01min\u001b[39;00m coordenadas\u001b[38;5;241m.\u001b[39mvalues()]\n",
      "\u001b[0;31mModuleNotFoundError\u001b[0m: No module named 'geopandas'"
     ]
    }
   ],
   "source": [
    "from geopy.geocoders import Nominatim\n",
    "\n",
    "def get_coordinates(city_name, state='Pará', country='Brasil'):\n",
    "    geolocator = Nominatim(user_agent=\"my_geocoder\")\n",
    "    location = geolocator.geocode(f\"{city_name}, {state}, {country}\")\n",
    "    if location:\n",
    "        return location.latitude, location.longitude\n",
    "    else:\n",
    "        return None, None\n",
    "\n",
    "municipios = ['Belém', 'Ananindeua', 'Santarém']  # Sua lista de municípios\n",
    "coordenadas = {}\n",
    "for municipio in municipios:\n",
    "    lat, lon = get_coordinates(municipio)\n",
    "    if lat and lon:\n",
    "        coordenadas[municipio] = (lat, lon)\n",
    "        print(f\"Coordenadas de {municipio}: Latitude={lat:.2f}, Longitude={lon:.2f}\")\n",
    "    else:\n",
    "        print(f\"Não foi possível encontrar as coordenadas de {municipio}\")\n",
    "\n",
    "print(\"\\nCoordenadas encontradas:\", coordenadas)\n",
    "\n",
    "import geopandas as gpd\n",
    "from shapely.geometry import Point\n",
    "\n",
    "geometry = [Point(lon, lat) for lat, lon in coordenadas.values()]\n",
    "municipios_df = gpd.GeoDataFrame(list(coordenadas.keys()), geometry=geometry, columns=['Município'])\n",
    "print(\"\\nGeoDataFrame criado:\\n\", municipios_df)"
   ]
  },
  {
   "cell_type": "code",
   "execution_count": null,
   "id": "ccf68d5e-9635-4a38-aab4-0c988e574c59",
   "metadata": {},
   "outputs": [],
   "source": []
  }
 ],
 "metadata": {
  "kernelspec": {
   "display_name": "Python 3 (ipykernel)",
   "language": "python",
   "name": "python3"
  },
  "language_info": {
   "codemirror_mode": {
    "name": "ipython",
    "version": 3
   },
   "file_extension": ".py",
   "mimetype": "text/x-python",
   "name": "python",
   "nbconvert_exporter": "python",
   "pygments_lexer": "ipython3",
   "version": "3.9.5"
  }
 },
 "nbformat": 4,
 "nbformat_minor": 5
}
