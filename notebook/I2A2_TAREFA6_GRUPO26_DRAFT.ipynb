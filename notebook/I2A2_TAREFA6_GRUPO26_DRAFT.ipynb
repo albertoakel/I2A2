{
 "cells": [
  {
   "cell_type": "markdown",
   "metadata": {
    "id": "YiSikK__wiqY"
   },
   "source": [
    "# **&#9776; DESAFIO VI**\n",
    "---"
   ]
  },
  {
   "cell_type": "markdown",
   "metadata": {
    "id": "PeOlLahi9dH5"
   },
   "source": [
    "# **:: Leitura Inicial**"
   ]
  },
  {
   "cell_type": "markdown",
   "metadata": {
    "id": "-pv2lqp59G-5"
   },
   "source": [
    "<h4 align=\"justify\">Para o Desafio 6, todos os grupos deverão realizar a leitura do texto abaixo como parte do momento de reflexão. Para acessar o conteúdo, clique no link disponibilizado a seguir.</h4>\n",
    "<a href=\"https://cop.dol.com.br/amazonia/o-que-fazer-com-aquele-eletronico-que-nao-serve-mais/7682/\" target=\"_blank\">Saiba o que fazer com aquele eletrônico que não serve mais</a>"
   ]
  },
  {
   "cell_type": "markdown",
   "metadata": {
    "id": "RgrPBXW1CGJ4"
   },
   "source": [
    "# **:: Contextualização do Desafio**"
   ]
  },
  {
   "cell_type": "markdown",
   "metadata": {
    "id": "aQRU3qQ1COIL"
   },
   "source": [
    "<h4 align=\"justify\">A Amazônia é conhecida mundialmente por sua biodiversidade e pela importância vital para o equilíbrio climático do planeta. No entanto, para além do desmatamento e da poluição dos rios, existe uma ameaça crescente e silenciosa que também chega à região: o lixo eletrônico. Computadores, celulares, televisores, pilhas e baterias descartados de forma incorreta liberam metais pesados, como mercúrio, chumbo e cádmio, contaminando solo, rios e entrando na cadeia alimentar que sustenta populações inteiras.</h4>\n",
    "<h4 align=\"justify\">Esse problema não é exclusivo da Amazônia, mas ganha contornos mais graves no território amazônico, onde a logística de transporte e a ausência de infraestrutura adequada tornam o descarte ainda mais desafiador. Muitas vezes, equipamentos quebrados acabam abandonados em áreas urbanas, lixões ou até mesmo despejados em rios, ampliando os riscos ambientais e de saúde pública.</h4>\n",
    "<h4 align=\"justify\">Relatórios internacionais já apontam o Brasil como um dos maiores produtores de lixo eletrônico do mundo, com índices de reciclagem muito abaixo do ideal. Dentro desse cenário, o papel dos Tecnoguardas da Amazônia é analisar os dados disponíveis e propor soluções baseadas em evidências, que ajudem a transformar informação em ação prática para reduzir os danos ambientais.</h4>\n",
    "<h4 align=\"justify\">Para enfrentar esse desafio, vocês receberão uma base de dados fictícia inspirada em situações reais de descarte de lixo eletrônico na Amazônia. O dataset contém informações sobre diferentes tipos de eletrônicos descartados, suas origens, possíveis destinos, além de indicadores socioambientais. Porém, como ocorre na vida real, esses dados não estão limpos: há registros incompletos, duplicados, inconsistentes e com ruídos que dificultarão a análise.</h4>\n",
    "<h4 align=\"justify\">A missão exige que vocês usem todas as habilidades adquiridas no Bloco 4 – Manipulação e Visualização de Dados. Será necessário trabalhar com Pandas para explorar, tratar e transformar os dados; aplicar agrupamentos e agregações para identificar padrões relevantes; e utilizar bibliotecas de visualização como Matplotlib e Seaborn para comunicar insights de maneira clara e impactante.</h4>\n",
    "<h4 align=\"justify\">A dificuldade não estará apenas na manipulação dos dados, mas também em interpretar o que eles significam em termos ambientais e sociais. Como bons Tecnoguardas, vocês devem ser capazes de enxergar além dos números: perceber tendências, apontar riscos e até sugerir ações preventivas que poderiam ser aplicadas por governos, ONGs ou comunidades locais.</h4>\n",
    "<h4 align=\"justify\">O <b>Desafio 6 é um desafio de nível elevado</b> porque vai exigir resiliência, pensamento crítico e criatividade. Não será suficiente aplicar funções básicas de Pandas ou gerar gráficos simples. Vocês precisarão testar hipóteses, organizar relatórios visuais coerentes e lidar com a frustração de trabalhar com dados imperfeitos — exatamente como ocorre no mundo real da ciência de dados aplicada à sustentabilidade.</h4>\n",
    "<h4 align=\"justify\">Ao final, o objetivo é que cada equipe consiga <b>apresentar um diagnóstico robusto sobre o cenário do lixo eletrônico na Amazônia, baseado na base fornecida</b>. Esse diagnóstico deve se apoiar em análises exploratórias profundas, combinações de variáveis, comparações entre grupos e visualizações poderosas, capazes de sensibilizar qualquer tomador de decisão sobre a urgência de enfrentar o problema.</h4>"
   ]
  },
  {
   "cell_type": "markdown",
   "metadata": {
    "id": "_LHOBIx_aMbR"
   },
   "source": [
    "# **:: Critério de Avaliação do Trabalho em Grupo**"
   ]
  },
  {
   "cell_type": "markdown",
   "metadata": {
    "id": "gYxiZ_YNegKn"
   },
   "source": [
    "## **Critérios (0–100)**\n",
    "\n",
    "**Carregamento, EDA e diagnóstico inicial (10 pts)**\n",
    "\n",
    "&bullet; Lê corretamente o CSV; mostra shape, info(), estatísticas e contagem de NaN/duplicatas (6).\n",
    "\n",
    "&bullet; Comentários iniciais claros sobre qualidade do dado (4).\n",
    "\n",
    "**Limpeza e padronização (12 pts)**\n",
    "\n",
    "&bullet; Padroniza categorias (ex.: capitalização/acentos), corrige inconsistências e remove duplicatas com justificativa (7).\n",
    "\n",
    "&bullet; Explica decisões (ex.: quando dropar/ imputar) (5).\n",
    "\n",
    "**Tratamento de missing values (10 pts)**\n",
    "\n",
    "&bullet; Estratégias coerentes por coluna (imputação/dropar/flag) (6).\n",
    "\n",
    "&bullet; Justifica impacto nas análises subsequentes (4).\n",
    "\n",
    "**Agrupamentos e agregações (12 pts)**\n",
    "\n",
    "&bullet; Uso correto de groupby / pivot_table para métricas pedidas (7).\n",
    "\n",
    "&bullet; Ordenação, formatação e interpretação dos resultados (5).\n",
    "\n",
    "**Análises cruzadas e tabelas de contingência (8 pts)**\n",
    "\n",
    "&bullet; Cruza variáveis-chave (tipo × destino, origem × tipo) com proporções (5).\n",
    "\n",
    "&bullet; Discute padrões relevantes (3).\n",
    "\n",
    "**Análise temporal/exploratória avançada (8 pts)**\n",
    "\n",
    "&bullet; Série temporal/mês/ano, suavização (média móvel) quando aplicável (5).\n",
    "\n",
    "&bullet; Interpretação de sazonalidade/tendências (3).\n",
    "\n",
    "**Visualização (Matplotlib/Seaborn) (14 pts)**\n",
    "\n",
    "&bullet; Escolha adequada de gráficos (barras, heatmap, box/violin, linhas) com rótulos, legendas, unidades e títulos (8).\n",
    "\n",
    "&bullet; Legibilidade e estética (paleta consistente, grid/opcional, tamanho) (3).\n",
    "\n",
    "&bullet; Evita “chartjunk”, eixos corretos/escala (3).\n",
    "\n",
    "**Detecção e discussão de outliers (6 pts)**\n",
    "\n",
    "&bullet; Identifica outliers (ex.: boxplot/IQR/z-score) (3).\n",
    "\n",
    "&bullet; Discute possíveis causas e impactos (3).\n",
    "\n",
    "**Qualidade do código e reprodutibilidade (10 pts)**\n",
    "\n",
    "&bullet; Notebook executa do topo ao fim, sem erros; células ordenadas; semente quando necessário (5).\n",
    "\n",
    "&bullet; &bullet; Código claro, funções auxiliares quando útil, comentários objetivos, sem “células mortas” (5).\n",
    "\n",
    "**Insight integrador e proposta prática (10 pts)**\n",
    "\n",
    "&bullet; Integra achados das Atividades 1–9 para gerar novo insight consistente (6).\n",
    "\n",
    "&bullet; Proposta acionável coerente com o contexto amazônico (4)."
   ]
  },
  {
   "cell_type": "markdown",
   "metadata": {
    "id": "rIJeq6M8fkpl"
   },
   "source": [
    "## **Formato e nome do arquivo (obrigatório)**\n",
    "\n",
    "Entregar notebook Colab no formato: I2A2_TAREFA6_GRUPOX.ipynb, trocando X pelo número do grupo.\n",
    "\n",
    "&bullet; Ex.: <b>grupo 23</b> → I2A2_TAREFA6_<b>GRUPO23</b>.ipynb\n",
    "\n",
    "&bullet; Ex.: <b>grupo 6</b> → I2A2_<b>TAREFA6_GRUPO6</b>.ipynb\n",
    "\n",
    "O nome deve estar correto no topo do notebook (título/primeira célula) e no arquivo enviado."
   ]
  },
  {
   "cell_type": "markdown",
   "metadata": {
    "id": "HP-_osWzgAPU"
   },
   "source": [
    "## **Regras eliminatórias (qualquer uma ⇒ eliminação)**\n",
    "\n",
    "&bullet; Qualquer atividade em branco ou sem saída verificável\n",
    "\n",
    "&bullet; Ausência de visualizações exigidas nas atividades 3, 6, 7, 9 (quando pedidas)\n",
    "\n",
    "&bullet; Não usar Pandas + Matplotlib/Seaborn conforme o Bloco 4\n",
    "\n",
    "&bullet; Indícios de plágio flagrante entre grupos (mesmo código/texto sem citação)\n",
    "\n",
    "&bullet; Após inserir os códigos nos campos destinados, o arquivo deverá ser baixado no formato padrão do Google Colab (.ipynb) e enviado para **challenges@i2a2.academy**  até o dia **7 de setembro de 2025 (domingo)**\n",
    "\n",
    "&bullet; Ressalta-se que a não entrega da atividade **até às 23h59min59s** do dia **7 de setembro de 2025** implicará na **eliminação imediata** do curso\n",
    "\n",
    "&bullet; O assunto do email a ser encaminhado será **desafio6_i2a2**"
   ]
  },
  {
   "cell_type": "markdown",
   "metadata": {
    "id": "GZu7iRWPTKHX"
   },
   "source": [
    "# **:: Estrutura da Base de Dados**"
   ]
  },
  {
   "cell_type": "markdown",
   "metadata": {
    "id": "ikz4_g_CTOHN"
   },
   "source": [
    "### A base fictícia conterá 150 instâncias com as seguintes variáveis:\n",
    "\n",
    "\n",
    "**ID_Registro** – Identificador único\n",
    "\n",
    "**Tipo_Eletronico** – Categoria do item (celular, computador, TV, bateria, etc.)\n",
    "\n",
    "**Ano_Fabricacao** – Ano de fabricação do dispositivo\n",
    "\n",
    "**Origem** – Origem do descarte (urbana, rural, industrial, governamental)\n",
    "\n",
    "**Destino_Final** – Local de descarte (cooperativa, lixão, reciclagem formal, rio, aterro controlado)\n",
    "\n",
    "**Peso_kg** – Peso aproximado do equipamento\n",
    "\n",
    "**Nivel_Toxico** – Grau de toxicidade (baixo, médio, alto, crítico)\n",
    "\n",
    "**Custo_Reciclagem_R$** – Estimativa de custo de reciclagem"
   ]
  },
  {
   "cell_type": "markdown",
   "metadata": {
    "id": "_n-6JhhgT8D5"
   },
   "source": [
    "# **:: Base de Dados**"
   ]
  },
  {
   "cell_type": "markdown",
   "metadata": {
    "id": "4YUT18taVzPc"
   },
   "source": [
    "<h4 align=\"justify\">O dataset está disponível para download através do link a seguir:</h4>\n",
    "<h4 align=\"justify\"><a DOWNLOAD href=\"https://drive.google.com/file/d/1mZI1yIT5yJUpw-TWi7du3NfOoaSdT7rt/view?usp=drive_link\" target=\"_blank\" download=\"desafio6_lixo_eletronico.csv\">desafio6_lixo_eletronico.csv</a></h4>"
   ]
  },
  {
   "cell_type": "markdown",
   "metadata": {
    "id": "Gap3E8utXO6d"
   },
   "source": [
    "## 1. Exploração Inicial dos Dados"
   ]
  },
  {
   "cell_type": "markdown",
   "metadata": {
    "id": "hKjCo_wAXTji"
   },
   "source": [
    "<h4 align=\"justify\">Carregue a base \"desafio6_lixo_eletronico.csv\" em um DataFrame do Pandas, faça uma análise exploratória (shape, tipos de variáveis, estatísticas descritivas) e apresente o total de valores ausentes e duplicados.</h4>"
   ]
  },
  {
   "cell_type": "code",
   "execution_count": 110,
   "metadata": {
    "id": "kctqMs3zX4wQ"
   },
   "outputs": [
    {
     "data": {
      "text/html": [
       "<div>\n",
       "<style scoped>\n",
       "    .dataframe tbody tr th:only-of-type {\n",
       "        vertical-align: middle;\n",
       "    }\n",
       "\n",
       "    .dataframe tbody tr th {\n",
       "        vertical-align: top;\n",
       "    }\n",
       "\n",
       "    .dataframe thead th {\n",
       "        text-align: right;\n",
       "    }\n",
       "</style>\n",
       "<table border=\"1\" class=\"dataframe\">\n",
       "  <thead>\n",
       "    <tr style=\"text-align: right;\">\n",
       "      <th></th>\n",
       "      <th>ID_Registro</th>\n",
       "      <th>Tipo_Eletronico</th>\n",
       "      <th>Ano_Fabricacao</th>\n",
       "      <th>Origem</th>\n",
       "      <th>Destino_Final</th>\n",
       "      <th>Peso_kg</th>\n",
       "      <th>Nivel_Toxico</th>\n",
       "      <th>Custo_Reciclagem_R$</th>\n",
       "    </tr>\n",
       "  </thead>\n",
       "  <tbody>\n",
       "    <tr>\n",
       "      <th>0</th>\n",
       "      <td>1</td>\n",
       "      <td>Impressora</td>\n",
       "      <td>2006</td>\n",
       "      <td>Urbana</td>\n",
       "      <td>Aterro Controlado</td>\n",
       "      <td>30.95</td>\n",
       "      <td>Alto</td>\n",
       "      <td>122.38</td>\n",
       "    </tr>\n",
       "    <tr>\n",
       "      <th>1</th>\n",
       "      <td>2</td>\n",
       "      <td>Bateria</td>\n",
       "      <td>2002</td>\n",
       "      <td>Urbana</td>\n",
       "      <td>Aterro Controlado</td>\n",
       "      <td>16.89</td>\n",
       "      <td>Alto</td>\n",
       "      <td>48.65</td>\n",
       "    </tr>\n",
       "    <tr>\n",
       "      <th>2</th>\n",
       "      <td>3</td>\n",
       "      <td>Geladeira</td>\n",
       "      <td>2016</td>\n",
       "      <td>Governamental</td>\n",
       "      <td>Cooperativa</td>\n",
       "      <td>32.82</td>\n",
       "      <td>Baixo</td>\n",
       "      <td>165.25</td>\n",
       "    </tr>\n",
       "    <tr>\n",
       "      <th>3</th>\n",
       "      <td>4</td>\n",
       "      <td>Impressora</td>\n",
       "      <td>2021</td>\n",
       "      <td>Governamental</td>\n",
       "      <td>Reciclagem Formal</td>\n",
       "      <td>19.33</td>\n",
       "      <td>Baixo</td>\n",
       "      <td>72.29</td>\n",
       "    </tr>\n",
       "    <tr>\n",
       "      <th>4</th>\n",
       "      <td>5</td>\n",
       "      <td>TV</td>\n",
       "      <td>1997</td>\n",
       "      <td>Industrial</td>\n",
       "      <td>Lixão</td>\n",
       "      <td>34.11</td>\n",
       "      <td>Baixo</td>\n",
       "      <td>72.79</td>\n",
       "    </tr>\n",
       "  </tbody>\n",
       "</table>\n",
       "</div>"
      ],
      "text/plain": [
       "   ID_Registro Tipo_Eletronico  Ano_Fabricacao         Origem  \\\n",
       "0            1      Impressora            2006         Urbana   \n",
       "1            2         Bateria            2002         Urbana   \n",
       "2            3       Geladeira            2016  Governamental   \n",
       "3            4      Impressora            2021  Governamental   \n",
       "4            5              TV            1997     Industrial   \n",
       "\n",
       "       Destino_Final  Peso_kg Nivel_Toxico  Custo_Reciclagem_R$  \n",
       "0  Aterro Controlado    30.95         Alto               122.38  \n",
       "1  Aterro Controlado    16.89         Alto                48.65  \n",
       "2        Cooperativa    32.82        Baixo               165.25  \n",
       "3  Reciclagem Formal    19.33        Baixo                72.29  \n",
       "4              Lixão    34.11        Baixo                72.79  "
      ]
     },
     "metadata": {},
     "output_type": "display_data"
    },
    {
     "name": "stdout",
     "output_type": "stream",
     "text": [
      "<class 'pandas.core.frame.DataFrame'>\n",
      "RangeIndex: 150 entries, 0 to 149\n",
      "Data columns (total 8 columns):\n",
      " #   Column               Non-Null Count  Dtype  \n",
      "---  ------               --------------  -----  \n",
      " 0   ID_Registro          150 non-null    int64  \n",
      " 1   Tipo_Eletronico      135 non-null    object \n",
      " 2   Ano_Fabricacao       150 non-null    int64  \n",
      " 3   Origem               135 non-null    object \n",
      " 4   Destino_Final        135 non-null    object \n",
      " 5   Peso_kg              135 non-null    float64\n",
      " 6   Nivel_Toxico         150 non-null    object \n",
      " 7   Custo_Reciclagem_R$  135 non-null    float64\n",
      "dtypes: float64(2), int64(2), object(4)\n",
      "memory usage: 9.5+ KB\n"
     ]
    },
    {
     "data": {
      "text/plain": [
       "None"
      ]
     },
     "metadata": {},
     "output_type": "display_data"
    },
    {
     "name": "stdout",
     "output_type": "stream",
     "text": [
      "Existem duplicatas? False\n",
      "Total de duplicatas: 0\n",
      "--------------------------------------\n",
      "Existem Nulos? True\n",
      "Total Nulos: ID_Registro             0\n",
      "Tipo_Eletronico        15\n",
      "Ano_Fabricacao          0\n",
      "Origem                 15\n",
      "Destino_Final          15\n",
      "Peso_kg                15\n",
      "Nivel_Toxico            0\n",
      "Custo_Reciclagem_R$    15\n",
      "dtype: int64\n",
      "Total Nulos            75\n"
     ]
    }
   ],
   "source": [
    "import pandas as pd\n",
    "import numpy as np\n",
    "import matplotlib.pyplot as plt\n",
    "import seaborn as sns\n",
    "\n",
    "\n",
    "df = pd.read_csv('/home/akel/PycharmProjects/I2A2/data/raw/desafio6_lixo_eletronico.csv')\n",
    "display(df.head())\n",
    "\n",
    "# Shape e tipos de variáveis\n",
    "display(df.info())\n",
    "\n",
    "# verificação arquivos duplicados\n",
    "print(\"Existem duplicatas?\", df.duplicated().any())\n",
    "print(\"Total de duplicatas:\", df.duplicated().sum())\n",
    "# verificação arquivos duplicados\n",
    "print('--------------------------------------')\n",
    "print(\"Existem Nulos?\", df.isnull().any().any())\n",
    "print(\"Total Nulos:\", df.isnull().sum())\n",
    "print(\"Total Nulos           \", df.isnull().sum().sum())"
   ]
  },
  {
   "cell_type": "markdown",
   "metadata": {},
   "source": [
    "## 2. Limpeza e Padronização\n",
    "Identifique e trate valores inconsistentes (ex.: \"reciclagem formal\" e \"Reciclagem Formal\"), corrija erros de digitação e padronize todas as colunas categóricas. Em seguida, elimine duplicatas mantendo apenas registros válidos."
   ]
  },
  {
   "cell_type": "markdown",
   "metadata": {},
   "source": [
    "### 2.1 Padronização variaveis categoricas"
   ]
  },
  {
   "cell_type": "code",
   "execution_count": 112,
   "metadata": {},
   "outputs": [
    {
     "name": "stdout",
     "output_type": "stream",
     "text": [
      "['impressora' 'bateria' 'geladeira' 'tv' nan 'computador' 'celular'\n",
      " 'tablet']\n",
      "['urbano' 'governamental' 'industrial' 'rural' nan]\n",
      "['aterro controlado' 'cooperativa' 'reciclagem formal' 'lixão' nan 'rio']\n",
      "['alto' 'baixo' 'médio' 'crítico']\n",
      "Existem duplicatas? False\n"
     ]
    }
   ],
   "source": [
    "# Padronização das variaveis categoricas\n",
    "df['Tipo_Eletronico'] = df['Tipo_Eletronico'].str.lower()\n",
    "df['Origem'] = df['Origem'].str.lower()\n",
    "df['Destino_Final'] = df['Destino_Final'].str.lower()\n",
    "df['Nivel_Toxico'] = df['Nivel_Toxico'].str.lower()\n",
    "\n",
    "df['Origem']=df['Origem'].replace({'urbana': 'urbano'})\n",
    "\n",
    "print(df['Tipo_Eletronico'].unique())\n",
    "print(df['Origem'].unique())\n",
    "print(df['Destino_Final'].unique())\n",
    "print(df['Nivel_Toxico'].unique())\n",
    "\n",
    "print(\"Existem duplicatas?\", df.duplicated().any())\n"
   ]
  },
  {
   "cell_type": "code",
   "execution_count": 99,
   "metadata": {},
   "outputs": [
    {
     "name": "stdout",
     "output_type": "stream",
     "text": [
      "Tipo_Eletronico\n",
      "Bateria       25\n",
      "Geladeira     20\n",
      "Computador    20\n",
      "Celular       20\n",
      "Impressora    18\n",
      "Tablet        17\n",
      "TV            14\n",
      "celular        1\n",
      "Name: count, dtype: int64\n",
      "Origem\n",
      "Governamental    0.333333\n",
      "Urbana           0.251852\n",
      "Industrial       0.207407\n",
      "Rural            0.200000\n",
      "urbano           0.007407\n",
      "Name: count, dtype: float64\n",
      "Destino_Final\n",
      "Lixão                0.251852\n",
      "Aterro Controlado    0.222222\n",
      "Rio                  0.207407\n",
      "Cooperativa          0.177778\n",
      "Reciclagem Formal    0.133333\n",
      "reciclagem formal    0.007407\n",
      "Name: count, dtype: float64\n",
      "Nivel_Toxico\n",
      "Alto       41\n",
      "Baixo      40\n",
      "Médio      39\n",
      "Crítico    30\n",
      "Name: count, dtype: int64\n"
     ]
    }
   ],
   "source": [
    "#3-\n",
    "# Frequência por Tipo de Eletrônico\n",
    "freq_tipo = df['Tipo_Eletronico'].value_counts()\n",
    "freq_origem = df['Origem'].value_counts()/135\n",
    "freq_Destino_Final = df['Destino_Final'].value_counts()/135\n",
    "#freq_Peso_kg  = df['Peso_kg'].value_counts()\n",
    "freq_Nivel_Toxico = df['Nivel_Toxico'].value_counts()\n",
    "\n",
    "print(freq_tipo)\n",
    "print(freq_origem)\n",
    "print(freq_Destino_Final)\n",
    "print(freq_Nivel_Toxico)\n"
   ]
  },
  {
   "cell_type": "code",
   "execution_count": 81,
   "metadata": {},
   "outputs": [
    {
     "name": "stdout",
     "output_type": "stream",
     "text": [
      "Existem duplicatas? False\n",
      "Total de duplicatas: 0\n",
      "--------------------------------------\n",
      "Existem Nulos? True\n",
      "Total Nulos: ID_Registro             0\n",
      "Tipo_Eletronico        15\n",
      "Ano_Fabricacao          0\n",
      "Origem                 15\n",
      "Destino_Final          15\n",
      "Peso_kg                15\n",
      "Nivel_Toxico            0\n",
      "Custo_Reciclagem_R$    15\n",
      "dtype: int64\n",
      "Total Nulos            75\n"
     ]
    }
   ],
   "source": [
    "# verificação arquivos duplicados\n",
    "print(\"Existem duplicatas?\", df.duplicated().any())\n",
    "print(\"Total de duplicatas:\", df.duplicated().sum())\n",
    "# verificação arquivos duplicados\n",
    "print('--------------------------------------')\n",
    "print(\"Existem Nulos?\", df.isnull().any().any())\n",
    "print(\"Total Nulos:\", df.isnull().sum())\n",
    "print(\"Total Nulos           \", df.isnull().sum().sum())\n",
    "\n",
    "\n"
   ]
  },
  {
   "cell_type": "code",
   "execution_count": null,
   "metadata": {},
   "outputs": [],
   "source": []
  }
 ],
 "metadata": {
  "colab": {
   "provenance": []
  },
  "kernelspec": {
   "display_name": "Python 3 (ipykernel)",
   "language": "python",
   "name": "python3"
  },
  "language_info": {
   "codemirror_mode": {
    "name": "ipython",
    "version": 3
   },
   "file_extension": ".py",
   "mimetype": "text/x-python",
   "name": "python",
   "nbconvert_exporter": "python",
   "pygments_lexer": "ipython3",
   "version": "3.9.5"
  }
 },
 "nbformat": 4,
 "nbformat_minor": 4
}
