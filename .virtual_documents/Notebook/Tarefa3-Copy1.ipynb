


import numpy as np
import pandas as pd
from scipy import stats
import matplotlib.pyplot as plt
import seaborn as sns
import plotly.express as px
import warnings
from matplotlib.ticker import MultipleLocator
import time

inicio = time.time()


plt.rcParams["figure.dpi"] = 120
sns.set_style("whitegrid")
pd.set_option('display.width',None)
pd.set_option('display.max_rows', None)

pd.set_option('display.max_colwidth',None)

warnings.filterwarnings("ignore", category=FutureWarning)





data_dir='/home/akel/PycharmProjects/I2A2/data/'
dfc = pd.read_csv(data_dir+'base_climatica.csv')
dfs = pd.read_csv(data_dir+'base_socioeconomica.csv')
display(dfc.head(10))
dfs.head(10)





# Ordenando datas

dfc.sort_values(by='data', inplace=True)
dfs.sort_values(by='data', inplace=True)

# remover linhas duplicadas
dfc.drop_duplicates(inplace=True)
dfs.drop_duplicates(inplace=True)

# organizar variáveis categóricas sim/nao -> 1/0
dfc['variacao_climatica']=dfc['variacao_climatica'].str.lower().map({'sim':1, 'não':0, 'nao':0})
dfs['acesso_agua_potavel']=dfs['acesso_agua_potavel'].str.lower().map({'sim':1, 'não':0, 'nao':0})

# apenas valores positivos, assumior que valores negativos são erros de digitação.
num_dfc_p=dfc.select_dtypes(include=np.number).abs()
num_dfs_p=dfs.select_dtypes(include=np.number).abs()

dfc[num_dfc_p.columns] = num_dfc_p
dfs[num_dfs_p.columns] = num_dfs_p

# resetando os índices
dfc.reset_index(drop=True, inplace=True)
dfs.reset_index(drop=True, inplace=True)

#fc.select_dtypes(include=np.number)





#função para remoção de outliers
def clean_outliers(df, z_threshold=3, iqr_factor=1.5):
    """
    Identifica e remove outliers de um DataFrame  usando múltiplos métodos.
    
    Parâmetros:
    - df: DataFrame com dados climáticos
    - z_threshold: Limiar para o método Z-score (padrão: 3)
    - iqr_factor: Fator para o método IQR (padrão: 1.5)
    
    Retorna:
    - DataFrame limpo sem outliers
    - DataFrame com outliers removidos
    """

    # Cópia do DataFrame original
    df_clean = df.copy()
 
    # Identificação de outliers para cada coluna numérica
    numeric_cols =df.select_dtypes(include=np.floating).columns
    
    outliers_mask = pd.DataFrame(index=df.index, columns=numeric_cols)
    
    for col in numeric_cols:
        # Método Z-score
        z_scores = np.abs(stats.zscore(df_clean[col]))
        z_outliers = z_scores > z_threshold
        
        # Método IQR
        Q1 = df_clean[col].quantile(0.25)
        Q3 = df_clean[col].quantile(0.75)
        IQR = Q3 - Q1
        iqr_outliers = (df_clean[col] < (Q1 - iqr_factor * IQR)) | (df_clean[col] > (Q3 + iqr_factor * IQR))
        
        # Combina os dois métodos
        outliers_mask[col] = z_outliers | iqr_outliers
    
    # 3. Marcar linhas com outliers em múltiplas colunas
    total_outliers = outliers_mask.sum(axis=1)
    rows_to_remove = total_outliers[total_outliers >= 2].index  # Remove se tiver outlier em ≥2 colunas
    
    # 4. Criar DataFrames resultantes
    df_outliers_removed = df_clean.drop(rows_to_remove)
    df_only_outliers = df_clean.loc[rows_to_remove]
    
    return df_outliers_removed, df_only_outliers, numeric_cols 


# Aplicando a função
dfc2, df_outliers, numeric_cols  = clean_outliers(dfc)

# Resultados
print("=== DataFrame Limpo (sem outliers) ===")
print(f"Linhas originais: {len(dfc)}")
print(f"Linhas após limpeza: {len(dfc2)}")
print(f"Outliers removidos: {len(df_outliers)}\n")

dfc['origem'] = 'original'
dfc2['origem'] = 'filter'

# Concatenar os DataFrames
dfcx = pd.concat([dfc, dfc2])

fig, axs = plt.subplots(1, 3, figsize=(12, 4))
sns.boxplot(data=dfcx,x='origem',y='chuvas_reais_mm',ax=axs[0])
axs[0].set_title("chuvas_reais", pad=12)

sns.boxplot(data=dfcx,x='origem',y='temperatura_media_C',ax=axs[1])
axs[1].set_title("temperatura media", pad=12)

sns.boxplot(data=dfcx,x='origem',y='indice_umidade_solo',ax=axs[2])
axs[2].set_title("indice umidade solo", pad=12)
plt.tight_layout(rect=[0, 0, 1, 0.96])
plt.show()
nulos = pd.DataFrame(dfc2.iloc[:,1:6].isnull().sum()).T
nulos.index = ['nulls']
tipos = pd.DataFrame(dfc2.iloc[:,1:6].dtypes).T
tipos.index = ['types']

descricao_full = pd.concat([tipos, nulos,dfc2.describe()])
descricao_full





# Aplicando a função
dfs2, df_outliers, numeric_cols  = clean_outliers(dfs)

# Resultados
print("=== DataFrame Limpo (sem outliers) ===")
print(f"Linhas originais: {len(dfs)}")
print(f"Linhas após limpeza: {len(dfs2)}")
print(f"Outliers removidos: {len(df_outliers)}\n")

dfs['origem'] = 'original'
dfs2['origem'] = 'filter'

# Concatenar os DataFrames
dfsx = pd.concat([dfs, dfs2])

fig, axs = plt.subplots(1, 3, figsize=(12, 4))
sns.boxplot(data=dfsx,x='origem',y='volume_producao_tons',ax=axs[0])
axs[0].set_title("volume_producao_tons", pad=12)
axs[0].set_yscale('log')

sns.boxplot(data=dfsx,x='origem',y='incidencia_doencas',ax=axs[1])
axs[1].set_title("incidencia_doencas", pad=12)
axs[1].set_yscale('log')

sns.boxplot(data=dfsx,x='origem',y='indicador_seguranca_alimentar',ax=axs[2])
axs[2].set_title("indicador_seguranca_alimentar", pad=12)
plt.tight_layout(rect=[0, 0, 1, 0.96])
plt.show()
nulos = pd.DataFrame(dfs2.iloc[:,1:5].isnull().sum()).T
nulos.index = ['nulls']
tipos = pd.DataFrame(dfs2.iloc[:,1:5].dtypes).T
tipos.index = ['types']

descricao_full = pd.concat([tipos, nulos,dfs2.describe()])
display(descricao_full)









plt.figure(figsize=(12, 16))
# Subplot 1: Chuvas Previstas
plt.subplot(3, 1, 1)
plt.plot(dfc2['data'].values, dfc2['chuvas_previstas_mm'].values, 
         'b-', marker='o', label='Chuvas Previstas (mm)')
plt.title('Chuvas Previstas ao Longo do Tempo')
plt.ylabel('mm')
plt.grid(True)
plt.legend()

# Subplot 2: Chuvas Reais
#plt.subplot(3, 1, 1)
plt.plot(dfc2['data'].values, dfc2['chuvas_reais_mm'].values, 
         'g-', marker='o', label='Chuvas Reais (mm)')
plt.title('Chuvas Reais ao Longo do Tempo')
plt.ylabel('mm')
plt.grid(True)
plt.legend()

# Subplot 3: Temperatura Média
plt.subplot(3, 1, 2)
plt.plot(dfc2['data'].values, dfc2['temperatura_media_C'].values, 
         'r-', marker='o', label='Temperatura Média (°C)')
plt.title('Temperatura Média ao Longo do Tempo')
plt.ylabel('°C')
plt.grid(True)
plt.legend()

# Subplot 4: Índice de Umidade do Solo
plt.subplot(3, 1, 3)
plt.plot(dfc2['data'].values, dfc2['indice_umidade_solo'].values, 
         'm-', marker='o', label='Índice Umidade Solo')
plt.title('Índice de Umidade do Solo ao Longo do Tempo')
plt.ylabel('Índice')
plt.xlabel('Data')
plt.grid(True)
plt.legend()



# Formatação do eixo x para todos os subplots
for i in range(1, 4):
    plt.subplot(3, 1, i)
    plt.gca().xaxis.set_major_locator(MultipleLocator(10)) # Um tick a cada 10 unidades

    plt.xticks(rotation=45)

plt.tight_layout()
plt.show()




# # #plt.ylim(0, 400)
# plt.xticks(rotation=45)
#plt.gca().xaxis.set_major_locator(MultipleLocator(10)) # Um tick a cada 10 unidades

# # plt.tight_layout()
# plt.show()

# print("=== Dados Climáticos ===")
# for i in range(20, 50):
#     print(i,dfc2['data'].iloc[i],'--',dfc2['chuvas_reais_mm'].iloc[i],'       ',dfc['data'].iloc[i],'--',dfc['chuvas_reais_mm'].iloc[i])


plt.figure(figsize=(12, 16))

# Subplot 1: Chuvas Previstas
plt.subplot(3, 1, 1)
plt.plot(dfs2['data'].values, dfs2['volume_producao_tons'].values, 
         'b-', marker='o', label='volume (toneladas)')
plt.title('volume_producao_tons')
plt.ylabel('t')
plt.grid(True)
plt.legend()

# Subplot 2: Chuvas Reais
plt.subplot(3, 1, 2)
plt.plot(dfs2['data'].values, dfs2['incidencia_doencas'].values, 
         'g-', marker='o', label='incidencia_doencas')
plt.title('incidencia_doencas')
plt.ylabel('')
plt.grid(True)
plt.legend()

# Subplot 3: Temperatura Média
plt.subplot(3, 1, 3)
plt.plot(dfs2['data'].values, dfs2['indicador_seguranca_alimentar'].values, 
         'r-', marker='o', label='indicador_seguranca_alimentar')
plt.title('indicador_seguranca_alimentar')
plt.ylabel('')
plt.grid(True)
plt.legend()




# Formatação do eixo x para todos os subplots
for i in range(1, 4):
    plt.subplot(3, 1, i)
    plt.gca().xaxis.set_major_locator(MultipleLocator(10)) # Um tick a cada 10 unidades

    plt.xticks(rotation=45)

plt.tight_layout()
plt.show()


import plotly.express as px
import pandas as pd

# Usamos o mesmo dfc2 de exemplo

# Para Plotly Express, é mais fácil se todas as colunas a serem plotadas
# estão em formato "longo" para o facetamento ou múltiplos traces no mesmo eixo Y.
df_long_climatico = dfc2.melt(id_vars=['data'],
                              value_vars=['chuvas_previstas_mm', 'chuvas_reais_mm',
                                          'temperatura_media_C', 'indice_umidade_solo'],
                              var_name='Métrica',
                              value_name='Valor')

# Criar um único gráfico com subplots por linha ('facet_row')
fig_facet = px.line(df_long_climatico, x='data', y='Valor', color='Métrica',
                    facet_row='Métrica',
                    title='Variáveis Climáticas ao Longo do Tempo',
                    labels={'Valor': 'Valor', 'data': 'Data'})

# Ajustar títulos dos eixos Y para cada facet
# Isso é um pouco mais manual com facet_row pois 'Valor' é o nome da coluna no df_long_climatico
fig_facet.for_each_annotation(lambda a: a.update(text=a.text.replace('Métrica=', ''))) # Remove "Métrica=" do título do facet

# Você pode ajustar os rótulos de cada eixo Y individualmente se quiser unidades diferentes
# Isso requer um pouco mais de manipulação do layout do Plotly
# Por exemplo, para um controle fino das unidades por subplot, você pode mapear os títulos dos eixos:
axis_titles = {
    'chuvas_previstas_mm': 'mm',
    'chuvas_reais_mm': 'mm',
    'temperatura_media_C': '°C',
    'indice_umidade_solo': 'Índice'
}

for i, trace in enumerate(fig_facet.data):
    metric = df_long_climatico['Métrica'].unique()[i] # Pega a métrica do trace atual
    fig_facet.update_yaxes(title_text=axis_titles.get(metric, 'Valor'), row=i+1, col=1)

fig_facet.show()


import plotly.graph_objects as go

fig = go.Figure()
fig.add_trace(go.Scatter(x=dfc2['data'], y=dfc2['chuvas_reais_mm'], mode='lines', name='Observado'))
fig.add_trace(go.Scatter(x=dfc['data'], y=dfc['chuvas_reais_mm'], mode='lines', name='Previsto'))

fig.update_layout(title='Série Temporal: Observado vs Previsto',
                  xaxis_title='Data', yaxis_title='Valor',
                  template='plotly_white')
fig.show()


fim = time.time()
print(fim - inicio)
# plt.figure(figsize=(12, 6))
# # Plot da temperatura (linha)
# plt.plot(df_climao['data'].values, df_climao['chuvas_previstas_mm'].values, 
#          color='tab:blue', label='chuvas_previstas_mm', linewidth=2)

# # # Destaque os pontos onde o indicador é "Sim" (com marcadores vermelhos)
# sim_data = df_climao[df_climao['variacao_climatica'] == 'SIM']
# #nao_data = df_climao[df_climao['variacao_climatica'] == 'Sim']

# plt.scatter(sim_data['data'], sim_data['chuvas_previstas_mm'].values, 
#             color='red', label='Evento (Sim)', marker='v', s=100)

# plt.xlabel('Data')
# plt.ylabel('Temperatura (°C)')
# plt.title('Variação de Temperatura com Eventos (Sim/Não)')
# plt.legend()
# plt.grid(True, linestyle='--', alpha=0.7)
# plt.xticks(rotation=45)
# plt.tight_layout()
# plt.show()


