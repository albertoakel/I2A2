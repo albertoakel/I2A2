


import numpy as np
import pandas as pd
from scipy import stats
import matplotlib.pyplot as plt
import seaborn as sns
import plotly.express as px
import warnings
from matplotlib.ticker import MultipleLocator
import time

inicio = time.time()


plt.rcParams["figure.dpi"] = 120
sns.set_style("whitegrid")
pd.set_option('display.width',None)
pd.set_option('display.max_rows', None)

pd.set_option('display.max_colwidth',None)

warnings.filterwarnings("ignore", category=FutureWarning)





data_dir='/home/akel/PycharmProjects/I2A2/data/'
dfc = pd.read_csv(data_dir+'base_climatica.csv')
dfs = pd.read_csv(data_dir+'base_socioeconomica.csv')
display(dfc.head(10))
dfs.head(10)





# Ordenando datas

dfc.sort_values(by='data', inplace=True)
dfs.sort_values(by='data', inplace=True)

# remover linhas duplicadas
dfc.drop_duplicates(inplace=True)
dfs.drop_duplicates(inplace=True)

# organizar variáveis categóricas sim/nao -> 1/0
dfc['variacao_climatica']=dfc['variacao_climatica'].str.lower().map({'sim':1, 'não':0, 'nao':0})
dfs['acesso_agua_potavel']=dfs['acesso_agua_potavel'].str.lower().map({'sim':1, 'não':0, 'nao':0})

# apenas valores positivos, assumior que valores negativos são erros de digitação.
num_dfc_p=dfc.select_dtypes(include=np.number).abs()
num_dfs_p=dfs.select_dtypes(include=np.number).abs()

dfc[num_dfc_p.columns] = num_dfc_p
dfs[num_dfs_p.columns] = num_dfs_p

# resetando os índices
dfc.reset_index(drop=True, inplace=True)
dfs.reset_index(drop=True, inplace=True)

#fc.select_dtypes(include=np.number)





#função para remoção de outliers
def clean_outliers(df, z_threshold=3, iqr_factor=1.5):
    """
    Identifica e remove outliers de um DataFrame  usando múltiplos métodos.
    
    Parâmetros:
    - df: DataFrame com dados climáticos
    - z_threshold: Limiar para o método Z-score (padrão: 3)
    - iqr_factor: Fator para o método IQR (padrão: 1.5)
    
    Retorna:
    - DataFrame limpo sem outliers
    - DataFrame com outliers removidos
    """

    # Cópia do DataFrame original
    df_clean = df.copy()
 
    # Identificação de outliers para cada coluna numérica
    numeric_cols =df.select_dtypes(include=np.floating).columns
    
    outliers_mask = pd.DataFrame(index=df.index, columns=numeric_cols)
    
    for col in numeric_cols:
        # Método Z-score
        z_scores = np.abs(stats.zscore(df_clean[col]))
        z_outliers = z_scores > z_threshold
        
        # Método IQR
        Q1 = df_clean[col].quantile(0.25)
        Q3 = df_clean[col].quantile(0.75)
        IQR = Q3 - Q1
        iqr_outliers = (df_clean[col] < (Q1 - iqr_factor * IQR)) | (df_clean[col] > (Q3 + iqr_factor * IQR))
        
        # Combina os dois métodos
        outliers_mask[col] = z_outliers | iqr_outliers
    
    # 3. Marcar linhas com outliers em múltiplas colunas
    total_outliers = outliers_mask.sum(axis=1)
    rows_to_remove = total_outliers[total_outliers >= 2].index  # Remove se tiver outlier em ≥2 colunas
    
    # 4. Criar DataFrames resultantes
    df_outliers_removed = df_clean.drop(rows_to_remove)
    df_only_outliers = df_clean.loc[rows_to_remove]
    
    return df_outliers_removed, df_only_outliers, numeric_cols 


# Aplicando a função
dfc2, df_outliers, numeric_cols  = clean_outliers(dfc)

# Resultados
print("=== DataFrame Limpo (sem outliers) ===")
print(f"Linhas originais: {len(dfc)}")
print(f"Linhas após limpeza: {len(dfc2)}")
print(f"Outliers removidos: {len(df_outliers)}\n")

dfc['origem'] = 'original'
dfc2['origem'] = 'filter'

# Concatenar os DataFrames
dfcx = pd.concat([dfc, dfc2])

fig, axs = plt.subplots(1, 3, figsize=(12, 4))
sns.boxplot(data=dfcx,x='origem',y='chuvas_reais_mm',ax=axs[0])
axs[0].set_title("chuvas_reais", pad=12)

sns.boxplot(data=dfcx,x='origem',y='temperatura_media_C',ax=axs[1])
axs[1].set_title("temperatura media", pad=12)

sns.boxplot(data=dfcx,x='origem',y='indice_umidade_solo',ax=axs[2])
axs[2].set_title("indice umidade solo", pad=12)
plt.tight_layout(rect=[0, 0, 1, 0.96])
plt.show()
nulos = pd.DataFrame(dfc2.iloc[:,1:6].isnull().sum()).T
nulos.index = ['nulls']
tipos = pd.DataFrame(dfc2.iloc[:,1:6].dtypes).T
tipos.index = ['types']

descricao_full = pd.concat([tipos, nulos,dfc2.describe()])
descricao_full





# Aplicando a função
dfs2, df_outliers, numeric_cols  = clean_outliers(dfs)

# Resultados
print("=== DataFrame Limpo (sem outliers) ===")
print(f"Linhas originais: {len(dfs)}")
print(f"Linhas após limpeza: {len(dfs2)}")
print(f"Outliers removidos: {len(df_outliers)}\n")

dfs['origem'] = 'original'
dfs2['origem'] = 'filter'

# Concatenar os DataFrames
dfsx = pd.concat([dfs, dfs2])

fig, axs = plt.subplots(1, 3, figsize=(12, 4))
sns.boxplot(data=dfsx,x='origem',y='volume_producao_tons',ax=axs[0])
axs[0].set_title("volume_producao_tons", pad=12)
axs[0].set_yscale('log')

sns.boxplot(data=dfsx,x='origem',y='incidencia_doencas',ax=axs[1])
axs[1].set_title("incidencia_doencas", pad=12)
axs[1].set_yscale('log')

sns.boxplot(data=dfsx,x='origem',y='indicador_seguranca_alimentar',ax=axs[2])
axs[2].set_title("indicador_seguranca_alimentar", pad=12)
plt.tight_layout(rect=[0, 0, 1, 0.96])
plt.show()
nulos = pd.DataFrame(dfs2.iloc[:,1:5].isnull().sum()).T
nulos.index = ['nulls']
tipos = pd.DataFrame(dfs2.iloc[:,1:5].dtypes).T
tipos.index = ['types']

descricao_full = pd.concat([tipos, nulos,dfs2.describe()])
display(descricao_full)





import matplotlib.dates as mdates
import matplotlib.ticker as ticker

# Criar figura e subplots
fig, axs = plt.subplots(6, 1, figsize=(12, 12))  # Aumentei a altura para melhor visualização
fig.subplots_adjust(hspace=0)

# Gráfico 1: Chuvas Previstas
axs[0].plot(dfc2['data'].values, dfc2['chuvas_previstas_mm'].values, 
         'k--', markersize=4, label='Chuvas Previstas (mm)')
axs[0].plot(dfc2['data'].values, dfc2['chuvas_reais_mm'].values, 
         'r-', marker='o', markersize=4)
axs[0].set_ylabel('chuvas [mm]')
axs[0].grid(True, alpha=0.3)
axs[0].legend(loc='lower right')

# Formatar o eixo x para mostrar ticks de 10 em 10 dias
axs[0].xaxis.set_major_locator(ticker.MultipleLocator(10))
axs[0].tick_params(axis='x', rotation=45)

# Gráfico 2: Temperatura Média
axs[1].plot(dfc2['data'].values, dfc2['temperatura_media_C'].values,
         'g-', marker='o', markersize=4, label='Temperatura Média (°C)')

axs[1].set_ylabel('Temperatura Média (°C)')
axs[1].grid(True, alpha=0.3)
axs[1].xaxis.set_major_locator(ticker.MultipleLocator(10))
axs[1].tick_params(axis='x', rotation=45)


# Gráfico 3: Índice de Umidade do Solo
axs[2].plot(dfc2['data'].values, dfc2['indice_umidade_solo'].values,
         'b-', marker='o', markersize=4, label='Índice Umidade Solo')
axs[2].set_ylabel('Índice Umidade Solo')
axs[2].set_xlabel('Data')
axs[2].grid(True, alpha=0.3)
axs[2].xaxis.set_major_locator(ticker.MultipleLocator(10))
axs[2].tick_params(axis='x', rotation=45)

#volume_producao_tons	incidencia_doencas	acesso_agua_potavel	indicador_seguranca_alimentar

# Gráfico 4: produção toneladas
axs[3].plot(dfs2['data'].values, dfs2['volume_producao_tons'].values, 
         'orange', marker='x',markersize=4, label='volume_producao_tons')
axs[3].set_ylabel('producao [t]')
axs[3].grid(True, alpha=0.3)
axs[3].xaxis.set_major_locator(ticker.MultipleLocator(10))
axs[3].tick_params(axis='x', rotation=45)

# Gráfico 5: produção toneladas
axs[4].plot(dfs2['data'].values, dfs2['incidencia_doencas'].values, 
         'purple', marker='x',markersize=4, label='incidencia_doencas')
axs[4].set_ylabel('incidencia doencas')
axs[4].grid(True, alpha=0.3)
axs[4].xaxis.set_major_locator(ticker.MultipleLocator(10))
axs[4].tick_params(axis='x', rotation=45)

# Gráfico 5: produção toneladas
axs[5].plot(dfs2['data'].values, dfs2['indicador_seguranca_alimentar'].values, 
         'brown', marker='x',markersize=4, label='indicador_seguranca_alimentar')
axs[5].set_ylabel('seguranca alimentar')
axs[5].grid(True, alpha=0.3)
axs[5].xaxis.set_major_locator(ticker.MultipleLocator(10))
axs[5].tick_params(axis='x', rotation=45)




fim = time.time()
print(fim - inicio)
# plt.figure(figsize=(12, 6))
# # Plot da temperatura (linha)
# plt.plot(df_climao['data'].values, df_climao['chuvas_previstas_mm'].values, 
#          color='tab:blue', label='chuvas_previstas_mm', linewidth=2)

# # # Destaque os pontos onde o indicador é "Sim" (com marcadores vermelhos)
# sim_data = df_climao[df_climao['variacao_climatica'] == 'SIM']
# #nao_data = df_climao[df_climao['variacao_climatica'] == 'Sim']

# plt.scatter(sim_data['data'], sim_data['chuvas_previstas_mm'].values, 
#             color='red', label='Evento (Sim)', marker='v', s=100)

# plt.xlabel('Data')
# plt.ylabel('Temperatura (°C)')
# plt.title('Variação de Temperatura com Eventos (Sim/Não)')
# plt.legend()
# plt.grid(True, linestyle='--', alpha=0.7)
# plt.xticks(rotation=45)
# plt.tight_layout()
# plt.show()




dtype(dfc2)



